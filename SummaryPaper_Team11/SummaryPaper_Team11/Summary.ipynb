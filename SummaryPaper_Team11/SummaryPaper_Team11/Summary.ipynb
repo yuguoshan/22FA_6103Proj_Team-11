{
  "cells": [
    {
      "cell_type": "raw",
      "metadata": {},
      "source": [
        "---\n",
        "title: \"AN ANALYSIS OF PORTUGUESE BANK MARKETING DATA \"\n",
        "author: \"TEAM 11: Anjali Mudgal, Guoshan Yu, Medhasweta Sen\"\n",
        "date: \"December 20, 2022\"\n",
        "subtitle : \"The George Washington University (DATS 6103: An Introduction to Data Mining)\"\n",
        "execute:\n",
        "  echo: false\n",
        "format:\n",
        "  html:\n",
        "    smooth-scroll: true\n",
        "    toc-location: left\n",
        "    code-fold: true\n",
        "    number-sections: true\n",
        "    toc: true\n",
        "    toc-depth: 3\n",
        "    toc-float: true\n",
        "html: \n",
        "    code-tools:\n",
        "      source: true\n",
        "      toggle: false\n",
        "      caption: none\n",
        "---"
      ],
      "id": "fccc2385"
    },
    {
      "cell_type": "code",
      "metadata": {},
      "source": [
        "#| code-fold: true\n",
        "#| code-summary: \"Show the code\"\n",
        "#| "
      ],
      "id": "8738d5ea",
      "execution_count": null,
      "outputs": []
    },
    {
      "cell_type": "markdown",
      "metadata": {},
      "source": [
        "# INTRODUCTION\n",
        "\n",
        "Bank marketing is the practice of attracting and acquiring new customers through traditional media and digital media strategies. The use of these media strategies helps determine what kind of customer is attracted to a certain institutions. This also includes different banking institutions purposefully using different strategies to attract the type of customer they want to do business with.\n",
        "\n",
        "Marketing has evolved from a communication role to a revenue generating role. The consumer has evolved from being a passive recipient of marketing messages to an active participant in the marketing process. Technology has evolved from being a means of communication to a means of data collection and analysis. Data analytics has evolved from being a means of understanding the consumer to a means of understanding the consumer and the institution.\n",
        "\n",
        "Bank marketing strategy is increasingly focused on digital channels, including social media, video, search and connected TV. As bank and credit union marketers strive to promote brand awareness, they need a new way to assess channel ROI and more accurate data to enable personalized offers. Add to that the growing importance of purpose-driven marketing.\n",
        "\n",
        "The relentless pace of digitization is disrupting not only the established order in banking, but bank marketing strategies. Marketers at both traditional institutions and digital disruptors are feeling the pressure.\n",
        "\n",
        "Just as bank marketers begin to master one channel, consumers move to another. Many now toggle between devices on a seemingly infinite number of platforms, making it harder than ever for marketers to pin down the right consumers at the right time in the right place.\n",
        "\n",
        "![](expected-marketing-budget-changes-by-channel.png)\n",
        "\n",
        "## The Data Set\n",
        "\n",
        "The data set used in this analysis is from a Portuguese bank. The data set contains 41,188 observations and 21 variables. The variables include the following:\n",
        "\n",
        "1. - age (numeric)\n",
        "2. - job : type of job (categorical: 'admin.','blue-collar','entrepreneur','housemaid','management','retired','self-employed','services','student','technician','unemployed','unknown')\n",
        "3. - marital : marital status (categorical: 'divorced','married','single','unknown'; note: 'divorced' means divorced or widowed)\n",
        "4. - education (categorical: 'basic.4y','basic.6y','basic.9y','high.school','illiterate','professional.course','university.degree','unknown')\n",
        "5. - default: has credit in default? (categorical: 'no','yes','unknown')\n",
        "6. - housing: has housing loan? (categorical: 'no','yes','unknown')\n",
        "7. - loan: has personal loan? (categorical: 'no','yes','unknown')\n",
        "8. - contact: contact communication type (categorical: 'cellular','telephone')\n",
        "9. - month: last contact month of year (categorical: 'jan', 'feb', 'mar', ..., 'nov', 'dec')\n",
        "10. - day_of_week: last contact day of the week (categorical: 'mon','tue','wed','thu','fri')\n",
        "11. - duration: last contact duration, in seconds (numeric). Important note: this attribute highly affects the output target (e.g., if duration=0 then y='no'). Yet, the duration is not known before a call is performed. Also, after the end of the call y is obviously known. Thus, this input should only be included for benchmark purposes and should be discarded if the intention is to have a realistic predictive model.\n",
        "12. - campaign: number of contacts performed during this campaign and for this client (numeric, includes last contact)\n",
        "13. - pdays: number of days that passed by after the client was last contacted from a previous campaign (numeric; 999 means client was not previously contacted)\n",
        "14. - previous: number of contacts performed before this campaign and for this client (numeric)\n",
        "15. - poutcome: outcome of the previous marketing campaign (categorical: 'failure','nonexistent','success')\n",
        "16. - emp.var.rate: employment variation rate - quarterly indicator (numeric)\n",
        "17. - cons.price.idx: consumer price index - monthly indicator (numeric)\n",
        "18. - cons.conf.idx: consumer confidence index - monthly indicator (numeric)\n",
        "19. - euribor3m: euribor 3 month rate - daily indicator (numeric)\n",
        "20. - nr.employed: number of employees - quarterly indicator (numeric)\n",
        "21. - balance - average yearly balance, in euros (numeric)\n",
        "22. - y - has the client subscribed a term deposit? (binary: 'yes','no')\n",
        "\n",
        "## The SMART Questions\n",
        "![](maxresdefault.jpg)\n",
        "The SMART questions are as follows:\n",
        "\n",
        "1.Relationship between subscribing the term deposit and how much the customer is contacted (last contact, Campaign, Pdays, Previous Number of contacts)\n",
        "\n",
        "2. Find out the financially stable population? Will that affect the outcome?\n",
        "\n",
        "3.Effect of dimensionality reduction on accuracy of the model.\n",
        "\n",
        "4. How are the likelihood of subscriptions affected by social and economic factors?\n",
        "\n",
        "Throughout the paper we would try to answer the questions \n",
        "\n",
        "Importing the required libraries\n"
      ],
      "id": "dc51f723"
    },
    {
      "cell_type": "code",
      "metadata": {},
      "source": [
        "#| code-fold: true\n",
        "#| code-summary: \"Show the code\"\n",
        "\n",
        "import numpy as np \n",
        "import pandas as pd \n",
        "import os \n",
        "import math\n",
        "from math import pi\n",
        "import matplotlib.pyplot as plt\n",
        "%matplotlib inline\n",
        "import warnings\n",
        "from scipy.stats import zscore\n",
        "import scipy.stats as stats\n",
        "import statsmodels.api as sm\n",
        "import statsmodels.formula.api as smf\n",
        "import statsmodels.stats.api as sms\n",
        "import statsmodels.stats.multicomp as mc\n",
        "import statsmodels.stats.outliers_influence as influence\n",
        "import statsmodels.stats.diagnostic as diag\n",
        "import statsmodels.stats.stattools as stattools\n",
        "import statsmodels.stats.anova as anova\n",
        "import statsmodels.stats.weightstats as weightstats\n",
        "import statsmodels.stats.libqsturng as libqsturng\n",
        "import statsmodels.stats.power as power\n",
        "import statsmodels.stats.proportion as proportion\n",
        "import statsmodels.stats.contingency_tables as contingency_tables\n",
        "import statsmodels.stats.multitest as multitest\n",
        "import statsmodels.stats.diagnostic as diagnostic\n",
        "import statsmodels.stats.correlation_tools as correlation_tools\n",
        "from statsmodels.formula.api import ols\n",
        "import researchpy as rp\n",
        "import scipy.stats as stats\n",
        "import seaborn as sns\n",
        "# Import label encoder\n",
        "from sklearn import preprocessing\n",
        "warnings.filterwarnings('ignore')\n",
        "sns.set_theme(style=\"whitegrid\")\n",
        "from sklearn.model_selection import train_test_split\n",
        "from imblearn.over_sampling import SMOTE\n",
        "from sklearn.ensemble import RandomForestClassifier\n",
        "from sklearn.svm import SVC, LinearSVC\n",
        "from sklearn.naive_bayes import GaussianNB\n",
        "from sklearn.neighbors import KNeighborsClassifier\n",
        "from sklearn.preprocessing import scale\n",
        "from sklearn.cluster import KMeans\n",
        "\n",
        "from sklearn.linear_model import LogisticRegression\n",
        "from sklearn import metrics\n",
        "from sklearn.metrics import accuracy_score\n",
        "from sklearn.metrics import confusion_matrix \n",
        "from sklearn.metrics import classification_report\n",
        "from sklearn.feature_selection import RFE\n",
        "from sklearn.tree import DecisionTreeClassifier\n",
        "from matplotlib import pyplot\n",
        "\n",
        "from sklearn.model_selection import GridSearchCV\n",
        "\n",
        "from sklearn.model_selection import cross_validate\n",
        "from sklearn.model_selection import GridSearchCV\n",
        "from sklearn.ensemble import RandomForestClassifier\n",
        "from sklearn import metrics\n",
        "from sklearn.metrics import precision_recall_curve"
      ],
      "id": "417d5369",
      "execution_count": null,
      "outputs": []
    },
    {
      "cell_type": "markdown",
      "metadata": {},
      "source": [
        "## Importing the dataset\n"
      ],
      "id": "ff8383d0"
    },
    {
      "cell_type": "code",
      "metadata": {},
      "source": [
        "#| code-fold: true\n",
        "#| code-summary: \"Show the code\"\n",
        "inputFile = \"Dataset/primary.csv\"\n",
        "df = pd.read_csv(inputFile)"
      ],
      "id": "772b419b",
      "execution_count": null,
      "outputs": []
    },
    {
      "cell_type": "markdown",
      "metadata": {},
      "source": [
        "## Basic Information about the data"
      ],
      "id": "1924bee2"
    },
    {
      "cell_type": "code",
      "metadata": {},
      "source": [
        "#| code-fold: true\n",
        "#| code-summary: \"Show the code\"\n",
        "\n",
        "print(f\"Shape of dataset is : {df.shape}\")\n",
        "print(f\"Columns in dataset \\n {df.info()}\")"
      ],
      "id": "7899dbdd",
      "execution_count": null,
      "outputs": []
    },
    {
      "cell_type": "markdown",
      "metadata": {},
      "source": [
        "# Exploratory Data Analysis (EDA)\n"
      ],
      "id": "f9ca54bd"
    },
    {
      "cell_type": "code",
      "metadata": {},
      "source": [
        "#| code-fold: true\n",
        "#| code-summary: \"Show the code\"\n",
        "\n",
        "def pieChart(x_var,title):\n",
        "    yesNo = df.groupby(x_var).size()\n",
        "    yesNo.plot(kind='pie', title=title, figsize=[8,8],\n",
        "          autopct=lambda p: '{:.2f}%({:.0f})'.format(p,(p/100)*yesNo.sum()))\n",
        "    plt.show()"
      ],
      "id": "55597672",
      "execution_count": null,
      "outputs": []
    },
    {
      "cell_type": "markdown",
      "metadata": {},
      "source": [
        "## Distribution of y(target) variable "
      ],
      "id": "5486540a"
    },
    {
      "cell_type": "code",
      "metadata": {},
      "source": [
        "#| code-fold: true\n",
        "#| code-summary: \"Show the code\"\n",
        "\n",
        "pieChart('y','Percentage of yes and no target(term deposit)in dataset')"
      ],
      "id": "a018e9b5",
      "execution_count": null,
      "outputs": []
    },
    {
      "cell_type": "markdown",
      "metadata": {},
      "source": [
        "We have 45,211 datapoints, if our model predicts only 0 as output, we would still get 88% accuracy, so our dataset is unbalanced which may gives misleading results. Along with the accuracy, we will also consider precision and recall for evaluation. \n",
        "\n",
        "## Missing values and Outliers\n",
        "### Education\n",
        "Here, even though we do not have any missing values but we have 'unknown' and 'other' as categories, so we will first get rid of them. \n",
        "The variables with 'unknown' rows are Education and Contact showned below."
      ],
      "id": "08dd1ea3"
    },
    {
      "cell_type": "code",
      "metadata": {},
      "source": [
        "#| code-fold: true\n",
        "#| code-summary: \"Show the code\"\n",
        "# EDUCATION \n",
        "plt.figure(figsize = (8, 5))\n",
        "sns.countplot(data=df,y='education',hue='y')\n",
        "plt.title(\"Type of education Distribution\")"
      ],
      "id": "81db168c",
      "execution_count": null,
      "outputs": []
    },
    {
      "cell_type": "markdown",
      "metadata": {},
      "source": [
        "### Contact"
      ],
      "id": "017baf2c"
    },
    {
      "cell_type": "code",
      "metadata": {},
      "source": [
        "#| code-fold: true\n",
        "#| code-summary: \"Show the code\"\n",
        "# CONTACT\n",
        "sns.countplot(data=df,y='contact',hue='y')\n",
        "plt.title(\"Type of Contact Distribution\")"
      ],
      "id": "1d15f385",
      "execution_count": null,
      "outputs": []
    },
    {
      "cell_type": "markdown",
      "metadata": {},
      "source": [
        "* since the type of communication(cellular and telephone) is not really a good indicator of subcription, we drop this variable. \n",
        "\n",
        "### Poutcome"
      ],
      "id": "6182e78d"
    },
    {
      "cell_type": "code",
      "metadata": {},
      "source": [
        "#| code-fold: true\n",
        "#| code-summary: \"Show the code\"\n",
        "# POUTCOME\n",
        "pieChart('poutcome','Distribution of poutcome in dataset')\n",
        "df.poutcome.value_counts()\n",
        "df.groupby('poutcome').size()"
      ],
      "id": "c06a0dbf",
      "execution_count": null,
      "outputs": []
    },
    {
      "cell_type": "markdown",
      "metadata": {},
      "source": [
        "There are *36959   unknown* values(82%) and  1840 values with other(4.07% ) category, we will directly drop these columns. \n",
        "\n",
        "## Outliers\n"
      ],
      "id": "3253d25d"
    },
    {
      "cell_type": "code",
      "metadata": {},
      "source": [
        "#| code-fold: true\n",
        "#| code-summary: \"Show the code\"\n",
        "# plotting violen plot for duration and balance \n",
        "\n",
        "f, axes = plt.subplots(1, 2,sharex=True)\n",
        "axes[0].set_title('For duration')\n",
        "sns.violinplot( x='y',y='duration',  split=True, inner=\"quart\", ax=axes[0], data=df)\n",
        "axes[1].set_title('For balance')\n",
        "sns.violinplot( x='y',y='balance',  split=True, inner=\"quart\", ax=axes[1], data=df)\n",
        "sns.despine(left=True)\n",
        "plt.show()"
      ],
      "id": "0bffe769",
      "execution_count": null,
      "outputs": []
    },
    {
      "cell_type": "markdown",
      "metadata": {},
      "source": [
        "* There are outliers in duration and balance so we need to get rid of them. \n",
        "\n",
        "# Data Cleaning\n",
        "\n",
        "* Contact is not useful so we drop it.\n",
        "* In poutcome, we have a lot of 'unknown' and 'other' values so we drop it.  \n",
        "* Day is not giving any relevant infomation so we drop it. \n",
        "* Removing the unknowns from 'job' and 'education' columns.\n",
        "* Remove the outliers from balance and duration.\n",
        "\n",
        "## Dropping the irrelavant columns and missing values  "
      ],
      "id": "879e1791"
    },
    {
      "cell_type": "code",
      "metadata": {},
      "source": [
        "#| code-fold: true\n",
        "#| code-summary: \"Show the code\"\n",
        "#dropping the irrelavant columns\n",
        "clean_data = df.drop(['contact','poutcome','day'],axis=1)\n",
        "\n",
        "#iterating and removing unknown, other values  \n",
        "for i in clean_data.columns:\n",
        "    if clean_data[i].dtype == np.int64:\n",
        "        pass\n",
        "    else:\n",
        "        # printing names and count using loop.\n",
        "        for idx, name in enumerate(clean_data[i].value_counts().index.tolist()):\n",
        "            if name == 'unknown' or name == 'other':\n",
        "                print(f\"for {i}\")\n",
        "                print(f\"{name} : {clean_data[i].value_counts()[idx]}\")\n",
        "                if clean_data[i].value_counts()[idx] < 15000:\n",
        "                    print(f\"dropping rows with value as {name} in {i}\")\n",
        "                    clean_data = clean_data[clean_data[i] != name]"
      ],
      "id": "da96e23e",
      "execution_count": null,
      "outputs": []
    },
    {
      "cell_type": "markdown",
      "metadata": {},
      "source": [
        "## Outlier removal\n",
        "\n",
        "We have outliers in balance and duration, so to get rid of them we would try to remove the enteries few standard deviation away, since from the histograms most of the enteries are around mean only, we are removing the enteries more than 3SD away.\n",
        "\n",
        "### *Balance - Outliers* \n"
      ],
      "id": "10536947"
    },
    {
      "cell_type": "code",
      "metadata": {},
      "source": [
        "standard_deviation = clean_data[['balance']].std()\n",
        "mean = clean_data[['balance']].mean()\n",
        "clean_data['balance_outliers'] = clean_data['balance']\n",
        "clean_data['balance_outliers']= zscore(clean_data['balance_outliers'])\n",
        "print(f\"removing entries before {mean - 3*standard_deviation } and after {mean + 3*standard_deviation }\")\n",
        "three_SD = (clean_data['balance_outliers']>3) | (clean_data['balance_outliers']<-3 )\n",
        "clean_data = clean_data.drop(clean_data[three_SD].index, axis = 0, inplace = False)\n",
        "clean_data = clean_data.drop('balance_outliers', axis=1)"
      ],
      "id": "b7c997e8",
      "execution_count": null,
      "outputs": []
    },
    {
      "cell_type": "markdown",
      "metadata": {},
      "source": [
        "### *Duration - Outliers*\n",
        "\n",
        "Dropping rows where the duration of calls is less than 5sec since that is irrelevant. And also since converting the call duration in minutes rather than seconds makes more sense we would convert it into minutes.\n"
      ],
      "id": "21107d48"
    },
    {
      "cell_type": "code",
      "metadata": {},
      "source": [
        "#| code-fold: true\n",
        "#| code-summary: \"Show the code\"\n",
        "# dropping values\n",
        "\n",
        "less_5 = (clean_data['duration']<5)\n",
        "clean_data = clean_data.drop(clean_data[less_5].index, axis = 0, inplace = False)\n",
        "clean_data['duration'] = clean_data['duration'].apply(lambda n:n/60).round(2)"
      ],
      "id": "e7915f5e",
      "execution_count": null,
      "outputs": []
    },
    {
      "cell_type": "markdown",
      "metadata": {},
      "source": [
        "plotting violen plot for duration and balance after cleaning data"
      ],
      "id": "6ea19097"
    },
    {
      "cell_type": "code",
      "metadata": {},
      "source": [
        "#| code-fold: true\n",
        "#| code-summary: \"Show the code\"\n",
        "#| #| fig-cap: \"Balance and Duration after removing Outliers\"\n",
        "# plotting violen plot for duration and balance after cleaning data\n",
        "\n",
        "f, axes = plt.subplots(1, 2,sharex=True)\n",
        "axes[0].set_title('For duration(in minutes)')\n",
        "sns.violinplot( x='y',y='duration',  split=True, inner=\"quart\", ax=axes[0], data=clean_data)\n",
        "axes[1].set_title('For balance')\n",
        "sns.violinplot( x='y',y='balance',  split=True, inner=\"quart\", ax=axes[1], data=clean_data)\n",
        "sns.despine(left=True)\n",
        "plt.show()"
      ],
      "id": "f9a461c0",
      "execution_count": null,
      "outputs": []
    },
    {
      "cell_type": "markdown",
      "metadata": {},
      "source": [
        "# Data Visualization \n",
        "Let' visualize important relationships between variables now. \n",
        "\n",
        "\n",
        "\n",
        "## SMART Question 1 :\n",
        "Relationship between subscribing the term deposit and how much the customer is contacted (last contact, Campaign, Pdays, Previous Number of contacts)\n",
        "\n",
        "Answer : Based on last contact info only number of contacts performed during this campaign is contributing a lot towards subscription rates. \n",
        "\n",
        "Suggestion: People who are contacted less than 5 times should be targeted more. Also, they could contact in less frequency in order to attract more target customers. \n",
        "The plot below shows the relationship between the number of calls and duration vs subscription\n",
        "\n",
        "### Number of calls versus Duration and affect on subscription\n",
        "\n",
        "Here if we notice, people are more likely to subscribe if the number of calls are less than 5.\n"
      ],
      "id": "4dcfb7a5"
    },
    {
      "cell_type": "code",
      "metadata": {},
      "source": [
        "#| code-fold: true\n",
        "#| code-summary: \"Show the code\"\n",
        "\n",
        "\n",
        "dur_cam = sns.lmplot(x='duration', y='campaign',data = clean_data,\n",
        "                     hue = 'y',\n",
        "                     fit_reg = False,\n",
        "                     scatter_kws={'alpha':0.6}, height =7)\n",
        "\n",
        "plt.axis([0,65,0,65])\n",
        "plt.ylabel('Number of Calls')\n",
        "plt.xlabel('Duration of Calls (Minutes)')\n",
        "plt.title('The Relationship between the Number and Duration of Calls (with y)')\n",
        "\n",
        "# Annotation\n",
        "plt.axhline(y=5, linewidth=2, color=\"k\", linestyle='--')\n",
        "plt.annotate('Higher subscription rate when number of calls <5 ',xytext = (35,13),\n",
        "             arrowprops=dict(color = 'k', width=1),xy=(30,6))\n",
        "plt.show()"
      ],
      "id": "679a7e90",
      "execution_count": null,
      "outputs": []
    },
    {
      "cell_type": "markdown",
      "metadata": {},
      "source": [
        "Checking between pdays and previous as well\n",
        "\n",
        "\n",
        "Here as we can see from the t- test, t\n",
        "\n",
        "13. - pdays: number of days that passed by after the client was last contacted from a previous campaign (numeric; 999 means client was not previously contacted)\n",
        "14. - previous: number of contacts performed before this campaign and for this client (numeric)\n",
        "\n",
        "We can notice from the plot that there is no relationship between subscription with pdays or previous. The datapoints are distrubuted randomly along the axies."
      ],
      "id": "ac3cebe8"
    },
    {
      "cell_type": "code",
      "metadata": {},
      "source": [
        "#| code-fold: true\n",
        "#| code-summary: \"Show the code\"\n",
        "\n",
        "dur_cam = sns.lmplot(x='pdays', y='previous',data = clean_data,\n",
        "                     hue = 'y',\n",
        "                     fit_reg = False,\n",
        "                     scatter_kws={'alpha':0.6}, height =7)\n",
        "\n",
        "# plt.axis([0,65,0,65])\n",
        "plt.ylabel('pdays')\n",
        "plt.xlabel('previous')\n",
        "plt.title('The Relationship between number of contacts  and last contactbefore this campaign (with y)')\n",
        "\n",
        "plt.show()"
      ],
      "id": "347ddf9b",
      "execution_count": null,
      "outputs": []
    },
    {
      "cell_type": "markdown",
      "metadata": {},
      "source": [
        "## Month wise subscription\n"
      ],
      "id": "3a6cc99b"
    },
    {
      "cell_type": "code",
      "metadata": {},
      "source": [
        "#| code-fold: true\n",
        "#| code-summary: \"Show the code\"\n",
        "\n",
        "#converting y values \n",
        "# bankdata['y'] = bankdata['y'].apply(lambda x: 'no' if x == 'yes' else 1)\n",
        "# bankdata['y'] = bankdata['y'].astype('category')\n",
        "\n",
        "#value count for each month\n",
        "month = clean_data['month'].value_counts().rename_axis('month').reset_index(name='counts')\n",
        "#for sequencing the month\n",
        "m1_list=['jan','feb','mar','apr','may','jun','jul','aug','sep','nov','dec']\n",
        "m1=pd.DataFrame(m1_list,columns=['month'])\n",
        "#now the dataset is sequeced\n",
        "month = m1.merge(month)\n",
        "#month - counts\n",
        "#% of people contacted in that month \n",
        "month['Contact Rate'] = month['counts']*100/month['counts'].sum()\n",
        "#percentage of people contacted in that month \n",
        "# y response \n",
        "month_y = pd.crosstab(clean_data['y'],clean_data['month']).apply(lambda x: x/x.sum() * 100)\n",
        "#% of 0 and 1 for each month \n",
        "month_y = month_y.transpose()\n",
        "month_y.rename(columns = {'y':'month',0:'no', 1:'yes'}, inplace = True)\n",
        "\n",
        "# month_y\n",
        "# y | no% | yes%\n",
        "\n",
        "#month = month.merge(month_y)\n",
        "month['yes'] = \" \"\n",
        "month['no'] = \" \"\n",
        "#to make it in sequence \n",
        "def addingCrossTab(): \n",
        "    for i, val in enumerate(m1_list):\n",
        "        #print (i, \",\",val)\n",
        "        month['yes'].iloc[i]=month_y.loc[val].loc['yes']\n",
        "        #print(month_y.loc[val].loc['yes'])\n",
        "        month['no'].iloc[i]=month_y.loc[val].loc['no']\n",
        "        \n",
        "addingCrossTab()  \n",
        "#print(month)      \n",
        "#print(month_y)\n",
        "# month['Subscription Rate'] = month_y['yes']\n",
        "# month['% NotSubscription'] = month_y['no']\n",
        "month.rename(columns = {'yes':'Subscription Rate','no':'NotSubscribed Rate'}, inplace = True)\n",
        "#month.drop('month_int',axis = 1,inplace = True)\n",
        "#print(month)\n",
        "\n",
        "plot_month = month[['month','Subscription Rate','Contact Rate']].plot(x='month',kind ='line',\n",
        "                                                          figsize = (10,6),\n",
        "                                                          marker = 'o')\n",
        "\n",
        "plt.title('Subscription vs. Contact Rate by Month')\n",
        "plt.ylabel('Subscription and Contact Rate')\n",
        "plt.xlabel('Month')"
      ],
      "id": "bad13040",
      "execution_count": null,
      "outputs": []
    },
    {
      "cell_type": "markdown",
      "metadata": {},
      "source": [
        "Maximum percentage of people have subscribed in the month of March but bank is contacting people more in the month of May. \n",
        "\n",
        "**Suggestion**:So it's better to contact customer's based on the subcription rate plot. \n",
        "\n",
        " \n",
        "### SMART Question 7: How are the likelihood of subscriptions affected by social and economic factors?"
      ],
      "id": "65758109"
    },
    {
      "cell_type": "code",
      "metadata": {},
      "source": [
        "month_social_economic = clean_data[['month','cons.conf.idx','emp.var.rate','euribor3m','nr.employed']].groupby(['month']).count().reset_index()\n",
        "month_list= ['jan','feb','mar','apr','may','jun','jul','aug','sep','oct','nov','dec']\n",
        "month_pd = pd.DataFrame(month_list,columns=['month'])\n",
        "month_pd = month_pd.merge(month_social_economic,on='month')\n",
        "print(month_pd)"
      ],
      "id": "0c6c6815",
      "execution_count": null,
      "outputs": []
    },
    {
      "cell_type": "markdown",
      "metadata": {},
      "source": [
        "**Answer** : Based on the above table we can see that there is no distinguishable difference in the month of march or may from rest of all the month, so social and economic factor **do not have major influence** on the outcome. \n",
        "\n",
        "### SMART Question 2\n",
        "Find out the **financially stable** population? Will that affect the outcome?"
      ],
      "id": "952e0002"
    },
    {
      "cell_type": "code",
      "metadata": {},
      "source": [
        "#| code-fold: true\n",
        "#| code-summary: \"Show the code\"\n",
        "data_vis = clean_data.copy()"
      ],
      "id": "abe4e2e2",
      "execution_count": null,
      "outputs": []
    },
    {
      "cell_type": "markdown",
      "metadata": {},
      "source": [
        "We will try to find the financially stable population based on age, jobs, loan and balance. \n",
        "\n",
        "\n",
        "### Loan\n"
      ],
      "id": "a5f09f27"
    },
    {
      "cell_type": "code",
      "metadata": {},
      "source": [
        "# Loan\n",
        "sns.countplot(data=df,y='loan',hue='y')\n",
        "plt.title(\"Type of loan Distribution\")"
      ],
      "id": "09ad10e8",
      "execution_count": null,
      "outputs": []
    },
    {
      "cell_type": "code",
      "metadata": {},
      "source": [
        "# Housing Loan\n",
        "sns.countplot(data=df,y='housing',hue='y')\n",
        "plt.title(\"Type of housing Distribution\")"
      ],
      "id": "75238bb9",
      "execution_count": null,
      "outputs": []
    },
    {
      "cell_type": "markdown",
      "metadata": {},
      "source": [
        "People with housing loans are less likely to subscribe to term deposit but the difference here is not huge. \n"
      ],
      "id": "f2c9330e"
    },
    {
      "cell_type": "code",
      "metadata": {},
      "source": [
        "# DEFAULT\n",
        "sns.countplot(data=df,y='default',hue='y')\n",
        "plt.title(\"Type of default Distribution\")"
      ],
      "id": "ec310e0f",
      "execution_count": null,
      "outputs": []
    },
    {
      "cell_type": "markdown",
      "metadata": {},
      "source": [
        "So people who have not paid back there loans and have credits, have not subcribed to the term deposit. \n",
        "\n",
        "\n",
        "* people who have loans are subscribing to term deposit less. \n",
        "\n",
        "### Age\n",
        "Elder people might be more financially stable since they are subscriped to the term deposit more."
      ],
      "id": "c2881c61"
    },
    {
      "cell_type": "code",
      "metadata": {},
      "source": [
        "#| code-fold: true\n",
        "#| code-summary: \"Show the code\"\n",
        "sns.violinplot( x='y',y='age',  split=True, inner=\"quart\", data=df)\n",
        "plt.title('Age distribution for each response variable')\n",
        "plt.show()"
      ],
      "id": "1938e3d6",
      "execution_count": null,
      "outputs": []
    },
    {
      "cell_type": "markdown",
      "metadata": {},
      "source": [
        "* People who are old are more likely to subscribe to term deposit. \n",
        "\n",
        "### Job "
      ],
      "id": "11a17e59"
    },
    {
      "cell_type": "code",
      "metadata": {},
      "source": [
        "#| code-fold: true\n",
        "#| code-summary: \"Show the code\"\n",
        "y_job = pd.crosstab(data_vis['y'],data_vis['job']).apply(lambda x: x/x.sum() * 100)\n",
        "y_job = y_job.transpose()\n",
        "\n",
        "y_job.rename(columns = {'y':'job',0:'no', 1:'yes'}, inplace = True)\n",
        "jobs_sub = y_job['yes'].sort_values(ascending = True).plot(kind ='barh')\n",
        "                                                                               \n",
        "plt.title('Subscription Rate by Job')\n",
        "plt.xlabel('Subscription Rate')\n",
        "plt.ylabel('Job Category')\n",
        "# Label each bar\n",
        "for patch_i, label in zip(jobs_sub.patches,\n",
        "                      y_job['yes'].sort_values(ascending = True).round(1).astype(str)):\n",
        "    jobs_sub.text(patch_i.get_width()+1.5, \n",
        "                  patch_i.get_y()+ patch_i.get_height()-0.5, \n",
        "                  label+'%', \n",
        "                  ha = 'center', \n",
        "                  va='bottom')\n",
        "\n",
        "job_contact=  data_vis['job'].value_counts().rename_axis('job').reset_index(name='counts')        \n",
        "job_contact['Contact Rate']= job_contact['counts']*100/job_contact['counts'].sum()  \n",
        "job_contact['Contact Rate'] = job_contact['Contact Rate'].round(2)\n",
        "job_contact=job_contact.drop(['counts'],axis=1)\n",
        "\n",
        "# job_contact['Contact Rate']= job_contact['Contact Rate'].sort_values(ascending = False)\n",
        "job_contact_plot = job_contact.plot(x='job',kind ='barh',color='r')  \n",
        "#.plot(kind ='barh')                                                \n",
        "plt.title('Contact Rate by Job')\n",
        "plt.xlabel('Contact Rate')\n",
        "plt.ylabel('Job Category')\n",
        "# Label each bar\n",
        "for patch_i, label in zip(job_contact_plot.patches,\n",
        "                      job_contact['Contact Rate'].astype(str)):\n",
        "    job_contact_plot.text(patch_i.get_width()+1.5, \n",
        "                  patch_i.get_y()+ patch_i.get_height()-0.5, \n",
        "                  label+'%', \n",
        "                  ha = 'center', \n",
        "                  va='bottom')"
      ],
      "id": "e10b724b",
      "execution_count": null,
      "outputs": []
    },
    {
      "cell_type": "markdown",
      "metadata": {},
      "source": [
        "People in blue collar and management jobs are contacted more, which should not be the case. Since they have less subscription rates. \n",
        "Unlike popular assumption, students, retired and unemployment seem to have a high subscription rates. Even though they are contacted very less.\n",
        "\n",
        "**suggestion**: The high subscripted rate group(students, retired and unemployment) should be contacted more.\n",
        "\n",
        "\n",
        "### Balance\n",
        "\n",
        "Checking the subscriptions in each balance groups "
      ],
      "id": "dc550c82"
    },
    {
      "cell_type": "code",
      "metadata": {},
      "source": [
        "#| code-fold: true\n",
        "#| code-summary: \"Show the code\"\n",
        "#max = 10399\n",
        "#min = -6847\n",
        "def balance_group(bal):\n",
        "    balGroup = 'Negative' if bal < 0 else 'low balance' if bal < 1000 else 'moderate balance' if bal < 2500 else 'high balance'\n",
        "    return balGroup\n",
        "data_vis['balGroup'] = data_vis['balance'].apply(balance_group)\n",
        "\n",
        "#checking y based on balance group\n",
        "y_balance = pd.crosstab(data_vis['y'],data_vis['balGroup']).apply(lambda x: x/x.sum() * 100)\n",
        "y_balance = y_balance.transpose()\n",
        "\n",
        "bal = pd.DataFrame(data_vis['balGroup'].value_counts().rename_axis('balGroup').reset_index(name='counts'))\n",
        "bal_y = bal.merge(y_balance,on='balGroup')\n",
        "\n",
        "bal_y['% Contacted'] = bal_y['counts']*100/bal_y['counts'].sum()\n",
        "bal_y['% Subscription'] = bal_y[1]\n",
        "bal_y.rename(columns = {'y':'month',0:'no', 1:'yes'}, inplace = True)\n",
        "\n",
        "bal_y = bal_y.drop(['counts','no','yes'],axis=1)\n",
        "print(bal_y)\n",
        "\n",
        "bal_list = ['Negative','low balance', 'moderate balance','high balance']\n",
        "balanceGroupInfo =pd.DataFrame(bal_list,columns=['balanceGroup'])\n",
        "balanceGroupInfo['Contact Rate'] = \" \"\n",
        "balanceGroupInfo['Subscription Rate'] = \" \"\n",
        "bal_y = bal_y.set_index(['balGroup'])\n",
        "\n",
        "\n",
        "for i,val in enumerate(bal_list):\n",
        "     balanceGroupInfo['Contact Rate'].iloc[i]=bal_y.loc[val].loc['% Contacted']\n",
        "     balanceGroupInfo['Subscription Rate'].iloc[i]=bal_y.loc[val].loc['% Subscription']\n",
        "print(balanceGroupInfo)\n",
        "#bal['bal'] = [1,2,0,3]\n",
        "#bal = bal.sort_values('bal',ascending = True)\n",
        "\n",
        "balanceGroupInfo.plot(x='balanceGroup', kind='bar', stacked=False,\n",
        "        title='Balance Group Contact Rates and Subscription')\n",
        "plt.show()"
      ],
      "id": "eef1cafb",
      "execution_count": null,
      "outputs": []
    },
    {
      "cell_type": "markdown",
      "metadata": {},
      "source": [
        "**suggestion**:People with moderate to high balance, are contacted less but they have high subscription rates so bank should target them more. \n",
        "\n",
        "It might be possible that balance group and jobs are telling the same information since some jobs might have high salary and thus balance groups might be depicting jobs only, so we will try to look at them together.\n",
        "\n",
        "Balance Group versus Job "
      ],
      "id": "d59aa571"
    },
    {
      "cell_type": "code",
      "metadata": {},
      "source": [
        "#| code-fold: true\n",
        "#| code-summary: \"Show the code\"\n",
        "# add the values for 1 \n",
        "job_balance = pd.DataFrame(data_vis.groupby(['job','balGroup'])['y'].sum())\n",
        "# total number of values \n",
        "job_balance_count = pd.DataFrame(data_vis.groupby(['job','balGroup'])['y'].count())\n",
        "\n",
        "job_balance['y'] = (job_balance['y']/job_balance_count['y'])*100\n",
        "job_balance = job_balance.unstack()\n",
        "job_balance = job_balance.plot(kind='bar',figsize = (10,6))\n",
        "plt.title('Subscription Rates for each balance group in job category')\n",
        "\n",
        "job_balance_count1 = job_balance_count.unstack()\n",
        "job_balance_count1 = job_balance_count1.plot(kind='bar',figsize = (10,6))\n",
        "plt.title('Contact for each balance group in job category')"
      ],
      "id": "74054267",
      "execution_count": null,
      "outputs": []
    },
    {
      "cell_type": "markdown",
      "metadata": {},
      "source": [
        "Student and Retired are more likely to subscribe and usually have moderate to high balance. \n",
        "\n",
        "We found from the second bar chart that only the low balance groups are targeted in each category even though moderate to high balance category are more likely to subscribe.\n",
        "\n",
        "\n",
        "# Data Encoding"
      ],
      "id": "c7abf6f9"
    },
    {
      "cell_type": "code",
      "metadata": {},
      "source": [
        "#| code-fold: true\n",
        "#| code-summary: \"Show the code\"\n",
        "data_encode = data_vis.copy()"
      ],
      "id": "70f49674",
      "execution_count": null,
      "outputs": []
    },
    {
      "cell_type": "markdown",
      "metadata": {},
      "source": [
        "## One Hot Encoding \n",
        "We would encode 'housing','loan','default','job','education' and 'marital' as they are all categorical variables."
      ],
      "id": "b2902c7b"
    },
    {
      "cell_type": "code",
      "metadata": {},
      "source": [
        "#| code-fold: true\n",
        "#| code-summary: \"Show the code\"\n",
        "data_encode = pd.get_dummies(data_encode, columns = ['housing'])\n",
        "data_encode = pd.get_dummies(data_encode, columns = ['loan'])\n",
        "data_encode = pd.get_dummies(data_encode, columns = ['default'])\n",
        "data_encode = pd.get_dummies(data_encode, columns = ['job'])\n",
        "data_encode = pd.get_dummies(data_encode, columns = ['education'])\n",
        "data_encode = pd.get_dummies(data_encode, columns = ['marital'])"
      ],
      "id": "dcf0c300",
      "execution_count": null,
      "outputs": []
    },
    {
      "cell_type": "markdown",
      "metadata": {},
      "source": [
        "## Sin - Cos encoding\n",
        "Transforming month into sin and cos so that there cyclic nature (jan-dec are as close as jan-feb) is retained which is usually lost in label encoding. Unlike one hot encoding, the dimension will reduce from 12(month_jan, month_feb ... month_dec) to 2(sin_month , cos_month)\n"
      ],
      "id": "d2e9dfbb"
    },
    {
      "cell_type": "code",
      "metadata": {},
      "source": [
        "#| code-fold: true\n",
        "#| code-summary: \"Show the code\"\n",
        "def sin_transformation(x):\n",
        "    x=x-1\n",
        "    sin_x = math.sin((2*pi*x)/11)\n",
        "    return sin_x\n",
        "def cos_transformation(x):\n",
        "    x=x-1\n",
        "    cos_x = math.cos((2*pi*x)/11)\n",
        "    return cos_x\n",
        "data_encode['sin_month'] = data_encode['month_int'].apply(sin_transformation) \n",
        "data_encode['cos_month'] = data_encode['month_int'].apply(cos_transformation)  \n",
        "\n",
        "sns.scatterplot(data=data_encode,x='sin_month',y='cos_month')"
      ],
      "id": "4f6bd2fe",
      "execution_count": null,
      "outputs": []
    },
    {
      "cell_type": "markdown",
      "metadata": {},
      "source": [
        "## Dropping unnecessary columns irrelevant for modelling \n",
        "Here we dropped the 'month' column as they are encoded. Also, we dropped irrelvant variables 'pdays' and enconomic factors('cons.conf.idx', 'emp.var.rate', 'euribor3m', 'nr.employed','cons.price.idx') for modelling. "
      ],
      "id": "78a91480"
    },
    {
      "cell_type": "code",
      "metadata": {},
      "source": [
        "#| code-fold: true\n",
        "#| code-summary: \"Show the code\"\n",
        "data_encode= data_encode.drop(['month'],axis=1)\n",
        "#data_encode= data_encode.drop(['month_int'],axis=1)\n",
        "data_encode = data_encode.drop(['balGroup'],axis=1)\n",
        "data_encode = data_encode.drop(['pdays'],axis=1)\n",
        "\n",
        "#Checkpoint\n",
        "data_encode.to_csv('Dataset/final_encoded.csv',index=False)\n",
        "data_encode =  pd.read_csv('Dataset/final_encoded.csv')\n",
        "\n",
        "data_model = data_encode.copy()"
      ],
      "id": "2a3fd274",
      "execution_count": null,
      "outputs": []
    },
    {
      "cell_type": "code",
      "metadata": {},
      "source": [
        "#| code-fold: true\n",
        "#| code-summary: \"Show the code\"\n",
        "data_model=data_model.drop(['cons.conf.idx', 'emp.var.rate', 'euribor3m', 'nr.employed','cons.price.idx'],axis=1)"
      ],
      "id": "c65455d2",
      "execution_count": null,
      "outputs": []
    },
    {
      "cell_type": "markdown",
      "metadata": {},
      "source": [
        "# Data Modeling \n",
        "## Splitting our Dataset \n",
        "We are splitting our dataset in 1:4 ratio for training and testing set."
      ],
      "id": "6b8e804c"
    },
    {
      "cell_type": "code",
      "metadata": {},
      "source": [
        "#| code-fold: true\n",
        "#| code-summary: \"Show the code\"\n",
        "#dropping y to extract x variables \n",
        "x = data_model.drop(['y'],axis=1)\n",
        "#y variables\n",
        "y = data_model['y']\n",
        "#splitting the dataset \n",
        "x_train,x_test,y_train,y_test = train_test_split(x,y,test_size=0.2)"
      ],
      "id": "e84ad530",
      "execution_count": null,
      "outputs": []
    },
    {
      "cell_type": "markdown",
      "metadata": {},
      "source": [
        "## Balancing Our Dataset\n",
        "\n",
        "We tried to balance our dataset using following methods:\n",
        "\n",
        "* Upsampling using SMOTE \n",
        "* Sin and cos transformation from month_int. \n"
      ],
      "id": "02f4cbb5"
    },
    {
      "cell_type": "code",
      "metadata": {},
      "source": [
        "#| code-fold: true\n",
        "#| code-summary: \"Show the code\"\n",
        "sm = SMOTE(random_state=42)\n",
        "train_sx, train_sy = sm.fit_resample(x_train, y_train)\n",
        "test_sx, test_sy = sm.fit_resample(x_test, y_test)\n",
        "#printing x and y values \n",
        "np.bincount(train_sy)\n",
        "#getting values of sin and cos from month int \n",
        "train_sx['sin_month'] = train_sx['month_int'].apply(sin_transformation) \n",
        "train_sx['cos_month'] = train_sx['month_int'].apply(cos_transformation) \n",
        "\n",
        "#sns.scatterplot(data=train_sx,x='sin_month',y='cos_month')\n",
        "#droppping month_int since we have encoded sin and cos value \n",
        "train_sx= train_sx.drop(['month_int'],axis=1)\n",
        "test_sx=test_sx.drop(['month_int'],axis=1)\n",
        "\n",
        "x_train= x_train.drop(['month_int'],axis=1)\n",
        "x_test=x_test.drop(['month_int'],axis=1)\n",
        "\n",
        "\n",
        "train_balanced = pd.concat([train_sx, train_sy], axis=1)\n",
        "train_unbalanced = pd.concat([x_train, y_train], axis=1)\n",
        "\n",
        "test_unbalanced = pd.concat([x_test, y_test], axis=1)\n",
        "test_balanced = pd.concat([test_sx, test_sy], axis=1)\n",
        "train_balanced.to_csv('Dataset/train_balanced.csv',index=False)\n",
        "train_unbalanced.to_csv('Dataset/train_unbalanced.csv',index=False)\n",
        "test_unbalanced.to_csv('Dataset/test_unbalanced.csv',index=False)\n",
        "test_balanced.to_csv('Dataset/test_balanced.csv',index=False)\n",
        "# print(\"Before Smote\")\n",
        "# print(f\"for training : {np.bincount(y_train)}\")\n",
        "# print(f\"for testing : {np.bincount(y_test)}\")\n",
        "# print(\"After smote\")\n",
        "# print(f\"for training : {np.bincount(y_res)}\")\n",
        "# print(f\"for testing : {np.bincount(test_sy)}\")"
      ],
      "id": "dd2da0ab",
      "execution_count": null,
      "outputs": []
    },
    {
      "cell_type": "code",
      "metadata": {},
      "source": [
        "#| code-fold: true\n",
        "#| code-summary: \"Show the code\"\n",
        "balanced_train= pd.read_csv('Dataset/train_balanced.csv')\n",
        "balanced_test= pd.read_csv('Dataset/test.csv')\n",
        "unbalanced_train= pd.read_csv('Dataset/train_unbalanced.csv')\n",
        "unbalanced_test= pd.read_csv('Dataset/test.csv')"
      ],
      "id": "732ce484",
      "execution_count": null,
      "outputs": []
    },
    {
      "cell_type": "markdown",
      "metadata": {},
      "source": [
        "# Scaling numeric variables \n",
        "Scaling age, balance, duration so that our algorithms perform better and all variables are treated equally. Since all three variables are in different scales, so we transform them into same standard."
      ],
      "id": "ded63403"
    },
    {
      "cell_type": "code",
      "metadata": {},
      "source": [
        "#| code-fold: true\n",
        "#| code-summary: \"Show the code\"\n",
        "from sklearn.preprocessing import StandardScaler\n",
        "# define standard scaler\n",
        "scaler = StandardScaler()\n",
        "# transform data\n",
        "balanced_train[['age','balance','duration']]= scaler.fit_transform(balanced_train[['age','balance','duration']])\n",
        "\n",
        "balanced_test[['age','balance','duration']]= scaler.fit_transform(balanced_test[['age','balance','duration']])\n",
        "\n",
        "unbalanced_train[['age','balance','duration']]= scaler.fit_transform(unbalanced_train[['age','balance','duration']])\n",
        "\n",
        "unbalanced_test[['age','balance','duration']]= scaler.fit_transform(unbalanced_test[['age','balance','duration']])"
      ],
      "id": "3bbda753",
      "execution_count": null,
      "outputs": []
    },
    {
      "cell_type": "code",
      "metadata": {},
      "source": [
        "#| code-fold: true\n",
        "#| code-summary: \"Show the code\"\n",
        "x_train = unbalanced_train.drop(['y'],axis=1)\n",
        "x_test = unbalanced_test.drop(['y'],axis=1)\n",
        "y_train = unbalanced_train['y']\n",
        "y_test = unbalanced_test['y']\n",
        "\n",
        "bx_train = balanced_train.drop(['y'],axis=1)\n",
        "bx_test = balanced_test.drop(['y'],axis=1)\n",
        "by_train = balanced_train['y']\n",
        "by_test = balanced_test['y']"
      ],
      "id": "b89429f0",
      "execution_count": null,
      "outputs": []
    },
    {
      "cell_type": "markdown",
      "metadata": {},
      "source": [
        "# Logistic Regression\n",
        "Performing Logistic Regression on both balanced and unbalanced dataset.\n",
        "RFE is used in selecting the most important features\n",
        "## Unbalanced Dataset "
      ],
      "id": "3f7970df"
    },
    {
      "cell_type": "code",
      "metadata": {},
      "source": [
        "#| code-fold: true\n",
        "#| code-summary: \"Show the code\"\n",
        "rfe_model = RFE(LogisticRegression(solver='lbfgs', max_iter=1000), step= 25)\n",
        "rfe_model = rfe_model.fit(x_train,y_train)\n",
        "\n",
        "# feature selection\n",
        "#print(rfe_model.support_)\n",
        "#print(rfe_model.ranking_)\n",
        "\n",
        "selected_columns = x_train.columns[rfe_model.support_]\n",
        "list_column= selected_columns.tolist()\n",
        "list_column.append('age')\n",
        "list_column.append('balance')\n",
        "#list_column.append('sin_month')\n",
        "print(f\"Columns selected by RE {list_column}\")\n",
        "\n",
        "\n",
        "X_train_final = x_train[list_column]\n",
        "X_test_final = x_test[list_column]\n",
        "\n",
        "#X_train_final['balance','age'] = x_train['balance','age']\n",
        "#X_test_final['balance','age'] = x_test['balance','age']"
      ],
      "id": "9f82f0b8",
      "execution_count": null,
      "outputs": []
    },
    {
      "cell_type": "markdown",
      "metadata": {},
      "source": [
        "As we can see from RFE, the most relevant features are : \n",
        "\n",
        "* Duration\n",
        "* Housing\n",
        "* Loan \n",
        "* Job\n",
        "* Education\n",
        "* cos_month\n",
        "\n",
        "From other features selection techniques and EDA, we can see that 'age' and 'balance' also contrubuted to the subscrption, so we added up these variables as well.\n",
        "\n",
        "Applying model with selected features \n"
      ],
      "id": "02a524d7"
    },
    {
      "cell_type": "code",
      "metadata": {},
      "source": [
        "#| code-fold: true\n",
        "#| code-summary: \"Show the code\"\n",
        "lr = LogisticRegression(random_state=123)\n",
        "lr.fit(X_train_final, y_train)\n",
        "y_pred = lr.predict(X_test_final)\n",
        "print(f\"Accuracy for training set {accuracy_score(y_train, lr.predict(X_train_final))}\")\n",
        "print(f\"Accuracy for testing set {accuracy_score(y_test, y_pred)}\")\n",
        "print(f\"Confusion matrix \\n{confusion_matrix(y_test, y_pred)}\")\n",
        "print(f\"{classification_report(y_test, y_pred)}\")"
      ],
      "id": "04d1c146",
      "execution_count": null,
      "outputs": []
    },
    {
      "cell_type": "markdown",
      "metadata": {},
      "source": [
        "Here, the accuracy is 89% but the precision(0.59) and recall rate value(0.20) is low. And we also check on the balanced dataset since the low recall rate might be caused because of the less number of y = 1 value.\n",
        "\n",
        "# Balanced Dataset"
      ],
      "id": "715fbf74"
    },
    {
      "cell_type": "code",
      "metadata": {},
      "source": [
        "#| code-fold: true\n",
        "#| code-summary: \"Show the code\"\n",
        "rfe_model = RFE(LogisticRegression(solver='lbfgs', max_iter=1000), step= 25)\n",
        "rfe_model = rfe_model.fit(bx_train,by_train)\n",
        "\n",
        "# feature selection\n",
        "#print(rfe_model.support_)\n",
        "#print(rfe_model.ranking_)\n",
        "\n",
        "selected_columns = bx_train.columns[rfe_model.support_]\n",
        "print(f\"Columns selected by RE {selected_columns.tolist()}\")\n",
        "\n",
        "list_column= selected_columns.tolist()\n",
        "list_column.append('age')\n",
        "list_column.append('balance')\n",
        "#list_column.append('sin_month')\n",
        "list_column.append('duration')\n",
        "#list_column.append('cos_month')\n",
        "\n",
        "#balanced dataset \n",
        "bX_train_final = bx_train[list_column]\n",
        "bX_test_final = bx_test[list_column]\n",
        "#unbalanced test dataset\n",
        "ubx_test_final = x_test[list_column]\n",
        "\n",
        "lr_b = LogisticRegression(random_state=123)\n",
        "lr_b.fit(bX_train_final, by_train)\n",
        "by_pred = lr_b.predict(ubx_test_final)\n",
        "print(f\"Accuracy for training set {accuracy_score(by_train, lr_b.predict(bX_train_final))}\")\n",
        "print(f\"Accuracy for testing set {accuracy_score(y_test, by_pred)}\")\n",
        "print(f\"Confusion matrix \\n{confusion_matrix(y_test, by_pred)}\")\n",
        "print(f\"{classification_report(y_test, by_pred)}\")"
      ],
      "id": "01bff3d7",
      "execution_count": null,
      "outputs": []
    },
    {
      "cell_type": "markdown",
      "metadata": {},
      "source": [
        "Here, important features are \n",
        "* Housing \n",
        "* Loan \n",
        "* Job\n",
        "* Education\n",
        "* Marital Status \n",
        "\n",
        "We also added the important features from unbalaced dataset\n",
        "* Duration\n",
        "* Age\n",
        "* Month\n",
        "* Balance\n",
        "\n",
        "Here even though the precision and recall have improved, and accuracy has dropped down, but the important relationships are lost since the training data now is artificially generated datapoints. \n",
        "We will try to find the optimal cut-off value for original dataset and compare it with the model for balanced data.\n",
        "\n",
        "### Deciding cut off value for logistic regression - Unbalance \n",
        "But to have good values for cut-off we would try to find a cutoff where the precision and recall values are decent\n"
      ],
      "id": "334757b0"
    },
    {
      "cell_type": "code",
      "metadata": {},
      "source": [
        "#| code-fold: true\n",
        "#| code-summary: \"Show the code\"\n",
        "#| fig-cap: \"Optimal Cutoff at 0.25\"\n",
        "# Precision-Recall vs Threshold\n",
        "#y_pred=logit.predict(x_test)\n",
        "y_pred_probs=lr.predict_proba(X_test_final) \n",
        "# probs_y is a 2-D array of probability of being labeled as 0 (first \n",
        "# column of array) vs 1 (2nd column in array)\n",
        "\n",
        "precision, recall, thresholds = precision_recall_curve(y_test, y_pred_probs[:, 1]) \n",
        "#retrieve probability of being 1(in second column of probs_y)\n",
        "pr_auc = metrics.auc(recall, precision)\n",
        "\n",
        "plt.title(\"Precision-Recall vs Threshold Chart\")\n",
        "plt.plot(thresholds, precision[: -1], \"b--\", label=\"Precision\")\n",
        "plt.plot(thresholds, recall[: -1], \"r--\", label=\"Recall\")\n",
        "plt.ylabel(\"Precision, Recall\")\n",
        "plt.xlabel(\"Threshold\")\n",
        "plt.legend(loc=\"lower left\")\n",
        "plt.ylim([0,1])\n",
        "\n",
        "print(\"\\nBased on plot we would choose 0.25 as cut off \")\n",
        "\n",
        "\n",
        "thres = 0.25\n",
        "y_pred = np.where(y_pred_probs[:,1]>thres,1,0)\n",
        "print(f\"Accuracy for testing set {accuracy_score(y_test, y_pred)}\")\n",
        "print(f\"Confusion matrix \\n{confusion_matrix(y_test, y_pred)}\")\n",
        "print(f\"{classification_report(y_test, y_pred)}\")"
      ],
      "id": "3ef84e91",
      "execution_count": null,
      "outputs": []
    },
    {
      "cell_type": "markdown",
      "metadata": {},
      "source": [
        "Here as after applying feature selection, finding optimized cut-off, we are able to achieve higher accuracy with optimal precision and recall. Resulting from the comparison, we would continue our modellings with unbalance dataset.\n",
        "\n",
        "### Smart Question 5: The optimal cut off value for classification of our imbalance dataset.\n",
        "\n",
        "**Answer**: The optimal cut off value for our imbalance dataset is 0.25 as the precision- recall chart indicated.\n",
        "\n",
        "### SMART Question 2: Since the dataset is imbalanced, will down sampling/up sampling or other techniques improve upon the accuracy of models.\n",
        "**Answer**: As observed from above there is a slight improvement in accuracy, precision and recall after we apply SMOTE, but that improvement can also be acheived by adjusting the cut off value as well. So, we should always try adjusting cut-off first, before upsampling. \n",
        "\n",
        "For ROC - AUC curve refer (@fig-roc-curve). \\\n",
        "For precision recall curve refer(@fig-pr-curve). \n",
        "\n",
        "\n",
        "# Decision Tree\n",
        "\n",
        "## Feature Selection"
      ],
      "id": "00d2f3db"
    },
    {
      "cell_type": "code",
      "metadata": {},
      "source": [
        "#| code-fold: true\n",
        "#| code-summary: \"Show the code\"\n",
        "# feature selection\n",
        "dtc = DecisionTreeClassifier()\n",
        "dtc.fit(x_train, y_train)\n",
        "importance = dtc.feature_importances_\n",
        "features = [] \n",
        "imp = []\n",
        "for i,v in enumerate(importance):\n",
        "    if v >0.01:\n",
        "        print(f\"Feature {i} variable {x_train.columns[i]} score {v:.2f}\")\n",
        "        features.append(x_train.columns[i])\n",
        "        imp.append(v)\n",
        "print(f\"Important features from decision treee are : \\n{features}\")\n",
        "pyplot.bar([x for x in range(len(importance))], importance)\n",
        "pyplot.show()\n",
        "x_train_dt = x_train[features]\n",
        "x_test_dt = x_test[features]"
      ],
      "id": "67ed7d68",
      "execution_count": null,
      "outputs": []
    },
    {
      "cell_type": "markdown",
      "metadata": {},
      "source": [
        "Features selected from this algorithm are \n",
        "\n",
        "* Age \n",
        "* Balance \n",
        "* Duration \n",
        "* Campaign\n",
        "* Previous \n",
        "* Housing \n",
        "* Job\n",
        "* Education\n",
        "* Marital \n",
        "* Month - Sin,cos\n",
        "\n",
        "We have all the important features from EDA here\n",
        "\n",
        "## Hyperparameter tuning\n",
        "\n",
        "For tuning the hyperparameter's we will use GridSearch CV. \n"
      ],
      "id": "9dcc9fdd"
    },
    {
      "cell_type": "code",
      "metadata": {},
      "source": [
        "#| code-fold: true\n",
        "#| code-summary: \"Show the code\"\n",
        "# Creating a dictionary of parameters to use in GridSearchCV\n",
        "\n",
        "params = {\n",
        "    'criterion':  ['gini', 'entropy'],\n",
        "    'max_depth':  [None, 2, 4, 6, 8, 10],\n",
        "    'max_features': [None, 'sqrt', 'log2', 0.2, 0.4, 0.6, 0.8],\n",
        "    'splitter': ['best', 'random']\n",
        "}\n",
        "\n",
        "clf = GridSearchCV(\n",
        "    estimator=DecisionTreeClassifier(),\n",
        "    param_grid=params,\n",
        "    cv=5,\n",
        "    n_jobs=5,\n",
        "    verbose=1,\n",
        ")\n",
        "\n",
        "clf.fit(x_train_dt, y_train)\n",
        "print(f\"Best parameters from Grid Search CV : \\n{clf.best_params_}\")"
      ],
      "id": "7bb7cdc8",
      "execution_count": null,
      "outputs": []
    },
    {
      "cell_type": "markdown",
      "metadata": {},
      "source": [
        "Training model based on the parameters we got from Grid SearchCV."
      ],
      "id": "966c1d63"
    },
    {
      "cell_type": "code",
      "metadata": {},
      "source": [
        "#| code-fold: true\n",
        "#| code-summary: \"Show the code\"\n",
        "dtc = DecisionTreeClassifier(criterion='entropy',max_depth=8,max_features= 0.8,splitter='best')\n",
        "dtc.fit(x_train_dt,y_train )\n",
        "dtcprediction = dtc.predict(x_test_dt)\n",
        "print(accuracy_score(y_test, dtcprediction))\n",
        "print(confusion_matrix(y_test, dtcprediction))\n",
        "print(classification_report(y_test, dtcprediction))"
      ],
      "id": "5a08842f",
      "execution_count": null,
      "outputs": []
    },
    {
      "cell_type": "markdown",
      "metadata": {},
      "source": [
        "From the decision tree we have better precision, recall, accuracy and thus better f1 score. Hence, decision tree is performing better than logistic regression.  \n",
        "\n",
        "\n",
        "\n",
        "AUC Curve : @fig-roc-curve \\\n",
        "Precision Recall Curve : @fig-pr-curve\n",
        "\n",
        "# Random Forest \n",
        "\n",
        "## Feature Selection "
      ],
      "id": "accd9f4d"
    },
    {
      "cell_type": "code",
      "metadata": {},
      "source": [
        "#| code-fold: true\n",
        "#| code-summary: \"Show the code\"\n",
        "\n",
        "rfc = RandomForestClassifier()\n",
        "rfc.fit(x_train, y_train)\n",
        "importance_rfc = rfc.feature_importances_\n",
        "features_rfc = [] \n",
        "for i,v in enumerate(importance_rfc):\n",
        "    if v >0.01:\n",
        "        #print(f\"Feature {i} variable {balanced_train.columns[i]} score {v}\")\n",
        "        features_rfc.append(balanced_train.columns[i])\n",
        "print(f\"Important features from random forest :\\n{features_rfc}\")\n",
        "pyplot.bar([x for x in range(len(importance_rfc))], importance_rfc)\n",
        "pyplot.show()\n",
        "#selecting important features\n",
        "x_train_rf = x_train[features_rfc]\n",
        "x_test_rf = x_test[features_rfc]\n"
      ],
      "id": "bee9a270",
      "execution_count": null,
      "outputs": []
    },
    {
      "cell_type": "markdown",
      "metadata": {},
      "source": [
        "## Hyperparameter Tuning "
      ],
      "id": "ad3f3385"
    },
    {
      "cell_type": "code",
      "metadata": {},
      "source": [
        "# Create the parameter grid based on the results of random search \n",
        "param_grid = {\n",
        "    'bootstrap': [True],\n",
        "    'max_depth': [80, 90, 100, 110],\n",
        "    'max_features': [2, 3],\n",
        "    'n_estimators': [100, 200, 300, 1000]\n",
        "}\n",
        "# Create a based model\n",
        "rf = RandomForestClassifier()\n",
        "# Instantiate the grid search model\n",
        "grid_search = GridSearchCV(estimator = rf, param_grid =param_grid, cv = 3, n_jobs = -1, verbose = 2)\n",
        "grid_search.fit(x_train_rf, y_train)\n",
        "grid_search.best_params_"
      ],
      "id": "7a790cde",
      "execution_count": null,
      "outputs": []
    },
    {
      "cell_type": "code",
      "metadata": {},
      "source": [
        "rfc = RandomForestClassifier(bootstrap=True,max_depth=80,max_features=3,n_estimators=200)\n",
        "rfc.fit(x_train_rf, y_train)\n",
        "rfcpredictions = rfc.predict(x_test_rf)\n",
        "print(f\"Training accuracy {accuracy_score(y_train, rfc.predict(x_train_rf))}\")\n",
        "print(f\"Testing set accuracy {accuracy_score(y_test, rfcpredictions )}\")\n",
        "print(confusion_matrix(y_test, rfcpredictions ))\n",
        "print(classification_report(y_test, rfcpredictions ))"
      ],
      "id": "8eadb2fe",
      "execution_count": null,
      "outputs": []
    },
    {
      "cell_type": "markdown",
      "metadata": {},
      "source": [
        "We are getting best performance from Random Forest but we are not sure why we are getting such idealistic results so we would also apply cross validation to test our results \n"
      ],
      "id": "7283af49"
    },
    {
      "cell_type": "code",
      "metadata": {},
      "source": [
        "# from sklearn.model_selection import cross_val_score\n",
        "# scores = cross_val_score(rfc, x_train_rf, y_train, cv=5)\n",
        "# print(scores)\n",
        "\n",
        "# K-Fold Cross-Validation\n",
        "\n",
        "def cross_validation(model, _X, _y, _cv=5):\n",
        "      '''Function to perform 5 Folds Cross-Validation\n",
        "       Parameters\n",
        "       ----------\n",
        "      model: Python Class, default=None\n",
        "              This is the machine learning algorithm to be used for training.\n",
        "      _X: array\n",
        "           This is the matrix of features.\n",
        "      _y: array\n",
        "           This is the target variable.\n",
        "      _cv: int, default=5\n",
        "          Determines the number of folds for cross-validation.\n",
        "       Returns\n",
        "       -------\n",
        "       The function returns a dictionary containing the metrics 'accuracy', 'precision',\n",
        "       'recall', 'f1' for both training set and validation set.\n",
        "      '''\n",
        "      _scoring = ['accuracy', 'precision', 'recall', 'f1']\n",
        "      results = cross_validate(estimator=model,\n",
        "                               X=_X,\n",
        "                               y=_y,\n",
        "                               cv=_cv,\n",
        "                               scoring=_scoring,\n",
        "                               return_train_score=True)\n",
        "      \n",
        "      return {\"Training Accuracy scores\": results['train_accuracy'],\n",
        "              \"Mean Training Accuracy\": results['train_accuracy'].mean()*100,\n",
        "              \"Training Precision scores\": results['train_precision'],\n",
        "              \"Mean Training Precision\": results['train_precision'].mean(),\n",
        "              \"Training Recall scores\": results['train_recall'],\n",
        "              \"Mean Training Recall\": results['train_recall'].mean(),\n",
        "              \"Training F1 scores\": results['train_f1'],\n",
        "              \"Mean Training F1 Score\": results['train_f1'].mean(),\n",
        "              \"Validation Accuracy scores\": results['test_accuracy'],\n",
        "              \"Mean Validation Accuracy\": results['test_accuracy'].mean()*100,\n",
        "              \"Validation Precision scores\": results['test_precision'],\n",
        "              \"Mean Validation Precision\": results['test_precision'].mean(),\n",
        "              \"Validation Recall scores\": results['test_recall'],\n",
        "              \"Mean Validation Recall\": results['test_recall'].mean(),\n",
        "              \"Validation F1 scores\": results['test_f1'],\n",
        "              \"Mean Validation F1 Score\": results['test_f1'].mean()\n",
        "              }\n",
        "cross_validation(rfc, x_train_rf, y_train, _cv=5)"
      ],
      "id": "f10de078",
      "execution_count": null,
      "outputs": []
    },
    {
      "cell_type": "markdown",
      "metadata": {},
      "source": [
        "After applying cross validation, we are getting some what real estimates. \n",
        "\n",
        "AUC Curve : @fig-roc-curve \\\n",
        "Precision Recall Curve : @fig-pr-curve\n",
        "\n",
        "# Linear SVC \n",
        "\n",
        "Finding a linear hyperplane that tries to separate two classes."
      ],
      "id": "f38d091b"
    },
    {
      "cell_type": "code",
      "metadata": {},
      "source": [
        "svc_linear = LinearSVC(C=1.0, class_weight=None, dual=True, fit_intercept=True,\n",
        "          intercept_scaling=1, loss='squared_hinge', max_iter=1000,\n",
        "          multi_class='ovr', penalty='l2', random_state=123, tol=0.0001,\n",
        "          verbose=0)\n",
        "svc_linear.fit(x_train,y_train)\n",
        "svc_linear_predictions = svc_linear.predict(x_test)\n",
        "print(accuracy_score(y_test, svc_linear_predictions))\n",
        "print(confusion_matrix(y_test, svc_linear_predictions))\n",
        "print(classification_report(y_test, svc_linear_predictions))"
      ],
      "id": "bdbca2b0",
      "execution_count": null,
      "outputs": []
    },
    {
      "cell_type": "markdown",
      "metadata": {},
      "source": [
        "# SVC\n",
        "Finding a complex hyperplane that tries to separate the classes. \n"
      ],
      "id": "418ef9b8"
    },
    {
      "cell_type": "code",
      "metadata": {},
      "source": [
        "#  SVM - Support Vector Machines balance check on unbalance test\n",
        "svc= SVC(kernel='poly', random_state=123)\n",
        "svc.fit(x_train,y_train)\n",
        "svcpredictions = svc.predict(x_test)\n",
        "print(accuracy_score(y_test, svcpredictions))\n",
        "print(confusion_matrix(y_test, svcpredictions))\n",
        "print(classification_report(y_test, svcpredictions))"
      ],
      "id": "86bf9ba9",
      "execution_count": null,
      "outputs": []
    },
    {
      "cell_type": "markdown",
      "metadata": {},
      "source": [
        "# Naive Bayes \n",
        "\n",
        "Naive Bayes a naive assumption that all the features are independent of each other and thus by reducing the complexity of computing conditional probabilities it evaluates the probability of 0 and 1. \n"
      ],
      "id": "6a5c6694"
    },
    {
      "cell_type": "code",
      "metadata": {},
      "source": [
        "param_grid_nb = {\n",
        "    'var_smoothing': np.logspace(0,-9, num=100)\n",
        "}\n",
        "nbModel_grid = GridSearchCV(estimator=GaussianNB(), param_grid=param_grid_nb, verbose=1, cv=10, n_jobs=-1)\n",
        "nbModel_grid.fit(x_train, y_train)\n",
        "print(nbModel_grid.best_estimator_)\n",
        "\n",
        "from sklearn.naive_bayes import GaussianNB\n",
        "modelNB = GaussianNB(var_smoothing=0.04328761281083057)\n",
        "modelNB.fit(x_train,y_train)\n",
        "print(f\"Model score is {modelNB.score(x_test,y_test)}\")\n",
        "def modelProbability(prediction0,prediction1,y):\n",
        "    plt.figure(figsize=(15,7))\n",
        "    plt.hist(prediction1[y==0], bins=50, label='No/probability 1', alpha=0.7, color='g')\n",
        "    plt.hist(prediction0[y==0], bins=50, label='No/probability 0')\n",
        "    plt.hist(prediction0[y==1], bins=50, label='Yes/probability 0', alpha=0.7, color='r')\n",
        "    plt.hist(prediction1[y==1], bins=50, label='Yes/probability 1', alpha=0.7, color='y')\n",
        "    plt.xlabel('Probability of being Positive/Negative Class', fontsize=25)\n",
        "    plt.ylabel('Number of records in each bucket', fontsize=25)\n",
        "    plt.legend(fontsize=15)\n",
        "    plt.tick_params(axis='both', labelsize=25, pad=5)\n",
        "    plt.show() \n",
        "pred1=modelNB.predict_proba(x_test)[:,0]\n",
        "pred2 = modelNB.predict_proba(x_test)[:,1]\n",
        "modelProbability(pred1,pred2,y_test)\n",
        "\n",
        "#modelling\n",
        "def modelEvaluation(model,x,y):\n",
        "    print('test set evaluation: ')\n",
        "    y_pred = model.predict(x)\n",
        "    print(accuracy_score(y, y_pred))\n",
        "    print(confusion_matrix(y, y_pred))\n",
        "    print(classification_report(y, y_pred))\n",
        "    \n",
        "modelEvaluation(modelNB,x_test,y_test)"
      ],
      "id": "ab6fa883",
      "execution_count": null,
      "outputs": []
    },
    {
      "cell_type": "markdown",
      "metadata": {},
      "source": [
        "## For balanced\n",
        "\n",
        "For balanced dataset, as we can see there is a slight improvement in performance. The f1 score has improved and also, the yellow bars are now slightly shifted towards right side. \n"
      ],
      "id": "ecc46e1a"
    },
    {
      "cell_type": "code",
      "metadata": {},
      "source": [
        "param_grid_nb = {\n",
        "    'var_smoothing': np.logspace(0,-9, num=100)\n",
        "}\n",
        "\n",
        "from sklearn.naive_bayes import GaussianNB\n",
        "modelNB = GaussianNB(var_smoothing=0.04328761281083057)\n",
        "modelNB.fit(bx_train,by_train)\n",
        "print(f\"Model score is {modelNB.score(x_test,y_test)}\")\n",
        "def modelProbability(prediction0,prediction1,y):\n",
        "    plt.figure(figsize=(15,7))\n",
        "    plt.hist(prediction1[y==0], bins=50, label='No/probability 1', alpha=0.7, color='g')\n",
        "    plt.hist(prediction0[y==0], bins=50, label='No/probability 0')\n",
        "    plt.hist(prediction0[y==1], bins=50, label='Yes/probability 0', alpha=0.7, color='r')\n",
        "    plt.hist(prediction1[y==1], bins=50, label='Yes/probability 1', alpha=0.7, color='y')\n",
        "    plt.xlabel('Probability of being Positive/Negative Class', fontsize=25)\n",
        "    plt.ylabel('Number of records in each bucket', fontsize=25)\n",
        "    plt.legend(fontsize=15)\n",
        "    plt.tick_params(axis='both', labelsize=25, pad=5)\n",
        "    plt.show() \n",
        "pred1=modelNB.predict_proba(x_test)[:,0]\n",
        "pred2 = modelNB.predict_proba(x_test)[:,1]\n",
        "modelProbability(pred1,pred2,y_test)\n",
        "\n",
        "#modelling\n",
        "def modelEvaluation(model,x,y):\n",
        "    print('test set evaluation: ')\n",
        "    y_pred = model.predict(x)\n",
        "    print(accuracy_score(y, y_pred))\n",
        "    print(confusion_matrix(y, y_pred))\n",
        "    print(classification_report(y, y_pred))\n",
        "    \n",
        "modelEvaluation(modelNB,x_test,y_test)"
      ],
      "id": "6b8d641d",
      "execution_count": null,
      "outputs": []
    },
    {
      "cell_type": "markdown",
      "metadata": {},
      "source": [
        "As we can see from the graph for the red and yellow bars for yes(1 term deposit) are coming on the opposite sides which is not expected.\n",
        "\n",
        "AUC Curve : @fig-roc-curve \\\n",
        "Precision Recall Curve : @fig-pr-curve\n",
        "\n",
        "# KNN \n",
        "Using the k - nearest neighbours we try to predict the testing dataset. Now to find the optimal k value we will look into precision and accuracy curve for different k values. \n"
      ],
      "id": "199da9c9"
    },
    {
      "cell_type": "code",
      "metadata": {},
      "source": [
        "acc = []\n",
        "prec = []\n",
        "# Will take some time\n",
        "from sklearn import metrics\n",
        "for i in range(1,40):\n",
        "    neigh = KNeighborsClassifier(n_neighbors = i).fit(x_train,y_train)\n",
        "    y_pred = neigh.predict(x_test)\n",
        "    acc.append(metrics.accuracy_score(y_test, y_pred))\n",
        "    prec.append((metrics.average_precision_score(y_test, y_pred)))"
      ],
      "id": "cbd7c896",
      "execution_count": null,
      "outputs": []
    },
    {
      "cell_type": "code",
      "metadata": {},
      "source": [
        "#| fig-cap: \"Accuracy curve for different k values\"\n",
        "plt.figure(figsize=(10,6))\n",
        "plt.plot(range(1,40),acc,color = 'blue',linestyle='dashed', \n",
        "         marker='o',markerfacecolor='red',  markersize=10)\n",
        "plt.title('accuracy vs. K Value')\n",
        "plt.xlabel('K')\n",
        "plt.ylabel('Accuracy')\n",
        "print(\"Maximum accuracy:-\",max(acc),\"at K =\",acc.index(max(acc)))"
      ],
      "id": "07ff07d5",
      "execution_count": null,
      "outputs": []
    },
    {
      "cell_type": "code",
      "metadata": {},
      "source": [
        "#| fig-cap: \"Precision curve for different k values\"\n",
        "#plt.figure(figsize=(10,6))\n",
        "plt.plot(range(1,40),prec,color = 'blue',linestyle='dashed', \n",
        "         marker='o',markerfacecolor='red', markersize=10)\n",
        "plt.title('precision vs. K Value')\n",
        "plt.xlabel('K')\n",
        "plt.ylabel('Precision')\n",
        "print(\"Maximum Precision:-\",max(prec),\"at K =\",prec.index(max(prec)))"
      ],
      "id": "19863dd1",
      "execution_count": null,
      "outputs": []
    },
    {
      "cell_type": "markdown",
      "metadata": {},
      "source": [
        "Based on the above plot, optimal k value is 3, with maximum f1 score of 0.64. \n"
      ],
      "id": "ae15ec27"
    },
    {
      "cell_type": "code",
      "metadata": {},
      "source": [
        "mrroger = 3\n",
        "knn = KNeighborsClassifier(n_neighbors=mrroger) # instantiate with n value given\n",
        "knn.fit(x_train,y_train)\n",
        "y_pred = knn.predict(x_test)\n",
        "#y_pred = knn.predict_proba(x_test)\n",
        "print(f\"Train set accuracy {accuracy_score(y_train, knn.predict(x_train))}\")\n",
        "print(f\"Test set accuracy {accuracy_score(y_test, y_pred)}\")\n",
        "print(confusion_matrix(y_test, y_pred))\n",
        "print(classification_report(y_test, y_pred))"
      ],
      "id": "ae8e160d",
      "execution_count": null,
      "outputs": []
    },
    {
      "cell_type": "markdown",
      "metadata": {},
      "source": [
        "AUC Curve : @fig-roc-curve \\\n",
        "Precision Recall Curve : @fig-pr-curve\n",
        "\n",
        "\n",
        "# ROC -AUC Curve \n"
      ],
      "id": "f7980345"
    },
    {
      "cell_type": "code",
      "metadata": {},
      "source": [
        "#| label: fig-roc-curve\n",
        "#| fig-cap: AUC ROC Curve for all Models\n",
        "from sklearn.metrics import roc_auc_score, roc_curve\n",
        "\n",
        "# Instantiate the classfiers and make a list\n",
        "classifiers = [LogisticRegression(random_state=123),\n",
        "        DecisionTreeClassifier(criterion='entropy',max_depth=8,max_features= 0.8,splitter='best'),\n",
        "        RandomForestClassifier(bootstrap=True,max_depth=80,max_features=3,n_estimators=200),\n",
        "        #SVC(kernel='poly', random_state=123),\n",
        "        GaussianNB(var_smoothing=0.04328761281083057),\n",
        "        KNeighborsClassifier(n_neighbors=mrroger)]\n",
        "\n",
        "# Define a result table as a DataFrame\n",
        "result_table = pd.DataFrame(columns=['classifiers', 'fpr','tpr','auc'])\n",
        "X_train = x_train\n",
        "X_test = x_test\n",
        "# Train the models and record the results\n",
        "for cls in classifiers:\n",
        "    model = cls.fit(X_train, y_train)\n",
        "    yproba = model.predict_proba(X_test)[::,1]\n",
        "    \n",
        "    fpr, tpr, _ = roc_curve(y_test,  yproba)\n",
        "    auc = roc_auc_score(y_test, yproba)\n",
        "    \n",
        "    result_table = result_table.append({'classifiers':cls.__class__.__name__,\n",
        "                                        'fpr':fpr, \n",
        "                                        'tpr':tpr, \n",
        "                                        'auc':auc}, ignore_index=True)\n",
        "\n",
        "# Set name of the classifiers as index labels\n",
        "result_table.set_index('classifiers', inplace=True)\n",
        "\n",
        "fig = plt.figure(figsize=(8,6))\n",
        "\n",
        "for i in result_table.index:\n",
        "    plt.plot(result_table.loc[i]['fpr'], \n",
        "             result_table.loc[i]['tpr'], \n",
        "             label=\"{}, AUC={:.3f}\".format(i, result_table.loc[i]['auc']))\n",
        "    \n",
        "plt.plot([0,1], [0,1], color='orange', linestyle='--')\n",
        "\n",
        "plt.xticks(np.arange(0.0, 1.1, step=0.1))\n",
        "plt.xlabel(\"Flase Positive Rate\", fontsize=15)\n",
        "\n",
        "plt.yticks(np.arange(0.0, 1.1, step=0.1))\n",
        "plt.ylabel(\"True Positive Rate\", fontsize=15)\n",
        "\n",
        "plt.title('ROC Curve Analysis', fontweight='bold', fontsize=15)\n",
        "plt.legend(prop={'size':13}, loc='lower right')\n",
        "\n",
        "plt.show()"
      ],
      "id": "fig-roc-curve",
      "execution_count": null,
      "outputs": []
    },
    {
      "cell_type": "markdown",
      "metadata": {},
      "source": [
        "# Precision Recall Curve\n",
        "\n",
        "In imbalance problem since we have a high number of Negatives, this makes the False Posiitve Rate as low, resulting in the shift of ROC AUC Curve towards left, which is slightly misleading.\n",
        "\n",
        "So in imbalance problem we usually make sure to look at precision recall curve as well. \n"
      ],
      "id": "18c4fefa"
    },
    {
      "cell_type": "code",
      "metadata": {},
      "source": [
        "#| label: fig-pr-curve\n",
        "#| fig-cap: Precision Recall Curve for all Models\n",
        "#Logistic Regression\n",
        "lr_probs = lr.predict_proba(X_test_final)\n",
        "lr_probs = lr_probs[:, 1]\n",
        "yhat = lr.predict(X_test_final)\n",
        "lr_precision, lr_recall, _ = precision_recall_curve(y_test, lr_probs)\n",
        "no_skill = len(y_test[y_test==1]) / len(y_test)\n",
        "pyplot.plot([0, 1], [no_skill, no_skill], linestyle='--', label='No Skill')\n",
        "pyplot.plot(lr_recall, lr_precision, marker='.', label='Logistic')\n",
        "# axis labels\n",
        "\n",
        "#Decision Tree Classifier\n",
        "dtc_probs = dtc.predict_proba(x_test_dt)\n",
        "dtc_probs = dtc_probs[:, 1]\n",
        "yhat = dtc.predict(x_test_dt)\n",
        "dtc_precision, dtc_recall, _ = precision_recall_curve(y_test, dtc_probs)\n",
        "no_skill = len(y_test[y_test==1]) / len(y_test)\n",
        "pyplot.plot(dtc_recall, dtc_precision, marker='.', label='Decision Tree')\n",
        "\n",
        "#Random Forest Classifier\n",
        "rfc_probs = rfc.predict_proba(x_test_rf)\n",
        "rfc_probs = rfc_probs[:, 1]\n",
        "yhat = rfc.predict(x_test_rf)\n",
        "rfc_precision, rfc_recall, _ = precision_recall_curve(y_test, rfc_probs)\n",
        "no_skill = len(y_test[y_test==1]) / len(y_test)\n",
        "pyplot.plot(rfc_recall, rfc_precision, marker='.', label='Random Forest')\n",
        "\n",
        "#Gaussian Model\n",
        "nb_probs = modelNB.predict_proba(x_test)\n",
        "# keep probabilities for the positive outcome only\n",
        "nb_probs = nb_probs[:, 1]\n",
        "# predict class values\n",
        "yhat = modelNB.predict(x_test)\n",
        "nb_precision, nb_recall, _ = precision_recall_curve(y_test, nb_probs)\n",
        "no_skill = len(y_test[y_test==1]) / len(y_test)\n",
        "pyplot.plot(nb_recall, nb_precision, marker='.', label='Naive Bayes')\n",
        "\n",
        "#knn\n",
        "knn_probs = knn.predict_proba(x_test)\n",
        "knn_probs = knn_probs[:, 1]\n",
        "yhat = knn.predict(x_test)\n",
        "knn_precision, knn_recall, _ = precision_recall_curve(y_test, knn_probs)\n",
        "no_skill = len(y_test[y_test==1]) / len(y_test)\n",
        "pyplot.plot(knn_recall, knn_precision, marker='.', label='KNN')\n",
        "\n",
        "\n",
        "pyplot.xlabel('Recall')\n",
        "pyplot.ylabel('Precision')\n",
        "# show the legend\n",
        "pyplot.legend()\n",
        "# show the plot\n",
        "pyplot.show()"
      ],
      "id": "fig-pr-curve",
      "execution_count": null,
      "outputs": []
    },
    {
      "cell_type": "markdown",
      "metadata": {},
      "source": [
        "As per the ROC Curve and Precision Recall curve, KNN is performing best. \n",
        "But after combining these results with precision recall curve, we suggest using Random Forest for our problem.\n",
        "\n",
        "\n",
        "# Summary \n",
        "| Model                        | Accuracy | Precision | Recall | AUC   | \n",
        "|------------------------------|----------|-----------|--------|-------|\n",
        "| Logistic(Cutoff=0.25)        | 0.88     | 0.51      |  0.58  | 0.872 |\n",
        "| Logistic (Balanced-Train)    | 0.85     | 0.49      |  0.54  |       |\n",
        "| Decision Tree                | 0.91     | 0.66      |  0.47  | 0.923 |\n",
        "| Random Forest                | 0.88     | 0.66      |  0.46  | 0.913 |\n",
        "| SVC                          | 0.89     |  0.75     |  0.15  |       |\n",
        "| Linear SVC                   | 0.89     | 0.62      | 0.16   |       |\n",
        "| Gaussian Bayes               | 0.88     | 0.50      | 0.25   | 0.841 |         \n",
        "| KNN                          | 0.92     | 0.78      | 0.54   | 0.965 |\n",
        "| Naive Bayes                  | 0.85     | 0.56      | 0.02   |       |\n",
        "| Naive Bayes (Balanced-Train) | 0.69     | 0.19      | 0.35   |       |\n",
        ": Summary of Models {#tbl-letters}\n",
        "\n",
        "See @tbl-letters.\n",
        "\n",
        "# Conclusion \n",
        "\n",
        "Our model would be beneficial in the following ways : \n",
        "\n",
        "* For target marketing for bank campaigns, or in other events. For example based on the customer's job, age and loan history the model would can easily predict whether the customer is going to subscribe to the term deposit or not. So out of the million people, we can easily shortlist people based on our model and spend the time on them so as to improve efficiency. \n",
        "\n",
        "* Improving buissness effficiency of banks. Since using the eda or model we can easily check the subscription insights, it would be very helpful for banks to improve their stratergies. For example, based on the monthly subscription rates, if banks are deciding the campaign promotion time, it can improve there efficiency.  \n",
        "\n",
        "* Since, we have month as a input factor in our model, and all other values are static, we can even find the best month to contact customer based on the predicted probability of the customer. As there can be a relation between the job type and the month they are subscribing or their fluctuating balance and age. This can be very useful in finding the best time to contact. \n",
        "\n",
        "* Based on the model, since the number of contact is playing a major role, if we have the optimal time to contact them, we can restrict our calls to less than 5 and find a better turnover.\n",
        "\n",
        "* We didn't see any relation with the social and economic factors here, but if we had the data for multiple years, there was a possibility of finding a relation. Our model can accomodate these factors as well, and if trained by accomodating these factors as well, this can be helpful for banks in finding the proper time for there campaign. \n",
        "\n",
        "Hence, analyzing this kind of marketing dataset has given us valuable insight into how we can tweak our model to give buisness insights as well as customer insights to improve subscription of term deposits.  \n",
        "\n",
        "# Reference\n",
        "\n",
        "* https://www.kaggle.com/janiobachmann/bank-marketing-dataset\n",
        "\n",
        "* (PDF) Data Analysis of a Portuguese marketing campaign using bank ... (no date). Available at: https://www.researchgate.net/publication/339988208_Data_Analysis_of_a_Portuguese_Marketing_Campaign_using_Bank_Marketing_data_Set (Accessed: December 20, 2022). \n",
        "\n",
        "* Bank marketing data set. (n.d.). 1010data.com. Retrieved December 20, 2022, from https://docs.1010data.com/Tutorials/MachineLearningExamples/BankMarketingDataSet_2.html\n",
        "\n",
        "* Manda, H., Srinivasan, S., & Rangarao, D. (2021). IBM Cloud Pak for Data: An enterprise platform to operationalize data, analytics, and AI. Packt Publishing.\n",
        "\n",
        "* Solving Bank Marketing Calssification Problem - Databricks. (n.d.). Databricks.com. Retrieved December 20, 2022, from https://databricks-prod-cloudfront.cloud.databricks.com/public/4027ec902e239c93eaaa8714f173bcfc/8143187682226564/2297613386094950/3186001515933643/latest.html\n",
        "\n",
        "* Solving Bank Marketing Calssification Problem - Databricks. (n.d.). Databricks.com. Retrieved December 20, 2022, from https://databricks-prod-cloudfront.cloud.databricks.com/public/4027ec902e239c93eaaa8714f173bcfc/8143187682226564/2297613386094950/3186001515933643/latest.html\n",
        "\n",
        "* Bank Marketing Data Set. (n.d.). UCI Machine Learning Repository. Retrieved December 20, 2022, from https://archive.ics.uci.edu/ml/datasets/Bank+Marketing\n",
        "\n",
        "* https://tradingeconomics.com/\n"
      ],
      "id": "bdd75bd4"
    }
  ],
  "metadata": {
    "kernelspec": {
      "name": "python3",
      "language": "python",
      "display_name": "Python 3 (ipykernel)"
    }
  },
  "nbformat": 4,
  "nbformat_minor": 5
}