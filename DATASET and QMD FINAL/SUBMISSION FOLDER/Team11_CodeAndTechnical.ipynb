{
  "cells": [
    {
      "cell_type": "raw",
      "metadata": {},
      "source": [
        "---\n",
        "title: 'AN ANALYSIS OF PORTUGUESE BANK MARKETING DATA '\n",
        "author: 'TEAM 11: Anjali Mudgal , Guoshan Yu and Medhasweta Sen'\n",
        "date: 'November 21, 2022'\n",
        "subtitle: 'The George Washington University (DATS 6103: An Introduction to Data Mining)'\n",
        "format:\n",
        "  html:\n",
        "    smooth-scroll: true\n",
        "    toc-location: left\n",
        "    code-fold: true\n",
        "    number-sections: true\n",
        "    toc: true\n",
        "    toc-depth: 3\n",
        "    toc-float: true\n",
        "---"
      ],
      "id": "4a5dbdba"
    },
    {
      "cell_type": "markdown",
      "metadata": {},
      "source": [
        "# INTRODUCTION\n",
        "\n",
        "Bank marketing is the practice of attracting and acquiring new customers through traditional media and digital media strategies. The use of these media strategies helps determine what kind of customer is attracted to a certain institutions. This also includes different banking institutions purposefully using different strategies to attract the type of customer they want to do business with.\n",
        "\n",
        "As a discipline, marketing has evolved over the past few decades to become what it is today. Earlier, marketing strategies were primarily a means of spreading brand awareness. Today, marketing has been reinvented to fit a much bigger role. Creating both value and revenue to the institution. It is a big step up from its previous communication role, no doubt. One that was necessitated by the evolution of three factors: the consumer, the technology, and data analytics.\n",
        "\n",
        "Marketing has evolved from a communication role to a revenue generating role. The consumer has evolved from being a passive recipient of marketing messages to an active participant in the marketing process. Technology has evolved from being a means of communication to a means of data collection and analysis. Data analytics has evolved from being a means of understanding the consumer to a means of understanding the consumer and the institution.\n",
        "\n",
        "Bank marketing strategy is increasingly focused on digital channels, including social media, video, search and connected TV. As bank and credit union marketers strive to promote brand awareness, they need a new way to assess channel ROI and more accurate data to enable personalized offers. Add to that the growing importance of purpose-driven marketing.\n",
        "\n",
        "The relentless pace of digitization is disrupting not only the established order in banking, but bank marketing strategies. Marketers at both traditional institutions and digital disruptors are feeling the pressure.\n",
        "\n",
        "Just as bank marketers begin to master one channel, consumers move to another. Many now toggle between devices on a seemingly infinite number of platforms, making it harder than ever for marketers to pin down the right consumers at the right time in the right place.\n",
        "\n",
        "![](expected-marketing-budget-changes-by-channel.png)\n",
        "\n",
        "## The Data Set\n",
        "\n",
        "\n",
        "The data set used in this analysis is from a Portuguese bank. The data set contains 41,188 observations and 21 variables. The variables include the following:\n",
        "\n",
        "1. - age (numeric)\n",
        "2. - job : type of job (categorical: 'admin.','blue-collar','entrepreneur','housemaid','management','retired','self-employed','services','student','technician','unemployed','unknown')\n",
        "3. - marital : marital status (categorical: 'divorced','married','single','unknown'; note: 'divorced' means divorced or widowed)\n",
        "4. - education (categorical: 'basic.4y','basic.6y','basic.9y','high.school','illiterate','professional.course','university.degree','unknown')\n",
        "5. - default: has credit in default? (categorical: 'no','yes','unknown')\n",
        "6. - housing: has housing loan? (categorical: 'no','yes','unknown')\n",
        "7. - loan: has personal loan? (categorical: 'no','yes','unknown')\n",
        "8. - contact: contact communication type (categorical: 'cellular','telephone')\n",
        "9. - month: last contact month of year (categorical: 'jan', 'feb', 'mar', ..., 'nov', 'dec')\n",
        "10. - day_of_week: last contact day of the week (categorical: 'mon','tue','wed','thu','fri')\n",
        "11. - duration: last contact duration, in seconds (numeric). Important note: this attribute highly affects the output target (e.g., if duration=0 then y='no'). Yet, the duration is not known before a call is performed. Also, after the end of the call y is obviously known. Thus, this input should only be included for benchmark purposes and should be discarded if the intention is to have a realistic predictive model.\n",
        "12. - campaign: number of contacts performed during this campaign and for this client (numeric, includes last contact)\n",
        "13. - pdays: number of days that passed by after the client was last contacted from a previous campaign (numeric; 999 means client was not previously contacted)\n",
        "14. - previous: number of contacts performed before this campaign and for this client (numeric)\n",
        "15. - poutcome: outcome of the previous marketing campaign (categorical: 'failure','nonexistent','success')\n",
        "16. - emp.var.rate: employment variation rate - quarterly indicator (numeric)\n",
        "17. - cons.price.idx: consumer price index - monthly indicator (numeric)\n",
        "18. - cons.conf.idx: consumer confidence index - monthly indicator (numeric)\n",
        "19. - euribor3m: euribor 3 month rate - daily indicator (numeric)\n",
        "20. - nr.employed: number of employees - quarterly indicator (numeric)\n",
        "21. - balance - average yearly balance, in euros (numeric)\n",
        "22. - y - has the client subscribed a term deposit? (binary: 'yes','no')\n",
        "\n",
        "## The SMART Questions\n",
        "![](maxresdefault.jpg)\n",
        "The SMART questions are as follows:\n",
        "\n",
        "1.Relationship between subscribing the term deposit and how much the customer\n",
        "is contacted (last contact, Campaign, Pdays, Previous Number of contacts)\n",
        "2.Since the dataset is imbalanced, will down sampling/up sampling or other\n",
        "techniques improve upon the accuracy of models. 3.Marital status, age, job, and loan to find out the financially stable population?Will\n",
        "that affect the outcome?\n",
        "4.Effect of dimensionality reduction on accuracy of the model.\n",
        "5.The optimal cut off value for classification of our imbalance dataset. \n",
        "6.Modeling to estimate the potential population who would subscribe to termdeposit. 7. How are the likelihood of subscriptions affected by social and economic factors?\n",
        "\n",
        "As per the comments, 2 and 6 are more of analysis than comments so they would be covered in our analysis. \n",
        "\n",
        "Throughout the paper we would try to answer the questions \n",
        "\n",
        "## Importing the libraries\n"
      ],
      "id": "62dd74a2"
    },
    {
      "cell_type": "code",
      "metadata": {},
      "source": [
        "import numpy as np \n",
        "import pandas as pd \n",
        "import os \n",
        "import matplotlib.pyplot as plt\n",
        "%matplotlib inline\n",
        "import warnings\n",
        "\n",
        "from scipy.stats import zscore\n",
        "import seaborn as sns\n",
        "import scipy.stats as stats\n",
        "import statsmodels.api as sm\n",
        "import statsmodels.formula.api as smf\n",
        "import statsmodels.stats.api as sms\n",
        "import statsmodels.stats.multicomp as mc\n",
        "import statsmodels.stats.outliers_influence as influence\n",
        "import statsmodels.stats.diagnostic as diag\n",
        "import statsmodels.stats.stattools as stattools\n",
        "import statsmodels.stats.anova as anova\n",
        "import statsmodels.stats.weightstats as weightstats\n",
        "import statsmodels.stats.libqsturng as libqsturng\n",
        "import statsmodels.stats.power as power\n",
        "import statsmodels.stats.proportion as proportion\n",
        "import statsmodels.stats.contingency_tables as contingency_tables\n",
        "import statsmodels.stats.multitest as multitest\n",
        "import statsmodels.stats.diagnostic as diagnostic\n",
        "import statsmodels.stats.correlation_tools as correlation_tools\n",
        "from statsmodels.formula.api import ols\n",
        "import researchpy as rp\n",
        "import scipy.stats as stats\n",
        "import seaborn as sns\n",
        "# Import label encoder\n",
        "from sklearn import preprocessing\n",
        "warnings.filterwarnings('ignore')\n",
        "sns.set_theme(style=\"whitegrid\")\n",
        "\n",
        "from sklearn.model_selection import train_test_split\n",
        "from imblearn.over_sampling import SMOTE\n",
        "from sklearn.ensemble import RandomForestClassifier\n",
        "from sklearn.svm import SVC, LinearSVC\n",
        "from sklearn.naive_bayes import GaussianNB\n",
        "from sklearn.neighbors import KNeighborsClassifier\n",
        "from sklearn.preprocessing import scale\n",
        "from sklearn.cluster import KMeans\n",
        "\n",
        "from sklearn.linear_model import LogisticRegression\n",
        "from sklearn import metrics\n",
        "from sklearn.metrics import accuracy_score\n",
        "from sklearn.metrics import confusion_matrix \n",
        "from sklearn.metrics import classification_report\n",
        "from sklearn.feature_selection import RFE\n",
        "from sklearn.tree import DecisionTreeClassifier\n",
        "from matplotlib import pyplot"
      ],
      "id": "9d4b8240",
      "execution_count": null,
      "outputs": []
    },
    {
      "cell_type": "markdown",
      "metadata": {},
      "source": [
        "## Importing the dataset\n"
      ],
      "id": "a5fc787e"
    },
    {
      "cell_type": "code",
      "metadata": {},
      "source": [
        "inputFile = \"primary.csv\"\n",
        "df = pd.read_csv(inputFile)"
      ],
      "id": "a6a561d9",
      "execution_count": null,
      "outputs": []
    },
    {
      "cell_type": "markdown",
      "metadata": {},
      "source": [
        "## Basic Information about the data\n"
      ],
      "id": "cdbafbd1"
    },
    {
      "cell_type": "code",
      "metadata": {},
      "source": [
        "#| code-fold: true\n",
        "#| code-summary: \"Show the code\"\n",
        "\n",
        "print(f\"Shape of dataset is : {df.shape}\")\n",
        "print(f\"Columns in dataset \\n {df.info()}\")"
      ],
      "id": "3d972962",
      "execution_count": null,
      "outputs": []
    },
    {
      "cell_type": "markdown",
      "metadata": {},
      "source": [
        "Here, we have 45211 variables and 23 columns. \n",
        "\n",
        "# Exploratory Data Analysis (EDA)\n",
        "\n",
        "Here we would explore the variables which might be important for subscription of term deposits. \n",
        "\n",
        "## Analysing the variables \n",
        "### Job Description\n"
      ],
      "id": "cb443157"
    },
    {
      "cell_type": "code",
      "metadata": {},
      "source": [
        "# JOB\n",
        "plt.figure(figsize = (8, 5))\n",
        "sns.countplot(data=df,y='job',hue='y')\n",
        "plt.title(\"Type of Job Distribution\")"
      ],
      "id": "e8f00e51",
      "execution_count": null,
      "outputs": []
    },
    {
      "cell_type": "markdown",
      "metadata": {},
      "source": [
        "People in management, technical are more likely to subscibe to the term deposit  \n",
        "So we will explore them later.\n",
        "\n",
        "### Marital "
      ],
      "id": "38055efd"
    },
    {
      "cell_type": "code",
      "metadata": {},
      "source": [
        "# MARITAL\n",
        "plt.figure(figsize = (8, 5))\n",
        "sns.countplot(data=df,y='marital',hue='y')\n",
        "plt.title(\"Type of marital Distribution\")"
      ],
      "id": "18e6db6f",
      "execution_count": null,
      "outputs": []
    },
    {
      "cell_type": "markdown",
      "metadata": {},
      "source": [
        "Married and Single are more likely to subscribe for term deposits rather than divorced. But this might also be because of less number of people being divorced in total. \n"
      ],
      "id": "7e63534b"
    },
    {
      "cell_type": "code",
      "metadata": {},
      "source": [
        "# EDUCATION \n",
        "plt.figure(figsize = (8, 5))\n",
        "sns.countplot(data=df,y='education',hue='y')\n",
        "plt.title(\"Type of education Distribution\")"
      ],
      "id": "6811fd01",
      "execution_count": null,
      "outputs": []
    },
    {
      "cell_type": "markdown",
      "metadata": {},
      "source": [
        "There are unknown values in education that we need to get rid of. \n",
        "\n",
        "### Loan\n"
      ],
      "id": "7d699af5"
    },
    {
      "cell_type": "code",
      "metadata": {},
      "source": [
        "# Loan\n",
        "sns.countplot(data=df,y='loan',hue='y')\n",
        "plt.title(\"Type of loan Distribution\")"
      ],
      "id": "44c79279",
      "execution_count": null,
      "outputs": []
    },
    {
      "cell_type": "markdown",
      "metadata": {},
      "source": [
        "People with personal loans are less likely to subscribe to term deposit but the difference here is not huge."
      ],
      "id": "83ed41c3"
    },
    {
      "cell_type": "code",
      "metadata": {},
      "source": [
        "# Housing Loan\n",
        "sns.countplot(data=df,y='housing',hue='y')\n",
        "plt.title(\"Type of housing Distribution\")"
      ],
      "id": "ef30b53c",
      "execution_count": null,
      "outputs": []
    },
    {
      "cell_type": "markdown",
      "metadata": {},
      "source": [
        "People with housing loans are less likely to subscribe to term deposit but the difference here is not huge. \n"
      ],
      "id": "860b523b"
    },
    {
      "cell_type": "code",
      "metadata": {},
      "source": [
        "# DEFAULT\n",
        "sns.countplot(data=df,y='default',hue='y')\n",
        "plt.title(\"Type of default Distribution\")"
      ],
      "id": "d08176f9",
      "execution_count": null,
      "outputs": []
    },
    {
      "cell_type": "markdown",
      "metadata": {},
      "source": [
        "So people who have not paid back there loans and have credits, have not subcribed to the term deposit. \n",
        "\n",
        "\n",
        "* people who have loans are subscribing to term deposit less. \n",
        "\n",
        "### Contact"
      ],
      "id": "d0c8d2a4"
    },
    {
      "cell_type": "code",
      "metadata": {},
      "source": [
        "# CONTACT\n",
        "sns.countplot(data=df,y='contact',hue='y')\n",
        "plt.title(\"Type of Contact Distribution\")"
      ],
      "id": "c24c6175",
      "execution_count": null,
      "outputs": []
    },
    {
      "cell_type": "markdown",
      "metadata": {},
      "source": [
        "* since the type of communication(cellular and telephone) is not really a good indicator of subcription, we drop this variable.  \n",
        "\n",
        "#### Month"
      ],
      "id": "b5156444"
    },
    {
      "cell_type": "code",
      "metadata": {},
      "source": [
        "# MONTH\n",
        "sns.countplot(x ='month',hue='y', data = df)\n",
        "plt.title(\"Type of Months Distribution\")"
      ],
      "id": "ad05f00c",
      "execution_count": null,
      "outputs": []
    },
    {
      "cell_type": "markdown",
      "metadata": {},
      "source": [
        "Here,we see that most number of term deposit subscription is in the month of may while the least in the month of  december.\n"
      ],
      "id": "45a3c843"
    },
    {
      "cell_type": "code",
      "metadata": {},
      "source": [
        "def pieChart(x_var,title):\n",
        "    yesNo = df.groupby(x_var).size()\n",
        "    yesNo.plot(kind='pie', title=title, figsize=[8,8],\n",
        "          autopct=lambda p: '{:.2f}%({:.0f})'.format(p,(p/100)*yesNo.sum()))\n",
        "    plt.show()"
      ],
      "id": "bfdd766c",
      "execution_count": null,
      "outputs": []
    },
    {
      "cell_type": "markdown",
      "metadata": {},
      "source": [
        "### Term Deposit \n",
        "Distribution of y(target) variable "
      ],
      "id": "303745bb"
    },
    {
      "cell_type": "code",
      "metadata": {},
      "source": [
        "pieChart('y','Percentage of yes and no target(term deposit)in dataset')"
      ],
      "id": "a285596c",
      "execution_count": null,
      "outputs": []
    },
    {
      "cell_type": "markdown",
      "metadata": {},
      "source": [
        "only 11.7% of enteries are for y=1, so our dataset is unbalanced. \n"
      ],
      "id": "df803f39"
    },
    {
      "cell_type": "code",
      "metadata": {},
      "source": [
        "# POUTCOME\n",
        "pieChart('poutcome','Distribution of poutcome in dataset')\n",
        "df.poutcome.value_counts()\n",
        "df.groupby('poutcome').size()"
      ],
      "id": "9d5cda8e",
      "execution_count": null,
      "outputs": []
    },
    {
      "cell_type": "markdown",
      "metadata": {},
      "source": [
        "There are *36959   unknown* values and  1840 values with other category.\n",
        "Since, 82% of entries are unknown, 4.07% other, we will directly drop this column. \n",
        "\n",
        "\n",
        "\n",
        "## Age, duration and balance"
      ],
      "id": "09f6b5f9"
    },
    {
      "cell_type": "code",
      "metadata": {},
      "source": [
        "# plotting violen plot for duration and balance \n",
        "\n",
        "f, axes = plt.subplots(1, 2,sharex=True)\n",
        "axes[0].set_title('For duration')\n",
        "sns.violinplot( x='y',y='duration',  split=True, inner=\"quart\", ax=axes[0], data=df)\n",
        "axes[1].set_title('For balance')\n",
        "sns.violinplot( x='y',y='balance',  split=True, inner=\"quart\", ax=axes[1], data=df)\n",
        "sns.despine(left=True)\n",
        "plt.show()"
      ],
      "id": "45984f06",
      "execution_count": null,
      "outputs": []
    },
    {
      "cell_type": "markdown",
      "metadata": {},
      "source": [
        "* There are outliers in duration and balance so we need to get rid of them. \n",
        "* people who have a high balance, are more likely to subscribe to term deposit. \n"
      ],
      "id": "0af945c8"
    },
    {
      "cell_type": "code",
      "metadata": {},
      "source": [
        "sns.violinplot( x='y',y='age',  split=True, inner=\"quart\", data=df)\n",
        "plt.title('Age distribution for each response variable')\n",
        "plt.show()"
      ],
      "id": "86adbd1c",
      "execution_count": null,
      "outputs": []
    },
    {
      "cell_type": "markdown",
      "metadata": {},
      "source": [
        "* No outliers \n",
        "* People who are old are more likely to subscribe to term deposit. \n",
        "\n",
        "\n",
        "# Summary  \n",
        "## Data Cleaning \n",
        "\n",
        "* Contact is not useful so we drop it.\n",
        "* In poutcome, we have a lot of missing values so we drop it.  \n",
        "* Day is not giving any relevant infomation so we drop it. \n",
        "* Removing the unknowns \n",
        "* Remove the outliers from balance and duration.\n",
        "\n",
        "## Data Visualization\n",
        "\n",
        "# Data Cleaning \n",
        "\n",
        "## Dropping the column "
      ],
      "id": "cc844919"
    },
    {
      "cell_type": "code",
      "metadata": {},
      "source": [
        "clean_data = df.drop(['contact','poutcome','day'],axis=1)"
      ],
      "id": "5f28f3f8",
      "execution_count": null,
      "outputs": []
    },
    {
      "cell_type": "markdown",
      "metadata": {},
      "source": [
        "As most of the values of poutcome is unknown making the column unimportant in subsequent analysis. More over the day of the week has no significant relation to the subcription of term deposit neither cantact type.\n",
        "## Removing unknown from job and education"
      ],
      "id": "02025840"
    },
    {
      "cell_type": "code",
      "metadata": {},
      "source": [
        "for i in clean_data.columns:\n",
        "    if clean_data[i].dtype == np.int64:\n",
        "        pass\n",
        "    else:\n",
        "        # printing names and count using loop.\n",
        "        for idx, name in enumerate(clean_data[i].value_counts().index.tolist()):\n",
        "            if name == 'unknown' or name == 'other':\n",
        "                print(f\"for {i}\")\n",
        "                print(f\"{name} : {clean_data[i].value_counts()[idx]}\")\n",
        "                if clean_data[i].value_counts()[idx] < 15000:\n",
        "                    print(f\"dropping rows with value as {name} in {i}\")\n",
        "                    clean_data = clean_data[clean_data[i] != name]"
      ],
      "id": "aa469294",
      "execution_count": null,
      "outputs": []
    },
    {
      "cell_type": "markdown",
      "metadata": {},
      "source": [
        "## Dropping the rows \n",
        "\n",
        "### Dropping the rows where values are 3SD away \n",
        "\n",
        "*Balance - Outliers* \n"
      ],
      "id": "fa283053"
    },
    {
      "cell_type": "code",
      "metadata": {},
      "source": [
        "standard_deviation = clean_data[['balance']].std()\n",
        "mean = clean_data[['balance']].mean()\n",
        "clean_data['balance_outliers'] = clean_data['balance']\n",
        "clean_data['balance_outliers']= zscore(clean_data['balance_outliers'])\n",
        "print(f\"removing entries before {mean - 3*standard_deviation } and after {mean + 3*standard_deviation }\")\n",
        "three_SD = (clean_data['balance_outliers']>3) | (clean_data['balance_outliers']<-3 )\n",
        "clean_data = clean_data.drop(clean_data[three_SD].index, axis = 0, inplace = False)\n",
        "clean_data = clean_data.drop('balance_outliers', axis=1)"
      ],
      "id": "c246fabd",
      "execution_count": null,
      "outputs": []
    },
    {
      "cell_type": "markdown",
      "metadata": {},
      "source": [
        "*Duration - Outliers*\n",
        "\n",
        "### Dropping rows where the duration of calls is less than 5sec since that is irrelevant "
      ],
      "id": "c7b28d8e"
    },
    {
      "cell_type": "code",
      "metadata": {},
      "source": [
        "less_5 = (clean_data['duration']<5)\n",
        "clean_data = clean_data.drop(clean_data[less_5].index, axis = 0, inplace = False)"
      ],
      "id": "43cb5b71",
      "execution_count": null,
      "outputs": []
    },
    {
      "cell_type": "markdown",
      "metadata": {},
      "source": [
        "Changing unit of duration from seconds to minutes to make more sense\n"
      ],
      "id": "cd87816d"
    },
    {
      "cell_type": "code",
      "metadata": {},
      "source": [
        "clean_data['duration'] = clean_data['duration'].apply(lambda n:n/60).round(2)"
      ],
      "id": "e36ec5b1",
      "execution_count": null,
      "outputs": []
    },
    {
      "cell_type": "markdown",
      "metadata": {},
      "source": [
        "# Data Visualization \n",
        "\n",
        "### Contact versus Subscription month wise\n",
        "\n",
        "### Number of calls versus Duration and affect on subscription"
      ],
      "id": "360c300a"
    },
    {
      "cell_type": "code",
      "metadata": {},
      "source": [
        "import seaborn as sns\n",
        "dur_cam = sns.lmplot(x='duration', y='campaign',data = clean_data,\n",
        "                     hue = 'y',\n",
        "                     fit_reg = False,\n",
        "                     scatter_kws={'alpha':0.6}, height =7)\n",
        "\n",
        "plt.axis([0,65,0,65])\n",
        "plt.ylabel('Number of Calls')\n",
        "plt.xlabel('Duration of Calls (Minutes)')\n",
        "plt.title('The Relationship between the Number and Duration of Calls (with y)')\n",
        "\n",
        "# Annotation\n",
        "plt.axhline(y=5, linewidth=2, color=\"k\", linestyle='--')\n",
        "plt.annotate('Higher subscription rate when number of calls <5 ',xytext = (35,13),\n",
        "             arrowprops=dict(color = 'k', width=1),xy=(30,6))\n",
        "plt.show()"
      ],
      "id": "69dc746f",
      "execution_count": null,
      "outputs": []
    },
    {
      "cell_type": "markdown",
      "metadata": {},
      "source": [
        "Checking between pdays and previous as well\n",
        "\n",
        "13. - pdays: number of days that passed by after the client was last contacted from a previous campaign (numeric; 999 means client was not previously contacted)\n",
        "14. - previous: number of contacts performed before this campaign and for this client (numeric)"
      ],
      "id": "a2fc3766"
    },
    {
      "cell_type": "code",
      "metadata": {},
      "source": [
        "import seaborn as sns\n",
        "dur_cam = sns.lmplot(x='pdays', y='previous',data = clean_data,\n",
        "                     hue = 'y',\n",
        "                     fit_reg = False,\n",
        "                     scatter_kws={'alpha':0.6}, height =7)\n",
        "\n",
        "# plt.axis([0,65,0,65])\n",
        "plt.ylabel('pdays')\n",
        "plt.xlabel('previous')\n",
        "plt.title('The Relationship between number of contacts  and last contactbefore this campaign (with y)')\n",
        "\n",
        "plt.show()"
      ],
      "id": "c180f79a",
      "execution_count": null,
      "outputs": []
    },
    {
      "cell_type": "markdown",
      "metadata": {},
      "source": [
        "### Smart Question \n",
        "Based on last contact info only number of contacts performed during this campaign is contributing a lot towards subscription rates. \n",
        "\n",
        "\n",
        "### Month wise subscription"
      ],
      "id": "4c23a639"
    },
    {
      "cell_type": "code",
      "metadata": {},
      "source": [
        "#converting y values \n",
        "# bankdata['y'] = bankdata['y'].apply(lambda x: 'no' if x == 'yes' else 1)\n",
        "# bankdata['y'] = bankdata['y'].astype('category')\n",
        "\n",
        "#value count for each month\n",
        "month = clean_data['month'].value_counts().rename_axis('month').reset_index(name='counts')\n",
        "#for sequencing the month\n",
        "m1_list=['jan','feb','mar','apr','may','jun','jul','aug','sep','nov','dec']\n",
        "m1=pd.DataFrame(m1_list,columns=['month'])\n",
        "#now the dataset is sequeced\n",
        "month = m1.merge(month)\n",
        "#month - counts\n",
        "#% of people contacted in that month \n",
        "month['Contact Rate'] = month['counts']*100/month['counts'].sum()\n",
        "#percentage of people contacted in that month \n",
        "# y response \n",
        "month_y = pd.crosstab(clean_data['y'],clean_data['month']).apply(lambda x: x/x.sum() * 100)\n",
        "#% of 0 and 1 for each month \n",
        "month_y = month_y.transpose()\n",
        "month_y.rename(columns = {'y':'month',0:'no', 1:'yes'}, inplace = True)\n",
        "\n",
        "# month_y\n",
        "# y | no% | yes%"
      ],
      "id": "a94becc3",
      "execution_count": null,
      "outputs": []
    },
    {
      "cell_type": "code",
      "metadata": {},
      "source": [
        "#month = month.merge(month_y)\n",
        "month['yes'] = \" \"\n",
        "month['no'] = \" \"\n",
        "#to make it in sequence \n",
        "def addingCrossTab(): \n",
        "    for i, val in enumerate(m1_list):\n",
        "        #print (i, \",\",val)\n",
        "        month['yes'].iloc[i]=month_y.loc[val].loc['yes']\n",
        "        #print(month_y.loc[val].loc['yes'])\n",
        "        month['no'].iloc[i]=month_y.loc[val].loc['no']\n",
        "        \n",
        "addingCrossTab()  \n",
        "#print(month)      \n",
        "#print(month_y)\n",
        "# month['Subscription Rate'] = month_y['yes']\n",
        "# month['% NotSubscription'] = month_y['no']\n",
        "month.rename(columns = {'yes':'Subscription Rate','no':'NotSubscribed Rate'}, inplace = True)\n",
        "#month.drop('month_int',axis = 1,inplace = True)\n",
        "print(month)"
      ],
      "id": "daab21ea",
      "execution_count": null,
      "outputs": []
    },
    {
      "cell_type": "code",
      "metadata": {},
      "source": [
        "plot_month = month[['month','Subscription Rate','Contact Rate']].plot(x='month',kind ='line',\n",
        "                                                          figsize = (10,6),\n",
        "                                                          marker = 'o')\n",
        "\n",
        "plt.title('Subscription vs. Contact Rate by Month')\n",
        "plt.ylabel('Subscription and Contact Rate')\n",
        "plt.xlabel('Month')"
      ],
      "id": "4193922a",
      "execution_count": null,
      "outputs": []
    },
    {
      "cell_type": "markdown",
      "metadata": {},
      "source": [
        "Maximum percentage of people have subscribed in the month of March but bank is contacting people more in the month of May. \n",
        "So it's better to contact customer's based on the subcription rate plot. \n",
        "\n",
        "### Social and economic Factors in month \n"
      ],
      "id": "9027c5e0"
    },
    {
      "cell_type": "code",
      "metadata": {},
      "source": [
        "month_social_economic = clean_data[['month','cons.conf.idx','emp.var.rate','euribor3m','nr.employed']].groupby(['month']).count().reset_index()\n",
        "month_list= ['jan','feb','mar','apr','may','jun','jul','aug','sep','oct','nov','dec']\n",
        "month_pd = pd.DataFrame(month_list,columns=['month'])\n",
        "month_pd = month_pd.merge(month_social_economic,on='month')\n",
        "print(month_pd)"
      ],
      "id": "c3d57370",
      "execution_count": null,
      "outputs": []
    },
    {
      "cell_type": "markdown",
      "metadata": {},
      "source": [
        "Based on the above table we can see that there is no distinguishable difference in the month of march or may from rest of all the month, so social and economic factor **do not have major influence** on the outcome. \n",
        "\n",
        "# Checking the Financially stable population"
      ],
      "id": "b3b2b742"
    },
    {
      "cell_type": "code",
      "metadata": {},
      "source": [
        "data_vis = clean_data.copy()"
      ],
      "id": "45c39fff",
      "execution_count": null,
      "outputs": []
    },
    {
      "cell_type": "markdown",
      "metadata": {},
      "source": [
        "## Job "
      ],
      "id": "3e2c91d7"
    },
    {
      "cell_type": "code",
      "metadata": {},
      "source": [
        "y_job = pd.crosstab(data_vis['y'],data_vis['job']).apply(lambda x: x/x.sum() * 100)\n",
        "y_job = y_job.transpose()\n",
        "\n",
        "y_job.rename(columns = {'y':'job',0:'no', 1:'yes'}, inplace = True)\n",
        "jobs_sub = y_job['yes'].sort_values(ascending = True).plot(kind ='barh')\n",
        "                                                                               \n",
        "plt.title('Subscription Rate by Job')\n",
        "plt.xlabel('Subscription Rate')\n",
        "plt.ylabel('Job Category')\n",
        "# Label each bar\n",
        "for patch_i, label in zip(jobs_sub.patches,\n",
        "                      y_job['yes'].sort_values(ascending = True).round(1).astype(str)):\n",
        "    jobs_sub.text(patch_i.get_width()+1.5, \n",
        "                  patch_i.get_y()+ patch_i.get_height()-0.5, \n",
        "                  label+'%', \n",
        "                  ha = 'center', \n",
        "                  va='bottom')"
      ],
      "id": "0e99897e",
      "execution_count": null,
      "outputs": []
    },
    {
      "cell_type": "code",
      "metadata": {},
      "source": [
        "job_contact=  data_vis['job'].value_counts().rename_axis('job').reset_index(name='counts')        \n",
        "job_contact['Contact Rate']= job_contact['counts']*100/job_contact['counts'].sum()  \n",
        "job_contact['Contact Rate'] = job_contact['Contact Rate'].round(2)\n",
        "job_contact=job_contact.drop(['counts'],axis=1)\n",
        "\n",
        "# job_contact['Contact Rate']= job_contact['Contact Rate'].sort_values(ascending = False)\n",
        "job_contact_plot = job_contact.plot(x='job',kind ='barh')  \n",
        "#.plot(kind ='barh')                                                \n",
        "plt.title('Contact Rate by Job')\n",
        "plt.xlabel('Contact Rate')\n",
        "plt.ylabel('Job Category')\n",
        "# Label each bar\n",
        "for patch_i, label in zip(job_contact_plot.patches,\n",
        "                      job_contact['Contact Rate'].astype(str)):\n",
        "    job_contact_plot.text(patch_i.get_width()+1.5, \n",
        "                  patch_i.get_y()+ patch_i.get_height()-0.5, \n",
        "                  label+'%', \n",
        "                  ha = 'center', \n",
        "                  va='bottom')"
      ],
      "id": "84d827bd",
      "execution_count": null,
      "outputs": []
    },
    {
      "cell_type": "markdown",
      "metadata": {},
      "source": [
        "People in blue color and managemnet jobs are contacted more, which should not be the case. \n",
        "\n",
        "## Balance"
      ],
      "id": "67c89867"
    },
    {
      "cell_type": "code",
      "metadata": {},
      "source": [
        "#max = 10399\n",
        "#min = -6847\n",
        "def balance_group(bal):\n",
        "    balGroup = 'Negative' if bal < 0 else 'low balance' if bal < 1000 else 'moderate balance' if bal < 2500 else 'high balance'\n",
        "    return balGroup\n",
        "data_vis['balGroup'] = data_vis['balance'].apply(balance_group)"
      ],
      "id": "6d319dc2",
      "execution_count": null,
      "outputs": []
    },
    {
      "cell_type": "markdown",
      "metadata": {},
      "source": [
        "checking the subscription based on y value "
      ],
      "id": "40bc3c56"
    },
    {
      "cell_type": "code",
      "metadata": {},
      "source": [
        "y_balance = pd.crosstab(data_vis['y'],data_vis['balGroup']).apply(lambda x: x/x.sum() * 100)\n",
        "y_balance = y_balance.transpose()"
      ],
      "id": "a2b86d89",
      "execution_count": null,
      "outputs": []
    },
    {
      "cell_type": "markdown",
      "metadata": {},
      "source": [
        "Checking the subscriptions in each balance groups "
      ],
      "id": "f24c971e"
    },
    {
      "cell_type": "code",
      "metadata": {},
      "source": [
        "bal = pd.DataFrame(data_vis['balGroup'].value_counts().rename_axis('balGroup').reset_index(name='counts'))\n",
        "bal_y = bal.merge(y_balance,on='balGroup')\n",
        "\n",
        "bal_y['% Contacted'] = bal_y['counts']*100/bal_y['counts'].sum()\n",
        "bal_y['% Subscription'] = bal_y[1]\n",
        "bal_y.rename(columns = {'y':'month',0:'no', 1:'yes'}, inplace = True)\n",
        "\n",
        "bal_y = bal_y.drop(['counts','no','yes'],axis=1)\n",
        "print(bal_y)\n",
        "\n",
        "bal_list = ['Negative','low balance', 'moderate balance','high balance']\n",
        "balanceGroupInfo =pd.DataFrame(bal_list,columns=['balanceGroup'])\n",
        "balanceGroupInfo['Contact Rate'] = \" \"\n",
        "balanceGroupInfo['Subscription Rate'] = \" \"\n",
        "bal_y = bal_y.set_index(['balGroup'])\n",
        "\n",
        "\n",
        "for i,val in enumerate(bal_list):\n",
        "     balanceGroupInfo['Contact Rate'].iloc[i]=bal_y.loc[val].loc['% Contacted']\n",
        "     balanceGroupInfo['Subscription Rate'].iloc[i]=bal_y.loc[val].loc['% Subscription']\n",
        "print(balanceGroupInfo)\n",
        "#bal['bal'] = [1,2,0,3]\n",
        "#bal = bal.sort_values('bal',ascending = True)"
      ],
      "id": "aa1bb95e",
      "execution_count": null,
      "outputs": []
    },
    {
      "cell_type": "code",
      "metadata": {},
      "source": [
        "balanceGroupInfo.plot(x='balanceGroup', kind='bar', stacked=False,\n",
        "        title='Balance Group Contact Rates and Subscription')\n",
        "plt.show()"
      ],
      "id": "7ce13d9b",
      "execution_count": null,
      "outputs": []
    },
    {
      "cell_type": "markdown",
      "metadata": {},
      "source": [
        "People with moderate to high balance, are contacted less but they have high subscription rates so bank should target them more. \n",
        "\n",
        "\n",
        "Balance Group versus Job "
      ],
      "id": "2238cd55"
    },
    {
      "cell_type": "code",
      "metadata": {},
      "source": [
        "# add the values for 1 \n",
        "job_balance = pd.DataFrame(data_vis.groupby(['job','balGroup'])['y'].sum())\n",
        "# total number of values \n",
        "job_balance_count = pd.DataFrame(data_vis.groupby(['job','balGroup'])['y'].count())\n",
        "\n",
        "job_balance['y'] = (job_balance['y']/job_balance_count['y'])*100\n",
        "job_balance = job_balance.unstack()\n",
        "job_balance = job_balance.plot(kind='bar',figsize = (10,6))\n",
        "plt.title('Subscription Rates for each balance group in job category')"
      ],
      "id": "55eeb62f",
      "execution_count": null,
      "outputs": []
    },
    {
      "cell_type": "markdown",
      "metadata": {},
      "source": [
        "Student and Retired are more likely to subscribe and usually have moderate to high balance. \n"
      ],
      "id": "601b7a35"
    },
    {
      "cell_type": "code",
      "metadata": {},
      "source": [
        "job_balance_count1 = job_balance_count.unstack()\n",
        "job_balance_count1 = job_balance_count1.plot(kind='bar',figsize = (10,6))\n",
        "plt.title('Contact for each balance group in job category')"
      ],
      "id": "74e0ae4e",
      "execution_count": null,
      "outputs": []
    },
    {
      "cell_type": "markdown",
      "metadata": {},
      "source": [
        "## Loan \n",
        "covered loan in initial EDA "
      ],
      "id": "76344261"
    },
    {
      "cell_type": "code",
      "metadata": {},
      "source": [
        "data_encode = data_vis.copy()"
      ],
      "id": "2808e46a",
      "execution_count": null,
      "outputs": []
    },
    {
      "cell_type": "markdown",
      "metadata": {},
      "source": [
        "# Getting Data Ready for Modelling \n",
        "\n",
        "## Encoding\n",
        "\n",
        "One Hot Encoding "
      ],
      "id": "6ddcb474"
    },
    {
      "cell_type": "code",
      "metadata": {},
      "source": [
        "data_encode = pd.get_dummies(data_encode, columns = ['housing'])\n",
        "data_encode = pd.get_dummies(data_encode, columns = ['loan'])\n",
        "data_encode = pd.get_dummies(data_encode, columns = ['default'])\n",
        "data_encode = pd.get_dummies(data_encode, columns = ['job'])\n",
        "data_encode = pd.get_dummies(data_encode, columns = ['education'])\n",
        "data_encode = pd.get_dummies(data_encode, columns = ['marital'])"
      ],
      "id": "ce53dfca",
      "execution_count": null,
      "outputs": []
    },
    {
      "cell_type": "markdown",
      "metadata": {},
      "source": [
        "Sin - Cos encoding "
      ],
      "id": "bfd75a83"
    },
    {
      "cell_type": "code",
      "metadata": {},
      "source": [
        "import math\n",
        "from math import pi\n",
        "def sin_transformation(x):\n",
        "    x=x-1\n",
        "    sin_x = math.sin((2*pi*x)/11)\n",
        "    return sin_x\n",
        "def cos_transformation(x):\n",
        "    x=x-1\n",
        "    cos_x = math.cos((2*pi*x)/11)\n",
        "    return cos_x\n",
        "data_encode['sin_month'] = data_encode['month_int'].apply(sin_transformation) \n",
        "data_encode['cos_month'] = data_encode['month_int'].apply(cos_transformation)  "
      ],
      "id": "04000648",
      "execution_count": null,
      "outputs": []
    },
    {
      "cell_type": "code",
      "metadata": {},
      "source": [
        "sns.scatterplot(data=data_encode,x='sin_month',y='cos_month')"
      ],
      "id": "627d91f6",
      "execution_count": null,
      "outputs": []
    },
    {
      "cell_type": "markdown",
      "metadata": {},
      "source": [
        "Label Encoding "
      ],
      "id": "bd2f05de"
    },
    {
      "cell_type": "code",
      "metadata": {},
      "source": [
        "data_encode= data_encode.drop(['month'],axis=1)\n",
        "#data_encode= data_encode.drop(['month_int'],axis=1)\n",
        "data_encode = data_encode.drop(['balGroup'],axis=1)\n",
        "data_encode = data_encode.drop(['pdays'],axis=1)"
      ],
      "id": "081556e1",
      "execution_count": null,
      "outputs": []
    },
    {
      "cell_type": "markdown",
      "metadata": {},
      "source": [
        "Checkpoint"
      ],
      "id": "ee41c1ab"
    },
    {
      "cell_type": "code",
      "metadata": {},
      "source": [
        "#data_encode.to_csv('Dataset/final_encoded.csv',index=False)\n",
        "#data_encode =  pd.read_csv('Dataset/final_encoded.csv')"
      ],
      "id": "4d7242d5",
      "execution_count": null,
      "outputs": []
    },
    {
      "cell_type": "code",
      "metadata": {},
      "source": [
        "data_model = data_encode.copy()"
      ],
      "id": "8236daf9",
      "execution_count": null,
      "outputs": []
    },
    {
      "cell_type": "markdown",
      "metadata": {},
      "source": [
        "### Dropping the unecessary varibles for modelling "
      ],
      "id": "28e27d81"
    },
    {
      "cell_type": "code",
      "metadata": {},
      "source": [
        "data_model=data_model.drop(['cons.conf.idx', 'emp.var.rate', 'euribor3m', 'nr.employed',\n",
        "       'cons.price.idx'],axis=1)"
      ],
      "id": "602b9754",
      "execution_count": null,
      "outputs": []
    },
    {
      "cell_type": "markdown",
      "metadata": {},
      "source": [
        "# Splitting our Dataset "
      ],
      "id": "83d8a59a"
    },
    {
      "cell_type": "code",
      "metadata": {},
      "source": [
        "#dropping y to extract x variables \n",
        "x = data_model.drop(['y'],axis=1)\n",
        "#y variables\n",
        "y = data_model['y']\n",
        "#splitting the dataset \n",
        "x_train,x_test,y_train,y_test = train_test_split(x,y,test_size=0.2)"
      ],
      "id": "cb5196f6",
      "execution_count": null,
      "outputs": []
    },
    {
      "cell_type": "markdown",
      "metadata": {},
      "source": [
        "# Balancing Our Dataset"
      ],
      "id": "c886d782"
    },
    {
      "cell_type": "code",
      "metadata": {},
      "source": [
        "sm = SMOTE(random_state=42)\n",
        "train_sx, train_sy = sm.fit_resample(x_train, y_train)\n",
        "test_sx, test_sy = sm.fit_resample(x_test, y_test)\n",
        "#printing x and y values \n",
        "np.bincount(train_sy)"
      ],
      "id": "cbe77e2f",
      "execution_count": null,
      "outputs": []
    },
    {
      "cell_type": "code",
      "metadata": {},
      "source": [
        "train_sx['sin_month'] = train_sx['month_int'].apply(sin_transformation) \n",
        "train_sx['cos_month'] = train_sx['month_int'].apply(cos_transformation) \n",
        "\n",
        "sns.scatterplot(data=train_sx,x='sin_month',y='cos_month')"
      ],
      "id": "0b4d0738",
      "execution_count": null,
      "outputs": []
    },
    {
      "cell_type": "code",
      "metadata": {},
      "source": [
        "train_sx= train_sx.drop(['month_int'],axis=1)\n",
        "test_sx=test_sx.drop(['month_int'],axis=1)"
      ],
      "id": "3f77a8af",
      "execution_count": null,
      "outputs": []
    },
    {
      "cell_type": "code",
      "metadata": {},
      "source": [
        "x_train= x_train.drop(['month_int'],axis=1)\n",
        "x_test=x_test.drop(['month_int'],axis=1)"
      ],
      "id": "47477fd3",
      "execution_count": null,
      "outputs": []
    },
    {
      "cell_type": "markdown",
      "metadata": {},
      "source": [
        "Checkpoint 2"
      ],
      "id": "20d1d01d"
    },
    {
      "cell_type": "code",
      "metadata": {},
      "source": [
        "train_balanced = pd.concat([train_sx, train_sy], axis=1)\n",
        "train_unbalanced = pd.concat([x_train, y_train], axis=1)\n",
        "\n",
        "test_unbalanced = pd.concat([x_test, y_test], axis=1)\n",
        "test_balanced = pd.concat([test_sx, test_sy], axis=1)\n",
        "\n",
        "# train_balanced.to_csv('Dataset/train_balanced.csv',index=False)\n",
        "# train_unbalanced.to_csv('Dataset/train_unbalanced.csv',index=False)\n",
        "# test_unbalanced.to_csv('Dataset/test_unbalanced.csv',index=False)\n",
        "# test_balanced.to_csv('Dataset/test_balanced.csv',index=False)\n",
        "# print(\"Before Smote\")\n",
        "# print(f\"for training : {np.bincount(y_train)}\")\n",
        "# print(f\"for testing : {np.bincount(y_test)}\")\n",
        "# print(\"After smote\")\n",
        "# print(f\"for training : {np.bincount(y_res)}\")\n",
        "# print(f\"for testing : {np.bincount(test_sy)}\")"
      ],
      "id": "593b8ca2",
      "execution_count": null,
      "outputs": []
    },
    {
      "cell_type": "code",
      "metadata": {},
      "source": [
        "balanced_train= pd.read_csv('Dataset/train_balanced.csv')\n",
        "balanced_test= pd.read_csv('Dataset/test_balanced.csv')\n",
        "unbalanced_train= pd.read_csv('Dataset/train_unbalanced.csv')\n",
        "unbalanced_test= pd.read_csv('Dataset/train_unbalanced.csv')"
      ],
      "id": "d4156107",
      "execution_count": null,
      "outputs": []
    },
    {
      "cell_type": "code",
      "metadata": {},
      "source": [
        "from sklearn.preprocessing import StandardScaler\n",
        "# define standard scaler\n",
        "scaler = StandardScaler()\n",
        "# transform data\n",
        "balanced_train[['age','balance','duration']]= scaler.fit_transform(balanced_train[['age','balance','duration']])\n",
        "\n",
        "balanced_test[['age','balance','duration']]= scaler.fit_transform(balanced_test[['age','balance','duration']])\n",
        "\n",
        "unbalanced_train[['age','balance','duration']]= scaler.fit_transform(unbalanced_train[['age','balance','duration']])\n",
        "\n",
        "unbalanced_test[['age','balance','duration']]= scaler.fit_transform(unbalanced_test[['age','balance','duration']])"
      ],
      "id": "1638dea0",
      "execution_count": null,
      "outputs": []
    },
    {
      "cell_type": "code",
      "metadata": {},
      "source": [
        "x_train = unbalanced_train.drop(['y'],axis=1)\n",
        "x_test = unbalanced_test.drop(['y'],axis=1)\n",
        "y_train = unbalanced_train['y']\n",
        "y_test = unbalanced_test['y']"
      ],
      "id": "b0aaf038",
      "execution_count": null,
      "outputs": []
    },
    {
      "cell_type": "code",
      "metadata": {},
      "source": [
        "bx_train = balanced_train.drop(['y'],axis=1)\n",
        "bx_test = balanced_test.drop(['y'],axis=1)\n",
        "by_train = balanced_train['y']\n",
        "by_test = balanced_test['y']"
      ],
      "id": "38e06e60",
      "execution_count": null,
      "outputs": []
    },
    {
      "cell_type": "markdown",
      "metadata": {},
      "source": [
        "# Logistic Regression\n",
        "Performing Logistic Regression on both balanced and unbalanced dataset.\n",
        "RFE is used in selecting the most important features\n",
        "## Unbalanced Dataset "
      ],
      "id": "110600ad"
    },
    {
      "cell_type": "code",
      "metadata": {},
      "source": [
        "#| code-fold: true\n",
        "#| code-summary: \"Show the code\"\n",
        "rfe_model = RFE(LogisticRegression(solver='lbfgs', max_iter=1000), step= 25)\n",
        "rfe_model = rfe_model.fit(x_train,y_train)\n",
        "\n",
        "# feature selection\n",
        "#print(rfe_model.support_)\n",
        "#print(rfe_model.ranking_)\n",
        "\n",
        "selected_columns = x_train.columns[rfe_model.support_]\n",
        "list_column= selected_columns.tolist()\n",
        "list_column.append('age')\n",
        "list_column.append('balance')\n",
        "list_column.append('sin_month')\n",
        "print(f\"Columns selected by RE {list_column}\")\n",
        "\n",
        "\n",
        "X_train_final = x_train[list_column]\n",
        "X_test_final = x_test[list_column]\n",
        "\n",
        "#X_train_final['balance','age'] = x_train['balance','age']\n",
        "#X_test_final['balance','age'] = x_test['balance','age']"
      ],
      "id": "3a823abb",
      "execution_count": null,
      "outputs": []
    },
    {
      "cell_type": "markdown",
      "metadata": {},
      "source": [
        "As we can see from RFE, the most relevant features are : \n",
        "\n",
        "* Duration\n",
        "* Housing\n",
        "* Loan \n",
        "* Job\n",
        "* Education\n",
        "* cos_month\n",
        "\n",
        "Applying model with selected features \n"
      ],
      "id": "d4ca9942"
    },
    {
      "cell_type": "code",
      "metadata": {},
      "source": [
        "#| code-fold: true\n",
        "#| code-summary: \"Show the code\"\n",
        "lr = LogisticRegression(random_state=123)\n",
        "lr.fit(X_train_final, y_train)\n",
        "y_pred = lr.predict(X_test_final)\n",
        "print(f\"Accuracy for training set {accuracy_score(y_train, lr.predict(X_train_final))}\")\n",
        "print(f\"Accuracy for testing set {accuracy_score(y_test, y_pred)}\")\n",
        "print(f\"Confusion matrix \\n{confusion_matrix(y_test, y_pred)}\")\n",
        "print(f\"{classification_report(y_test, y_pred)}\")"
      ],
      "id": "c759b7fb",
      "execution_count": null,
      "outputs": []
    },
    {
      "cell_type": "markdown",
      "metadata": {},
      "source": [
        "Here, the accuracy is 89% but the precision(0.59) and recall rate value(0.20) is low. \n",
        "\n",
        "# Balanced Dataset"
      ],
      "id": "0c0625ed"
    },
    {
      "cell_type": "code",
      "metadata": {},
      "source": [
        "#| code-fold: true\n",
        "#| code-summary: \"Show the code\"\n",
        "rfe_model = RFE(LogisticRegression(solver='lbfgs', max_iter=1000), step= 25)\n",
        "rfe_model = rfe_model.fit(bx_train,by_train)\n",
        "\n",
        "# feature selection\n",
        "#print(rfe_model.support_)\n",
        "#print(rfe_model.ranking_)\n",
        "\n",
        "selected_columns = bx_train.columns[rfe_model.support_]\n",
        "print(f\"Columns selected by RE {selected_columns.tolist()}\")\n",
        "\n",
        "bX_train_final = bx_train[selected_columns.tolist()]\n",
        "bX_test_final = bx_test[selected_columns.tolist()]\n",
        "\n",
        "lr_b = LogisticRegression(random_state=123)\n",
        "lr_b.fit(bX_train_final, by_train)\n",
        "by_pred = lr_b.predict(bX_test_final)\n",
        "print(f\"Accuracy for training set {accuracy_score(by_train, lr_b.predict(bX_train_final))}\")\n",
        "print(f\"Accuracy for testing set {accuracy_score(by_test, by_pred)}\")\n",
        "print(f\"Confusion matrix \\n{confusion_matrix(by_test, by_pred)}\")\n",
        "print(f\"{classification_report(by_test, by_pred)}\")"
      ],
      "id": "94b2d7e1",
      "execution_count": null,
      "outputs": []
    },
    {
      "cell_type": "markdown",
      "metadata": {},
      "source": [
        "Here, important features are \n",
        "* Housing \n",
        "* Loan \n",
        "* Job\n",
        "* Education\n",
        "* Marital Status \n",
        "\n",
        "Here even though the precision and recall have improved, and accuracy has dropped down, but the important relationships are lost, hence we would move ahead with unbalanced dataset only.\n",
        "\n",
        "### Deciding cut off value for logistic regression \n",
        "But to have good values for cut-off we would try to find a cutoff where the precision and recall values are decent\n"
      ],
      "id": "918dc851"
    },
    {
      "cell_type": "code",
      "metadata": {},
      "source": [
        "#| code-fold: true\n",
        "#| code-summary: \"Show the code\"\n",
        "#| \n",
        "# Precision-Recall vs Threshold\n",
        "#y_pred=logit.predict(x_test)\n",
        "y_pred_probs=lr.predict_proba(X_test_final) \n",
        "# probs_y is a 2-D array of probability of being labeled as 0 (first \n",
        "# column of array) vs 1 (2nd column in array)\n",
        "\n",
        "from sklearn import metrics\n",
        "from sklearn.metrics import precision_recall_curve\n",
        "precision, recall, thresholds = precision_recall_curve(y_test, y_pred_probs[:, 1]) \n",
        "#retrieve probability of being 1(in second column of probs_y)\n",
        "pr_auc = metrics.auc(recall, precision)\n",
        "\n",
        "plt.title(\"Precision-Recall vs Threshold Chart\")\n",
        "plt.plot(thresholds, precision[: -1], \"b--\", label=\"Precision\")\n",
        "plt.plot(thresholds, recall[: -1], \"r--\", label=\"Recall\")\n",
        "plt.ylabel(\"Precision, Recall\")\n",
        "plt.xlabel(\"Threshold\")\n",
        "plt.legend(loc=\"lower left\")\n",
        "plt.ylim([0,1])\n",
        "\n",
        "print(\"\\nBased on plot we would choose 0.25 as cut off \")\n",
        "\n",
        "\n",
        "thres = 0.25\n",
        "y_pred = np.where(y_pred_probs[:,1]>thres,1,0)\n",
        "print(f\"Accuracy for testing set {accuracy_score(y_test, y_pred)}\")\n",
        "print(f\"Confusion matrix \\n{confusion_matrix(y_test, y_pred)}\")\n",
        "print(f\"{classification_report(y_test, y_pred)}\")"
      ],
      "id": "eadb0652",
      "execution_count": null,
      "outputs": []
    },
    {
      "cell_type": "markdown",
      "metadata": {},
      "source": [
        "Here as after applying feature selection, finding optimized cut-off, we are able to achieve \n",
        "\n",
        "Accuracy for testing set 0.8800341497880358\n",
        "Confusion matrix \n",
        "[[28085  1943]\n",
        " [ 2132  1808]]\n",
        "              precision    recall  f1-score   support\n",
        "\n",
        "           0       0.93      0.94      0.93     30028\n",
        "           1       0.48      0.46      0.47      3940\n",
        "\n",
        "    accuracy                           0.88     33968\n",
        "\n",
        "If we notice, we have the maximum f1 score achieved here. \n"
      ],
      "id": "4165eec4"
    },
    {
      "cell_type": "code",
      "metadata": {},
      "source": [
        "#| code-fold: true\n",
        "#| code-summary: \"Show the code\"\n",
        "from sklearn.metrics import PrecisionRecallDisplay\n",
        "\n",
        "display = PrecisionRecallDisplay.from_estimator(\n",
        "    lr, X_test_final, y_test, name=\"Logistic Regression\"\n",
        ")\n",
        "_ = display.ax_.set_title(\"Precision-Recall curve\")"
      ],
      "id": "707db717",
      "execution_count": null,
      "outputs": []
    },
    {
      "cell_type": "markdown",
      "metadata": {},
      "source": [
        "Average weighted precision achieved across all threshold is 0.45. \n",
        "\n",
        "For ROC - AUC curve refer (@fig-roc-curve). \n",
        "For precision recall curve refer(@fig-pr-curve). \n",
        "\n",
        "\n",
        "# Decision Tree\n",
        "\n",
        "## Feature Selection"
      ],
      "id": "ffe9e3f4"
    },
    {
      "cell_type": "code",
      "metadata": {},
      "source": [
        "#| code-fold: true\n",
        "#| code-summary: \"Show the code\"\n",
        "# feature selection\n",
        "dtc = DecisionTreeClassifier()\n",
        "dtc.fit(x_train, y_train)\n",
        "importance = dtc.feature_importances_\n",
        "features = [] \n",
        "imp = []\n",
        "for i,v in enumerate(importance):\n",
        "    if v >0.01:\n",
        "        print(f\"Feature {i} variable {x_train.columns[i]} score {v:.2f}\")\n",
        "        features.append(x_train.columns[i])\n",
        "        imp.append(v)\n",
        "print(f\"Important features from decision treee are : \\n{features}\")\n",
        "pyplot.bar([x for x in range(len(importance))], importance)\n",
        "pyplot.show()\n",
        "x_train_dt = x_train[features]\n",
        "x_test_dt = x_test[features]"
      ],
      "id": "4d1c0439",
      "execution_count": null,
      "outputs": []
    },
    {
      "cell_type": "markdown",
      "metadata": {},
      "source": [
        "Features selected from this algorithm are \n",
        "\n",
        "* Age \n",
        "* Balance \n",
        "* Duration \n",
        "* Campaign\n",
        "* Previous \n",
        "* Housing \n",
        "* Job\n",
        "* Education\n",
        "* Marital \n",
        "* Month - Sin,cos\n",
        "\n",
        "We have all the important features from EDA here\n",
        "\n",
        "## Hyperparameter tuning"
      ],
      "id": "50ca6527"
    },
    {
      "cell_type": "code",
      "metadata": {},
      "source": [
        "#| code-fold: true\n",
        "#| code-summary: \"Show the code\"\n",
        "# Creating a dictionary of parameters to use in GridSearchCV\n",
        "from sklearn.model_selection import GridSearchCV\n",
        "\n",
        "params = {\n",
        "    'criterion':  ['gini', 'entropy'],\n",
        "    'max_depth':  [None, 2, 4, 6, 8, 10],\n",
        "    'max_features': [None, 'sqrt', 'log2', 0.2, 0.4, 0.6, 0.8],\n",
        "    'splitter': ['best', 'random']\n",
        "}\n",
        "\n",
        "clf = GridSearchCV(\n",
        "    estimator=DecisionTreeClassifier(),\n",
        "    param_grid=params,\n",
        "    cv=5,\n",
        "    n_jobs=5,\n",
        "    verbose=1,\n",
        ")\n",
        "\n",
        "clf.fit(x_train_dt, y_train)\n",
        "print(f\"Best parameters from Grid Search CV : \\n{clf.best_params_}\")"
      ],
      "id": "9594fb7c",
      "execution_count": null,
      "outputs": []
    },
    {
      "cell_type": "code",
      "metadata": {},
      "source": [
        "#| code-fold: true\n",
        "#| code-summary: \"Show the code\"\n",
        "dtc = DecisionTreeClassifier(criterion='entropy',max_depth=8,max_features= 0.8,splitter='best')\n",
        "dtc.fit(x_train_dt,y_train )\n",
        "dtcprediction = dtc.predict(x_test_dt)\n",
        "print(accuracy_score(y_test, dtcprediction))\n",
        "print(confusion_matrix(y_test, dtcprediction))\n",
        "print(classification_report(y_test, dtcprediction))"
      ],
      "id": "316ddbb4",
      "execution_count": null,
      "outputs": []
    },
    {
      "cell_type": "markdown",
      "metadata": {},
      "source": [
        "Here we are able to achieve better accuracy,precision and recall rate.\n",
        " \n",
        "\n",
        "AUC Curve : @fig-roc-curve\n",
        "Precision Recall Curve : @fig-pr-curve\n",
        "\n",
        "# Random Forest \n",
        "\n",
        "## Feature Selection "
      ],
      "id": "84588b58"
    },
    {
      "cell_type": "code",
      "metadata": {},
      "source": [
        "#| code-fold: true\n",
        "#| code-summary: \"Show the code\"\n",
        "from sklearn.ensemble import RandomForestClassifier\n",
        "rfc = RandomForestClassifier()\n",
        "rfc.fit(x_train, y_train)\n",
        "importance_rfc = rfc.feature_importances_\n",
        "features_rfc = [] \n",
        "for i,v in enumerate(importance_rfc):\n",
        "    if v >0.01:\n",
        "        #print(f\"Feature {i} variable {balanced_train.columns[i]} score {v}\")\n",
        "        features_rfc.append(balanced_train.columns[i])\n",
        "print(f\"Important features from random forest :\\n{features_rfc}\")\n",
        "pyplot.bar([x for x in range(len(importance_rfc))], importance_rfc)\n",
        "pyplot.show()\n",
        "#selecting important features\n",
        "x_train_rf = x_train[features_rfc]\n",
        "x_test_rf = x_test[features_rfc]\n"
      ],
      "id": "3a68846b",
      "execution_count": null,
      "outputs": []
    },
    {
      "cell_type": "markdown",
      "metadata": {},
      "source": [
        "## Hyperparameter Tuning "
      ],
      "id": "67a92dde"
    },
    {
      "cell_type": "code",
      "metadata": {},
      "source": [
        "from sklearn.model_selection import GridSearchCV\n",
        "# Create the parameter grid based on the results of random search \n",
        "param_grid = {\n",
        "    'bootstrap': [True],\n",
        "    'max_depth': [80, 90, 100, 110],\n",
        "    'max_features': [2, 3],\n",
        "    'n_estimators': [100, 200, 300, 1000]\n",
        "}\n",
        "# Create a based model\n",
        "rf = RandomForestClassifier()\n",
        "# Instantiate the grid search model\n",
        "grid_search = GridSearchCV(estimator = rf, param_grid =param_grid, cv = 3, n_jobs = -1, verbose = 2)\n",
        "grid_search.fit(x_train_rf, y_train)\n",
        "grid_search.best_params_"
      ],
      "id": "761373f2",
      "execution_count": null,
      "outputs": []
    },
    {
      "cell_type": "code",
      "metadata": {},
      "source": [
        "rfc = RandomForestClassifier(bootstrap=True,max_depth=80,max_features=3,n_estimators=200)\n",
        "rfc.fit(x_train_rf, y_train)\n",
        "rfcpredictions = rfc.predict(x_test_rf)\n",
        "print(f\"Training accuracy {accuracy_score(y_train, rfc.predict(x_train_rf))}\")\n",
        "print(f\"Testing set accuracy {accuracy_score(y_test, rfcpredictions )}\")\n",
        "print(confusion_matrix(y_test, rfcpredictions ))\n",
        "print(classification_report(y_test, rfcpredictions ))"
      ],
      "id": "5a7dad79",
      "execution_count": null,
      "outputs": []
    },
    {
      "cell_type": "markdown",
      "metadata": {},
      "source": [
        "We are getting best performance from Random Forest but we are not sure why we are getting such idealistic results so we would also apply cross validation to test our results \n",
        "\n",
        "AUC Curve : @fig-roc-curve\n",
        "Precision Recall Curve : @fig-pr-curve\n",
        "\n",
        "# Linear SVC \n",
        "Finding a linear hyperplane that tries to separate two classes"
      ],
      "id": "76daa58f"
    },
    {
      "cell_type": "code",
      "metadata": {},
      "source": [
        "svc_linear = LinearSVC(C=1.0, class_weight=None, dual=True, fit_intercept=True,\n",
        "          intercept_scaling=1, loss='squared_hinge', max_iter=1000,\n",
        "          multi_class='ovr', penalty='l2', random_state=123, tol=0.0001,\n",
        "          verbose=0)\n",
        "svc_linear.fit(x_train,y_train)\n",
        "svc_linear_predictions = svc_linear.predict(x_test)\n",
        "print(accuracy_score(y_test, svc_linear_predictions))\n",
        "print(confusion_matrix(y_test, svc_linear_predictions))\n",
        "print(classification_report(y_test, svc_linear_predictions))"
      ],
      "id": "995c6dcb",
      "execution_count": null,
      "outputs": []
    },
    {
      "cell_type": "markdown",
      "metadata": {},
      "source": [
        "# SVC\n",
        "Finding a complex hyperplane that tries to separate the classes. \n"
      ],
      "id": "0eebaf70"
    },
    {
      "cell_type": "code",
      "metadata": {},
      "source": [
        "#  SVM - Support Vector Machines balance check on unbalance test\n",
        "svc= SVC(kernel='poly', random_state=123)\n",
        "svc.fit(x_train,y_train)\n",
        "svcpredictions = svc.predict(x_test)\n",
        "print(accuracy_score(y_test, svcpredictions))\n",
        "print(confusion_matrix(y_test, svcpredictions))\n",
        "print(classification_report(y_test, svcpredictions))"
      ],
      "id": "1c83e30f",
      "execution_count": null,
      "outputs": []
    },
    {
      "cell_type": "markdown",
      "metadata": {},
      "source": [
        "# Naive Bayes \n"
      ],
      "id": "f077fedd"
    },
    {
      "cell_type": "code",
      "metadata": {},
      "source": [
        "param_grid_nb = {\n",
        "    'var_smoothing': np.logspace(0,-9, num=100)\n",
        "}\n",
        "nbModel_grid = GridSearchCV(estimator=GaussianNB(), param_grid=param_grid_nb, verbose=1, cv=10, n_jobs=-1)\n",
        "nbModel_grid.fit(x_train, y_train)\n",
        "print(nbModel_grid.best_estimator_)\n",
        "\n",
        "from sklearn.naive_bayes import GaussianNB\n",
        "modelNB = GaussianNB(var_smoothing=0.04328761281083057)\n",
        "modelNB.fit(x_train,y_train)\n",
        "print(f\"Model score is {modelNB.score(x_test,y_test)}\")\n",
        "def modelProbability(prediction0,prediction1,y):\n",
        "    plt.figure(figsize=(15,7))\n",
        "    plt.hist(prediction1[y==0], bins=50, label='No/probability 1', alpha=0.7, color='g')\n",
        "    plt.hist(prediction0[y==0], bins=50, label='No/probability 0')\n",
        "    plt.hist(prediction0[y==1], bins=50, label='Yes/probability 0', alpha=0.7, color='r')\n",
        "    plt.hist(prediction1[y==1], bins=50, label='Yes/probability 1', alpha=0.7, color='y')\n",
        "    plt.xlabel('Probability of being Positive Class', fontsize=25)\n",
        "    plt.ylabel('Number of records in each bucket', fontsize=25)\n",
        "    plt.legend(fontsize=15)\n",
        "    plt.tick_params(axis='both', labelsize=25, pad=5)\n",
        "    plt.show() \n",
        "pred1=modelNB.predict_proba(x_test)[:,0]\n",
        "pred2 = modelNB.predict_proba(x_test)[:,1]\n",
        "modelProbability(pred1,pred2,y_test)\n",
        "\n",
        "#modelling\n",
        "def modelEvaluation(model,x,y):\n",
        "    print('test set evaluation: ')\n",
        "    y_pred = model.predict(x)\n",
        "    print(accuracy_score(y, y_pred))\n",
        "    print(confusion_matrix(y, y_pred))\n",
        "    print(classification_report(y, y_pred))\n",
        "    \n",
        "modelEvaluation(modelNB,x_test,y_test)"
      ],
      "id": "12297799",
      "execution_count": null,
      "outputs": []
    },
    {
      "cell_type": "markdown",
      "metadata": {},
      "source": [
        "As we can see from the graph for Yes(1/have subscribed) the probabilities are coming both sides which is not correct.\n",
        "\n",
        "\n",
        "AUC Curve : @fig-roc-curve\n",
        "Precision Recall Curve : @fig-pr-curve\n",
        "\n",
        "# KNN \n"
      ],
      "id": "70ee688b"
    },
    {
      "cell_type": "code",
      "metadata": {},
      "source": [
        "acc = []\n",
        "prec = []\n",
        "# Will take some time\n",
        "from sklearn import metrics\n",
        "for i in range(1,40):\n",
        "    neigh = KNeighborsClassifier(n_neighbors = i).fit(x_train,y_train)\n",
        "    y_pred = neigh.predict(x_test)\n",
        "    acc.append(metrics.accuracy_score(y_test, y_pred))\n",
        "    prec.append((metrics.average_precision_score(y_test, y_pred)))"
      ],
      "id": "276d8bb3",
      "execution_count": null,
      "outputs": []
    },
    {
      "cell_type": "code",
      "metadata": {},
      "source": [
        "plt.figure(figsize=(10,6))\n",
        "plt.plot(range(1,40),acc,color = 'blue',linestyle='dashed', \n",
        "         marker='o',markerfacecolor='red',  markersize=10)\n",
        "plt.title('accuracy vs. K Value')\n",
        "plt.xlabel('K')\n",
        "plt.ylabel('Accuracy')\n",
        "print(\"Maximum accuracy:-\",max(acc),\"at K =\",acc.index(max(acc)))"
      ],
      "id": "63a00dc2",
      "execution_count": null,
      "outputs": []
    },
    {
      "cell_type": "code",
      "metadata": {},
      "source": [
        "#plt.figure(figsize=(10,6))\n",
        "plt.plot(range(1,40),prec,color = 'blue',linestyle='dashed', \n",
        "         marker='o',markerfacecolor='red', markersize=10)\n",
        "plt.title('precision vs. K Value')\n",
        "plt.xlabel('K')\n",
        "plt.ylabel('Precision')\n",
        "print(\"Maximum Precision:-\",max(prec),\"at K =\",prec.index(max(prec)))"
      ],
      "id": "4d1e74de",
      "execution_count": null,
      "outputs": []
    },
    {
      "cell_type": "markdown",
      "metadata": {},
      "source": [
        "Based on the above plot, optimal k value is 3\n"
      ],
      "id": "04f3a254"
    },
    {
      "cell_type": "code",
      "metadata": {},
      "source": [
        "mrroger = 3\n",
        "knn = KNeighborsClassifier(n_neighbors=mrroger) # instantiate with n value given\n",
        "knn.fit(x_train,y_train)\n",
        "y_pred = knn.predict(x_test)\n",
        "#y_pred = knn.predict_proba(x_test)\n",
        "print(f\"Train set accuracy {accuracy_score(y_train, knn.predict(x_train))}\")\n",
        "print(f\"Test set accuracy {accuracy_score(y_test, y_pred)}\")\n",
        "print(confusion_matrix(y_test, y_pred))\n",
        "print(classification_report(y_test, y_pred))"
      ],
      "id": "614a6283",
      "execution_count": null,
      "outputs": []
    },
    {
      "cell_type": "markdown",
      "metadata": {},
      "source": [
        "AUC Curve : @fig-roc-curve\n",
        "Precision Recall Curve : @fig-pr-curve\n",
        "\n",
        "\n",
        "# ROC -AUC Curve \n"
      ],
      "id": "f41a6eb7"
    },
    {
      "cell_type": "code",
      "metadata": {},
      "source": [
        "#| label: fig-roc-curve\n",
        "#| fig-cap: AUC ROC Curve for all Modeld\n",
        "from sklearn.metrics import roc_auc_score, roc_curve\n",
        "\n",
        "# Instantiate the classfiers and make a list\n",
        "classifiers = [LogisticRegression(random_state=123),\n",
        "        DecisionTreeClassifier(criterion='entropy',max_depth=8,max_features= 0.8,splitter='best'),\n",
        "        RandomForestClassifier(bootstrap=True,max_depth=80,max_features=3,n_estimators=200),\n",
        "        #SVC(kernel='poly', random_state=123),\n",
        "        GaussianNB(var_smoothing=0.04328761281083057),\n",
        "        KNeighborsClassifier(n_neighbors=mrroger)]\n",
        "\n",
        "# Define a result table as a DataFrame\n",
        "result_table = pd.DataFrame(columns=['classifiers', 'fpr','tpr','auc'])\n",
        "X_train = x_train\n",
        "X_test = x_test\n",
        "# Train the models and record the results\n",
        "for cls in classifiers:\n",
        "    model = cls.fit(X_train, y_train)\n",
        "    yproba = model.predict_proba(X_test)[::,1]\n",
        "    \n",
        "    fpr, tpr, _ = roc_curve(y_test,  yproba)\n",
        "    auc = roc_auc_score(y_test, yproba)\n",
        "    \n",
        "    result_table = result_table.append({'classifiers':cls.__class__.__name__,\n",
        "                                        'fpr':fpr, \n",
        "                                        'tpr':tpr, \n",
        "                                        'auc':auc}, ignore_index=True)\n",
        "\n",
        "# Set name of the classifiers as index labels\n",
        "result_table.set_index('classifiers', inplace=True)\n",
        "\n",
        "fig = plt.figure(figsize=(8,6))\n",
        "\n",
        "for i in result_table.index:\n",
        "    plt.plot(result_table.loc[i]['fpr'], \n",
        "             result_table.loc[i]['tpr'], \n",
        "             label=\"{}, AUC={:.3f}\".format(i, result_table.loc[i]['auc']))\n",
        "    \n",
        "plt.plot([0,1], [0,1], color='orange', linestyle='--')\n",
        "\n",
        "plt.xticks(np.arange(0.0, 1.1, step=0.1))\n",
        "plt.xlabel(\"Flase Positive Rate\", fontsize=15)\n",
        "\n",
        "plt.yticks(np.arange(0.0, 1.1, step=0.1))\n",
        "plt.ylabel(\"True Positive Rate\", fontsize=15)\n",
        "\n",
        "plt.title('ROC Curve Analysis', fontweight='bold', fontsize=15)\n",
        "plt.legend(prop={'size':13}, loc='lower right')\n",
        "\n",
        "plt.show()"
      ],
      "id": "fig-roc-curve",
      "execution_count": null,
      "outputs": []
    },
    {
      "cell_type": "markdown",
      "metadata": {},
      "source": [
        "# Precision Recall Curve "
      ],
      "id": "4b054079"
    },
    {
      "cell_type": "code",
      "metadata": {},
      "source": [
        "#| label: fig-pr-curve\n",
        "#| fig-cap: Precision Recall Curve for all Modeld\n",
        "#Logistic Regression\n",
        "lr_probs = lr.predict_proba(X_test_final)\n",
        "lr_probs = lr_probs[:, 1]\n",
        "yhat = lr.predict(X_test_final)\n",
        "lr_precision, lr_recall, _ = precision_recall_curve(y_test, lr_probs)\n",
        "no_skill = len(y_test[y_test==1]) / len(y_test)\n",
        "pyplot.plot([0, 1], [no_skill, no_skill], linestyle='--', label='No Skill')\n",
        "pyplot.plot(lr_recall, lr_precision, marker='.', label='Logistic')\n",
        "# axis labels\n",
        "\n",
        "#Decision Tree Classifier\n",
        "dtc_probs = dtc.predict_proba(x_test_dt)\n",
        "dtc_probs = dtc_probs[:, 1]\n",
        "yhat = dtc.predict(x_test_dt)\n",
        "dtc_precision, dtc_recall, _ = precision_recall_curve(y_test, dtc_probs)\n",
        "no_skill = len(y_test[y_test==1]) / len(y_test)\n",
        "pyplot.plot(dtc_recall, dtc_precision, marker='.', label='Decision Tree')\n",
        "\n",
        "#Random Forest Classifier\n",
        "rfc_probs = rfc.predict_proba(x_test_rf)\n",
        "rfc_probs = rfc_probs[:, 1]\n",
        "yhat = rfc.predict(x_test_rf)\n",
        "rfc_precision, rfc_recall, _ = precision_recall_curve(y_test, rfc_probs)\n",
        "no_skill = len(y_test[y_test==1]) / len(y_test)\n",
        "pyplot.plot(rfc_recall, rfc_precision, marker='.', label='Random Forest')\n",
        "\n",
        "#Gaussian Model\n",
        "nb_probs = modelNB.predict_proba(x_test)\n",
        "# keep probabilities for the positive outcome only\n",
        "nb_probs = nb_probs[:, 1]\n",
        "# predict class values\n",
        "yhat = modelNB.predict(x_test)\n",
        "nb_precision, nb_recall, _ = precision_recall_curve(y_test, nb_probs)\n",
        "no_skill = len(y_test[y_test==1]) / len(y_test)\n",
        "pyplot.plot(nb_recall, nb_precision, marker='.', label='Naive Bayes')\n",
        "\n",
        "#knn\n",
        "knn_probs = knn.predict_proba(x_test)\n",
        "knn_probs = knn_probs[:, 1]\n",
        "yhat = knn.predict(x_test)\n",
        "knn_precision, knn_recall, _ = precision_recall_curve(y_test, knn_probs)\n",
        "no_skill = len(y_test[y_test==1]) / len(y_test)\n",
        "pyplot.plot(knn_recall, knn_precision, marker='.', label='KNN')\n",
        "\n",
        "\n",
        "pyplot.xlabel('Recall')\n",
        "pyplot.ylabel('Precision')\n",
        "# show the legend\n",
        "pyplot.legend()\n",
        "# show the plot\n",
        "pyplot.show()"
      ],
      "id": "fig-pr-curve",
      "execution_count": null,
      "outputs": []
    },
    {
      "cell_type": "markdown",
      "metadata": {},
      "source": [
        "As per the ROC Curve and Precision Recall curve, Random Forest Classifier is performing best. \n",
        "Second best is KNN. \n",
        "\n",
        "# Summary \n",
        "| Model            | Accuracy | Precision | Recall | AUC   | \n",
        "|------------------|----------|-----------|--------|-------|\n",
        "| Logistic         | 0.88     | 0.46      |  0.48  | 0.872 |\n",
        "| Decision Tree    | 0.91     | 0.66      |  0.47  | 0.923 |\n",
        "| Random Forest    | 1        | 1         |  1     | 1     |\n",
        "| SVC              | 0.89     |  0.75     |  0.15  |       |\n",
        "| Linear SVC       | 0.89     | 0.62      | 0.16   |       |\n",
        "| Gaussian Bayes   | 0.88     | 0.50      | 0.25   | 0.841 |         \n",
        "| KNN              | 0.92     | 0.78      | 0.54   | 0.965 |\n",
        ": Summary of Models {#tbl-letters}\n",
        "\n",
        "See @tbl-letters.\n",
        "\n",
        "# Conclusion \n",
        "\n",
        "Our model would be beneficial in the following ways : \n",
        "\n",
        "* For target marketing for bank campaigns, or in other events. For example based on the customer's job, age and loan history the model would can easily predict whether the customer is going to subscribe to the term deposit or not. So out of the million people, we can easily shortlist people based on our model and spend the time on them so as to improve efficiency. \n",
        "\n",
        "* Improving buissness effficiency of banks. Since using the eda or model we can easily check the subscription insights, it would be very helpful for banks to improve their stratergies. For example, based on the monthly subscription rates, if banks are deciding the campaign promotion time, it can improve there efficiency.  \n",
        "\n",
        "* Since, we have month as a input factor in our model, and all other values are static, we can even find the best month to contact customer based on the predicted probability of the customer. As there can be a relation between the job type and the month they are subscribing or their fluctuating balance and age. This can be very useful in finding the best time to contact. \n",
        "\n",
        "* Based on the model, since the number of contact is playing a major role, if we have the optimal time to contact them, we can restrict our calls to less than 5 and find a better turnover.\n",
        "\n",
        "* We didn't see any relation with the social and economic factors here, but if we had the data for multiple years, there was a possibility of finding a relation. Our model can accomodate these factors as well, and if trained by accomodating these factors as well, this can be helpful for banks in finding the proper time for there campaign. \n",
        "\n",
        "Hence, analyzing this kind of marketing dataset has given us valuable insight into how we can tweak our model to give buisness insights as well as customer insights to improve subscription of term deposits.\n",
        "\n",
        "\n",
        "# Reference\n",
        "\n",
        "* https://www.kaggle.com/janiobachmann/bank-marketing-dataset\n",
        "*(PDF) Data Analysis of a Portuguese marketing campaign using bank ... (no date). Available at: https://www.researchgate.net/publication/339988208_Data_Analysis_of_a_Portuguese_Marketing_Campaign_using_Bank_Marketing_data_Set (Accessed: December 20, 2022). \n",
        "*Bank marketing data set. (n.d.). 1010data.com. Retrieved December 20, 2022, from https://docs.1010data.com/Tutorials/MachineLearningExamples/BankMarketingDataSet_2.html\n",
        "*Manda, H., Srinivasan, S., & Rangarao, D. (2021). IBM Cloud Pak for Data: An enterprise platform to operationalize data, analytics, and AI. Packt Publishing.\n",
        "*Solving Bank Marketing Calssification Problem - Databricks. (n.d.). Databricks.com. Retrieved December 20, 2022, from https://databricks-prod-cloudfront.cloud.databricks.com/public/4027ec902e239c93eaaa8714f173bcfc/8143187682226564/2297613386094950/3186001515933643/latest.html\n",
        "*Solving Bank Marketing Calssification Problem - Databricks. (n.d.). Databricks.com. Retrieved December 20, 2022, from https://databricks-prod-cloudfront.cloud.databricks.com/public/4027ec902e239c93eaaa8714f173bcfc/8143187682226564/2297613386094950/3186001515933643/latest.html"
      ],
      "id": "1ce14d67"
    }
  ],
  "metadata": {
    "kernelspec": {
      "name": "python3",
      "language": "python",
      "display_name": "Python 3 (ipykernel)"
    }
  },
  "nbformat": 4,
  "nbformat_minor": 5
}