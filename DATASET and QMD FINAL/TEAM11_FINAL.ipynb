{
  "cells": [
    {
      "cell_type": "raw",
      "metadata": {},
      "source": [
        "---\n",
        "title: 'AN ANALYSIS OF PORTUGUESE BANK MARKETING DATA '\n",
        "author: 'TEAM 11: Anjali Mudgal , Guoshan Yu and Medhasweta Sen'\n",
        "date: 'November 21, 2022'\n",
        "subtitle: 'The George Washington University (DATS 6103: An Introduction to Data Mining)'\n",
        "format:\n",
        "  html:\n",
        "    smooth-scroll: true\n",
        "    toc-location: left\n",
        "    code-fold: true\n",
        "    number-sections: true\n",
        "    toc: true\n",
        "    toc-depth: 3\n",
        "    toc-float: true\n",
        "---"
      ],
      "id": "a1fde1fe"
    },
    {
      "cell_type": "markdown",
      "metadata": {},
      "source": [
        "# INTRODUCTION\n",
        "\n",
        "Bank marketing is the practice of attracting and acquiring new customers through traditional media and digital media strategies. The use of these media strategies helps determine what kind of customer is attracted to a certain institutions. This also includes different banking institutions purposefully using different strategies to attract the type of customer they want to do business with.\n",
        "\n",
        "As a discipline, marketing has evolved over the past few decades to become what it is today. Earlier, marketing strategies were primarily a means of spreading brand awareness. Today, marketing has been reinvented to fit a much bigger role. Creating both value and revenue to the institution. It is a big step up from its previous communication role, no doubt. One that was necessitated by the evolution of three factors: the consumer, the technology, and data analytics.\n",
        "\n",
        "Marketing has evolved from a communication role to a revenue generating role. The consumer has evolved from being a passive recipient of marketing messages to an active participant in the marketing process. Technology has evolved from being a means of communication to a means of data collection and analysis. Data analytics has evolved from being a means of understanding the consumer to a means of understanding the consumer and the institution.\n",
        "\n",
        "Bank marketing strategy is increasingly focused on digital channels, including social media, video, search and connected TV. As bank and credit union marketers strive to promote brand awareness, they need a new way to assess channel ROI and more accurate data to enable personalized offers. Add to that the growing importance of purpose-driven marketing.\n",
        "\n",
        "The relentless pace of digitization is disrupting not only the established order in banking, but bank marketing strategies. Marketers at both traditional institutions and digital disruptors are feeling the pressure.\n",
        "\n",
        "Just as bank marketers begin to master one channel, consumers move to another. Many now toggle between devices on a seemingly infinite number of platforms, making it harder than ever for marketers to pin down the right consumers at the right time in the right place.\n",
        "\n",
        "![](expected-marketing-budget-changes-by-channel.png)\n",
        "\n",
        "## The Data Set\n",
        "\n",
        "The data set used in this analysis is from a Portuguese bank. The data set contains 41,188 observations and 21 variables. The variables include the following:\n",
        "\n",
        "1. - age (numeric)\n",
        "2. - job : type of job (categorical: 'admin.','blue-collar','entrepreneur','housemaid','management','retired','self-employed','services','student','technician','unemployed','unknown')\n",
        "3. - marital : marital status (categorical: 'divorced','married','single','unknown'; note: 'divorced' means divorced or widowed)\n",
        "4. - education (categorical: 'basic.4y','basic.6y','basic.9y','high.school','illiterate','professional.course','university.degree','unknown')\n",
        "5. - default: has credit in default? (categorical: 'no','yes','unknown')\n",
        "6. - housing: has housing loan? (categorical: 'no','yes','unknown')\n",
        "7. - loan: has personal loan? (categorical: 'no','yes','unknown')\n",
        "8. - contact: contact communication type (categorical: 'cellular','telephone')\n",
        "9. - month: last contact month of year (categorical: 'jan', 'feb', 'mar', ..., 'nov', 'dec')\n",
        "10. - day_of_week: last contact day of the week (categorical: 'mon','tue','wed','thu','fri')\n",
        "11. - duration: last contact duration, in seconds (numeric). Important note: this attribute highly affects the output target (e.g., if duration=0 then y='no'). Yet, the duration is not known before a call is performed. Also, after the end of the call y is obviously known. Thus, this input should only be included for benchmark purposes and should be discarded if the intention is to have a realistic predictive model.\n",
        "12. - campaign: number of contacts performed during this campaign and for this client (numeric, includes last contact)\n",
        "13. - pdays: number of days that passed by after the client was last contacted from a previous campaign (numeric; 999 means client was not previously contacted)\n",
        "14. - previous: number of contacts performed before this campaign and for this client (numeric)\n",
        "15. - poutcome: outcome of the previous marketing campaign (categorical: 'failure','nonexistent','success')\n",
        "16. - emp.var.rate: employment variation rate - quarterly indicator (numeric)\n",
        "17. - cons.price.idx: consumer price index - monthly indicator (numeric)\n",
        "18. - cons.conf.idx: consumer confidence index - monthly indicator (numeric)\n",
        "19. - euribor3m: euribor 3 month rate - daily indicator (numeric)\n",
        "20. - nr.employed: number of employees - quarterly indicator (numeric)\n",
        "21. - balance - average yearly balance, in euros (numeric)\n",
        "22. - y - has the client subscribed a term deposit? (binary: 'yes','no')\n",
        "\n",
        "## The SMART Questions\n",
        "\n",
        "The SMART questions are as follows:\n",
        "\n",
        "## Importing the libraries\n"
      ],
      "id": "19c4135f"
    },
    {
      "cell_type": "code",
      "metadata": {},
      "source": [
        "import numpy as np \n",
        "import pandas as pd \n",
        "import os \n",
        "import matplotlib.pyplot as plt\n",
        "%matplotlib inline\n",
        "import warnings\n",
        "\n",
        "from scipy.stats import zscore\n",
        "import seaborn as sns\n",
        "import scipy.stats as stats\n",
        "import statsmodels.api as sm\n",
        "import statsmodels.formula.api as smf\n",
        "import statsmodels.stats.api as sms\n",
        "import statsmodels.stats.multicomp as mc\n",
        "import statsmodels.stats.outliers_influence as influence\n",
        "import statsmodels.stats.diagnostic as diag\n",
        "import statsmodels.stats.stattools as stattools\n",
        "import statsmodels.stats.anova as anova\n",
        "import statsmodels.stats.weightstats as weightstats\n",
        "import statsmodels.stats.libqsturng as libqsturng\n",
        "import statsmodels.stats.power as power\n",
        "import statsmodels.stats.proportion as proportion\n",
        "import statsmodels.stats.contingency_tables as contingency_tables\n",
        "import statsmodels.stats.multitest as multitest\n",
        "import statsmodels.stats.diagnostic as diagnostic\n",
        "import statsmodels.stats.correlation_tools as correlation_tools\n",
        "from statsmodels.formula.api import ols\n",
        "import researchpy as rp\n",
        "import scipy.stats as stats\n",
        "import seaborn as sns\n",
        "# Import label encoder\n",
        "from sklearn import preprocessing\n",
        "warnings.filterwarnings('ignore')\n",
        "sns.set_theme(style=\"whitegrid\")"
      ],
      "id": "a71e70a7",
      "execution_count": null,
      "outputs": []
    },
    {
      "cell_type": "code",
      "metadata": {},
      "source": [
        "from sklearn.model_selection import train_test_split\n",
        "from imblearn.over_sampling import SMOTE\n",
        "from sklearn.ensemble import RandomForestClassifier\n",
        "from sklearn.svm import SVC, LinearSVC\n",
        "from sklearn.naive_bayes import GaussianNB\n",
        "from sklearn.neighbors import KNeighborsClassifier\n",
        "from sklearn.preprocessing import scale\n",
        "from sklearn.cluster import KMeans"
      ],
      "id": "a5cf876f",
      "execution_count": null,
      "outputs": []
    },
    {
      "cell_type": "code",
      "metadata": {},
      "source": [
        "from sklearn.linear_model import LogisticRegression\n",
        "from sklearn import metrics\n",
        "from sklearn.metrics import accuracy_score\n",
        "from sklearn.metrics import confusion_matrix \n",
        "from sklearn.metrics import classification_report\n",
        "from sklearn.feature_selection import RFE\n",
        "from sklearn.tree import DecisionTreeClassifier\n",
        "from matplotlib import pyplot"
      ],
      "id": "22f09a29",
      "execution_count": null,
      "outputs": []
    },
    {
      "cell_type": "markdown",
      "metadata": {},
      "source": [
        "## Importing the dataset\n"
      ],
      "id": "ce8f6c39"
    },
    {
      "cell_type": "code",
      "metadata": {},
      "source": [
        "inputFile = \"primary.csv\"\n",
        "df = pd.read_csv(inputFile)"
      ],
      "id": "36f3cab7",
      "execution_count": null,
      "outputs": []
    },
    {
      "cell_type": "markdown",
      "metadata": {},
      "source": [
        "## Basic Information about the data\n"
      ],
      "id": "fe042887"
    },
    {
      "cell_type": "code",
      "metadata": {},
      "source": [
        "print(df.shape)\n",
        "print(df.head())\n",
        "print(df.tail())\n",
        "print(df.columns)\n",
        "print(df.shape)\n",
        "print(df.dtypes)\n",
        "print(df.isnull().sum())\n",
        "print(df.isnull().sum().sum())\n",
        "print(df.info())\n",
        "print(df.describe())"
      ],
      "id": "cfaaf95c",
      "execution_count": null,
      "outputs": []
    },
    {
      "cell_type": "markdown",
      "metadata": {},
      "source": [
        "# Exploratory Data Analysis (EDA)\n",
        "## Analysing the variables \n",
        "### Job Description\n"
      ],
      "id": "91e15100"
    },
    {
      "cell_type": "code",
      "metadata": {},
      "source": [
        "# JOB\n",
        "plt.figure(figsize = (8, 5))\n",
        "sns.countplot(data=df,y='job',hue='y')\n",
        "plt.title(\"Type of Job Distribution\")"
      ],
      "id": "03d0913e",
      "execution_count": null,
      "outputs": []
    },
    {
      "cell_type": "markdown",
      "metadata": {},
      "source": [
        "People in management, technical are more likely to subscibe to the term deposit  \n",
        "\n",
        "\n",
        "### Marital "
      ],
      "id": "1c09338d"
    },
    {
      "cell_type": "code",
      "metadata": {},
      "source": [
        "# MARITAL\n",
        "plt.figure(figsize = (8, 5))\n",
        "sns.countplot(data=df,y='marital',hue='y')\n",
        "plt.title(\"Type of marital Distribution\")"
      ],
      "id": "20af90ca",
      "execution_count": null,
      "outputs": []
    },
    {
      "cell_type": "code",
      "metadata": {},
      "source": [
        "# EDUCATION \n",
        "plt.figure(figsize = (8, 5))\n",
        "sns.countplot(data=df,y='education',hue='y')\n",
        "plt.title(\"Type of education Distribution\")"
      ],
      "id": "08e4be2e",
      "execution_count": null,
      "outputs": []
    },
    {
      "cell_type": "markdown",
      "metadata": {},
      "source": [
        "### Loan"
      ],
      "id": "78d92469"
    },
    {
      "cell_type": "code",
      "metadata": {},
      "source": [
        "# DEFAULT\n",
        "sns.countplot(data=df,y='default',hue='y')\n",
        "plt.title(\"Type of default Distribution\")"
      ],
      "id": "59ca6633",
      "execution_count": null,
      "outputs": []
    },
    {
      "cell_type": "markdown",
      "metadata": {},
      "source": [
        "So people who do not paid back there loans and have credits, have not subcribed to the term deposit. \n"
      ],
      "id": "034ce5f2"
    },
    {
      "cell_type": "code",
      "metadata": {},
      "source": [
        "# HOUSING\n",
        "sns.countplot(data=df,y='housing',hue='y')\n",
        "plt.title(\"Type of housing Distribution\")"
      ],
      "id": "c3cb7582",
      "execution_count": null,
      "outputs": []
    },
    {
      "cell_type": "code",
      "metadata": {},
      "source": [
        "# LOAN\n",
        "sns.countplot(data=df,y='loan',hue='y')\n",
        "plt.title(\"Type of Loan Distribution\")"
      ],
      "id": "08c76e74",
      "execution_count": null,
      "outputs": []
    },
    {
      "cell_type": "markdown",
      "metadata": {},
      "source": [
        "* people who have loans are subscribing to term deposit less. \n",
        "\n",
        "### Contact"
      ],
      "id": "d832ed11"
    },
    {
      "cell_type": "code",
      "metadata": {},
      "source": [
        "# CONTACT\n",
        "sns.countplot(data=df,y='contact',hue='y')\n",
        "plt.title(\"Type of Contact Distribution\")"
      ],
      "id": "8f4eeeff",
      "execution_count": null,
      "outputs": []
    },
    {
      "cell_type": "markdown",
      "metadata": {},
      "source": [
        "* since the type of communication(cellular and telephone) is not really a good indicator of subcription, we drop this variable.  \n",
        "\n",
        "#### Month"
      ],
      "id": "3a8bc634"
    },
    {
      "cell_type": "code",
      "metadata": {},
      "source": [
        "# MONTH\n",
        "sns.countplot(x ='month',hue='y', data = df)\n",
        "plt.title(\"Type of Months Distribution\")"
      ],
      "id": "15030003",
      "execution_count": null,
      "outputs": []
    },
    {
      "cell_type": "code",
      "metadata": {},
      "source": [
        "def pieChart(x_var,title):\n",
        "    yesNo = df.groupby(x_var).size()\n",
        "    yesNo.plot(kind='pie', title=title, figsize=[8,8],\n",
        "          autopct=lambda p: '{:.2f}%({:.0f})'.format(p,(p/100)*yesNo.sum()))\n",
        "    plt.show()"
      ],
      "id": "ad9a1504",
      "execution_count": null,
      "outputs": []
    },
    {
      "cell_type": "markdown",
      "metadata": {},
      "source": [
        "### Term Deposit \n",
        "Distribution of y(target) variable "
      ],
      "id": "6cfc8e24"
    },
    {
      "cell_type": "code",
      "metadata": {},
      "source": [
        "pieChart('y','Percentage of yes and no target(term deposit)in dataset')"
      ],
      "id": "7665572f",
      "execution_count": null,
      "outputs": []
    },
    {
      "cell_type": "markdown",
      "metadata": {},
      "source": [
        "only 11.7% of enteries are for y=1, so our dataset is unbalanced. \n"
      ],
      "id": "6492998a"
    },
    {
      "cell_type": "code",
      "metadata": {},
      "source": [
        "# POUTCOME\n",
        "pieChart('poutcome','Distribution of poutcome in dataset')\n",
        "df.poutcome.value_counts()\n",
        "df.groupby('poutcome').size()"
      ],
      "id": "2c70af68",
      "execution_count": null,
      "outputs": []
    },
    {
      "cell_type": "markdown",
      "metadata": {},
      "source": [
        "There are *36959   unknown* values and  1840 values with other category.\n",
        "Since, 82% of entries are unknown, 4.07% other, we will directly drop this column. \n",
        "\n",
        "\n",
        "\n",
        "## Age, duration and balance"
      ],
      "id": "2ab175d8"
    },
    {
      "cell_type": "code",
      "metadata": {},
      "source": [
        "# plotting violen plot for duration and balance \n",
        "\n",
        "f, axes = plt.subplots(1, 2,sharex=True)\n",
        "axes[0].set_title('For duration')\n",
        "sns.violinplot( x='y',y='duration',  split=True, inner=\"quart\", ax=axes[0], data=df)\n",
        "axes[1].set_title('For balance')\n",
        "sns.violinplot( x='y',y='balance',  split=True, inner=\"quart\", ax=axes[1], data=df)\n",
        "sns.despine(left=True)\n",
        "plt.show()"
      ],
      "id": "96653947",
      "execution_count": null,
      "outputs": []
    },
    {
      "cell_type": "markdown",
      "metadata": {},
      "source": [
        "* There are outliers in duration and balance so we need to get rid of them. \n",
        "* people who have a high balance, are more likely to subscribe to term deposit. \n"
      ],
      "id": "4505c1cb"
    },
    {
      "cell_type": "code",
      "metadata": {},
      "source": [
        "sns.violinplot( x='y',y='age',  split=True, inner=\"quart\", data=df)\n",
        "plt.title('Age distribution for each response variable')\n",
        "plt.show()"
      ],
      "id": "84964cc6",
      "execution_count": null,
      "outputs": []
    },
    {
      "cell_type": "markdown",
      "metadata": {},
      "source": [
        "* No outliers \n",
        "* People who are old are more likely to subscribe to term deposit. \n",
        "\n",
        "\n",
        "### Day \n",
        "\n",
        "# Summary  \n",
        "## Data Cleaning \n",
        "\n",
        "* Contact is not useful so we drop it.\n",
        "* In poutcome, we have a lot of missing values so we drop it.  \n",
        "* Day is not giving any relevant infomation so we drop it. \n",
        "* Removing the unknowns \n",
        "* Remove the outliers from balance and duration.\n",
        "\n",
        "## Data Visualization\n",
        "\n",
        "# Data Cleaning \n",
        "\n",
        "## Dropping the column "
      ],
      "id": "6d6b685c"
    },
    {
      "cell_type": "code",
      "metadata": {},
      "source": [
        "clean_data = df.drop(['contact','poutcome','day'],axis=1)"
      ],
      "id": "7381d2aa",
      "execution_count": null,
      "outputs": []
    },
    {
      "cell_type": "markdown",
      "metadata": {},
      "source": [
        "## Removing unknown from job and education"
      ],
      "id": "2f826454"
    },
    {
      "cell_type": "code",
      "metadata": {},
      "source": [
        "for i in clean_data.columns:\n",
        "    if clean_data[i].dtype == np.int64:\n",
        "        pass\n",
        "    else:\n",
        "        \n",
        "        # printing names and count using loop.\n",
        "        for idx, name in enumerate(clean_data[i].value_counts().index.tolist()):\n",
        "            if name == 'unknown' or name == 'other':\n",
        "                print(f\"for {i}\")\n",
        "                print(f\"{name} : {clean_data[i].value_counts()[idx]}\")\n",
        "                if clean_data[i].value_counts()[idx] < 15000:\n",
        "                    print(f\"dropping rows with value as {name} in {i}\")\n",
        "                    clean_data = clean_data[clean_data[i] != name]"
      ],
      "id": "a18cf42b",
      "execution_count": null,
      "outputs": []
    },
    {
      "cell_type": "markdown",
      "metadata": {},
      "source": [
        "## Dropping the rows \n",
        "\n",
        "\n",
        "### Dropping the rows where values are 3SD away \n",
        "\n",
        "*Balance - Outliers* \n"
      ],
      "id": "5598613f"
    },
    {
      "cell_type": "code",
      "metadata": {},
      "source": [
        "standard_deviation = clean_data[['balance']].std()\n",
        "mean = clean_data[['balance']].mean()\n",
        "clean_data['balance_outliers'] = clean_data['balance']\n",
        "clean_data['balance_outliers']= zscore(clean_data['balance_outliers'])\n",
        "print(f\"removing entries before {mean - 3*standard_deviation } and after {mean + 3*standard_deviation }\")\n",
        "three_SD = (clean_data['balance_outliers']>3) | (clean_data['balance_outliers']<-3 )\n",
        "clean_data = clean_data.drop(clean_data[three_SD].index, axis = 0, inplace = False)\n",
        "clean_data = clean_data.drop('balance_outliers', axis=1)"
      ],
      "id": "befc8e79",
      "execution_count": null,
      "outputs": []
    },
    {
      "cell_type": "markdown",
      "metadata": {},
      "source": [
        "*Duration - Outliers*\n",
        "\n",
        "### Dropping rows where the duration of calls is less than 5sec since that is irrelevant "
      ],
      "id": "353974cc"
    },
    {
      "cell_type": "code",
      "metadata": {},
      "source": [
        "less_5 = (clean_data['duration']<5)\n",
        "clean_data = clean_data.drop(clean_data[less_5].index, axis = 0, inplace = False)"
      ],
      "id": "0d7ba870",
      "execution_count": null,
      "outputs": []
    },
    {
      "cell_type": "markdown",
      "metadata": {},
      "source": [
        "Changing unit of duration from seconds to minutes to make more sense\n"
      ],
      "id": "40f42662"
    },
    {
      "cell_type": "code",
      "metadata": {},
      "source": [
        "clean_data['duration'] = clean_data['duration'].apply(lambda n:n/60).round(2)"
      ],
      "id": "f2513a60",
      "execution_count": null,
      "outputs": []
    },
    {
      "cell_type": "markdown",
      "metadata": {},
      "source": [
        "# Data Visualization \n",
        "\n",
        "### Contact versus Subscription month wise\n",
        "\n",
        "### Number of calls versus Duration and affect on subscription"
      ],
      "id": "07defe09"
    },
    {
      "cell_type": "code",
      "metadata": {},
      "source": [
        "import seaborn as sns\n",
        "dur_cam = sns.lmplot(x='duration', y='campaign',data = clean_data,\n",
        "                     hue = 'y',\n",
        "                     fit_reg = False,\n",
        "                     scatter_kws={'alpha':0.6}, height =7)\n",
        "\n",
        "plt.axis([0,65,0,65])\n",
        "plt.ylabel('Number of Calls')\n",
        "plt.xlabel('Duration of Calls (Minutes)')\n",
        "plt.title('The Relationship between the Number and Duration of Calls (with y)')\n",
        "\n",
        "# Annotation\n",
        "plt.axhline(y=5, linewidth=2, color=\"k\", linestyle='--')\n",
        "plt.annotate('Higher subscription rate when number of calls <5 ',xytext = (35,13),\n",
        "             arrowprops=dict(color = 'k', width=1),xy=(30,6))\n",
        "plt.show()"
      ],
      "id": "53a19926",
      "execution_count": null,
      "outputs": []
    },
    {
      "cell_type": "markdown",
      "metadata": {},
      "source": [
        "Checking between pdays and previous as well\n",
        "\n",
        "13. - pdays: number of days that passed by after the client was last contacted from a previous campaign (numeric; 999 means client was not previously contacted)\n",
        "14. - previous: number of contacts performed before this campaign and for this client (numeric)"
      ],
      "id": "ab2770ac"
    },
    {
      "cell_type": "code",
      "metadata": {},
      "source": [
        "import seaborn as sns\n",
        "dur_cam = sns.lmplot(x='pdays', y='previous',data = clean_data,\n",
        "                     hue = 'y',\n",
        "                     fit_reg = False,\n",
        "                     scatter_kws={'alpha':0.6}, height =7)\n",
        "\n",
        "# plt.axis([0,65,0,65])\n",
        "plt.ylabel('pdays')\n",
        "plt.xlabel('previous')\n",
        "plt.title('The Relationship between number of contacts  and last contactbefore this campaign (with y)')\n",
        "\n",
        "plt.show()"
      ],
      "id": "0b8ae5e9",
      "execution_count": null,
      "outputs": []
    },
    {
      "cell_type": "markdown",
      "metadata": {},
      "source": [
        "### Smart Question \n",
        "Based on last contact info only number of contacts performed during this campaign is contributing a lot towards subscription rates. \n",
        "\n",
        "\n",
        "### Month wise subscription"
      ],
      "id": "8314d4f5"
    },
    {
      "cell_type": "code",
      "metadata": {},
      "source": [
        "#converting y values \n",
        "# bankdata['y'] = bankdata['y'].apply(lambda x: 'no' if x == 'yes' else 1)\n",
        "# bankdata['y'] = bankdata['y'].astype('category')\n",
        "\n",
        "#value count for each month\n",
        "month = clean_data['month'].value_counts().rename_axis('month').reset_index(name='counts')\n",
        "#for sequencing the month\n",
        "m1_list=['jan','feb','mar','apr','may','jun','jul','aug','sep','nov','dec']\n",
        "m1=pd.DataFrame(m1_list,columns=['month'])\n",
        "#now the dataset is sequeced\n",
        "month = m1.merge(month)\n",
        "#month - counts\n",
        "#% of people contacted in that month \n",
        "month['Contact Rate'] = month['counts']*100/month['counts'].sum()\n",
        "#percentage of people contacted in that month \n",
        "# y response \n",
        "month_y = pd.crosstab(clean_data['y'],clean_data['month']).apply(lambda x: x/x.sum() * 100)\n",
        "#% of 0 and 1 for each month \n",
        "month_y = month_y.transpose()\n",
        "month_y.rename(columns = {'y':'month',0:'no', 1:'yes'}, inplace = True)\n",
        "\n",
        "# month_y\n",
        "# y | no% | yes%"
      ],
      "id": "fecf9503",
      "execution_count": null,
      "outputs": []
    },
    {
      "cell_type": "code",
      "metadata": {},
      "source": [
        "#month = month.merge(month_y)\n",
        "month['yes'] = \" \"\n",
        "month['no'] = \" \"\n",
        "#to make it in sequence \n",
        "def addingCrossTab(): \n",
        "    for i, val in enumerate(m1_list):\n",
        "        #print (i, \",\",val)\n",
        "        month['yes'].iloc[i]=month_y.loc[val].loc['yes']\n",
        "        #print(month_y.loc[val].loc['yes'])\n",
        "        month['no'].iloc[i]=month_y.loc[val].loc['no']\n",
        "        \n",
        "addingCrossTab()  \n",
        "#print(month)      \n",
        "#print(month_y)\n",
        "# month['Subscription Rate'] = month_y['yes']\n",
        "# month['% NotSubscription'] = month_y['no']\n",
        "month.rename(columns = {'yes':'Subscription Rate','no':'NotSubscribed Rate'}, inplace = True)\n",
        "#month.drop('month_int',axis = 1,inplace = True)\n",
        "print(month)"
      ],
      "id": "8c024f2b",
      "execution_count": null,
      "outputs": []
    },
    {
      "cell_type": "code",
      "metadata": {},
      "source": [
        "plot_month = month[['month','Subscription Rate','Contact Rate']].plot(x='month',kind ='line',\n",
        "                                                          figsize = (10,6),\n",
        "                                                          marker = 'o')\n",
        "\n",
        "plt.title('Subscription vs. Contact Rate by Month')\n",
        "plt.ylabel('Subscription and Contact Rate')\n",
        "plt.xlabel('Month')"
      ],
      "id": "545549e1",
      "execution_count": null,
      "outputs": []
    },
    {
      "cell_type": "markdown",
      "metadata": {},
      "source": [
        "Maximum percentage of people have subscribed in the month of March but bank is contacting people more in the month of May. \n",
        "So it's better to contact customer's based on the subcription rate plot. \n",
        "\n",
        "# Checking the Financially stable population"
      ],
      "id": "be0b0d78"
    },
    {
      "cell_type": "code",
      "metadata": {},
      "source": [
        "data_vis = clean_data.copy()"
      ],
      "id": "43e7f48c",
      "execution_count": null,
      "outputs": []
    },
    {
      "cell_type": "markdown",
      "metadata": {},
      "source": [
        "## Job "
      ],
      "id": "6e71e462"
    },
    {
      "cell_type": "code",
      "metadata": {},
      "source": [
        "y_job = pd.crosstab(data_vis['y'],data_vis['job']).apply(lambda x: x/x.sum() * 100)\n",
        "y_job = y_job.transpose()\n",
        "\n",
        "y_job.rename(columns = {'y':'job',0:'no', 1:'yes'}, inplace = True)\n",
        "jobs_sub = y_job['yes'].sort_values(ascending = True).plot(kind ='barh')\n",
        "                                                                               \n",
        "plt.title('Subscription Rate by Job')\n",
        "plt.xlabel('Subscription Rate')\n",
        "plt.ylabel('Job Category')\n",
        "# Label each bar\n",
        "for patch_i, label in zip(jobs_sub.patches,\n",
        "                      y_job['yes'].sort_values(ascending = True).round(1).astype(str)):\n",
        "    jobs_sub.text(patch_i.get_width()+1.5, \n",
        "                  patch_i.get_y()+ patch_i.get_height()-0.5, \n",
        "                  label+'%', \n",
        "                  ha = 'center', \n",
        "                  va='bottom')"
      ],
      "id": "d9df4b68",
      "execution_count": null,
      "outputs": []
    },
    {
      "cell_type": "code",
      "metadata": {},
      "source": [
        "job_contact=  data_vis['job'].value_counts().rename_axis('job').reset_index(name='counts')        \n",
        "job_contact['Contact Rate']= job_contact['counts']*100/job_contact['counts'].sum()  \n",
        "job_contact['Contact Rate'] = job_contact['Contact Rate'].round(2)\n",
        "job_contact=job_contact.drop(['counts'],axis=1)\n",
        "\n",
        "# job_contact['Contact Rate']= job_contact['Contact Rate'].sort_values(ascending = False)\n",
        "job_contact_plot = job_contact.plot(x='job',kind ='barh')  \n",
        "#.plot(kind ='barh')                                                \n",
        "plt.title('Contact Rate by Job')\n",
        "plt.xlabel('Contact Rate')\n",
        "plt.ylabel('Job Category')\n",
        "# Label each bar\n",
        "for patch_i, label in zip(job_contact_plot.patches,\n",
        "                      job_contact['Contact Rate'].astype(str)):\n",
        "    job_contact_plot.text(patch_i.get_width()+1.5, \n",
        "                  patch_i.get_y()+ patch_i.get_height()-0.5, \n",
        "                  label+'%', \n",
        "                  ha = 'center', \n",
        "                  va='bottom')"
      ],
      "id": "f8e3cf37",
      "execution_count": null,
      "outputs": []
    },
    {
      "cell_type": "markdown",
      "metadata": {},
      "source": [
        "People in blue color and managemnet jobs are contacted more, which should not be the case. \n",
        "\n",
        "## Balance"
      ],
      "id": "91385d59"
    },
    {
      "cell_type": "code",
      "metadata": {},
      "source": [
        "#max = 10399\n",
        "#min = -6847\n",
        "def balance_group(bal):\n",
        "    balGroup = 'Negative' if bal < 0 else 'low balance' if bal < 1000 else 'moderate balance' if bal < 2500 else 'high balance'\n",
        "    return balGroup\n",
        "data_vis['balGroup'] = data_vis['balance'].apply(balance_group)"
      ],
      "id": "5a41c69d",
      "execution_count": null,
      "outputs": []
    },
    {
      "cell_type": "markdown",
      "metadata": {},
      "source": [
        "checking the subscription based on y value "
      ],
      "id": "40ff40e7"
    },
    {
      "cell_type": "code",
      "metadata": {},
      "source": [
        "y_balance = pd.crosstab(data_vis['y'],data_vis['balGroup']).apply(lambda x: x/x.sum() * 100)\n",
        "y_balance = y_balance.transpose()"
      ],
      "id": "9b68f363",
      "execution_count": null,
      "outputs": []
    },
    {
      "cell_type": "markdown",
      "metadata": {},
      "source": [
        "Cheking the subscriptions in each balance groups "
      ],
      "id": "0311bdb2"
    },
    {
      "cell_type": "code",
      "metadata": {},
      "source": [
        "bal = pd.DataFrame(data_vis['balGroup'].value_counts().rename_axis('balGroup').reset_index(name='counts'))\n",
        "bal_y = bal.merge(y_balance,on='balGroup')\n",
        "\n",
        "bal_y['% Contacted'] = bal_y['counts']*100/bal_y['counts'].sum()\n",
        "bal_y['% Subscription'] = bal_y[1]\n",
        "bal_y.rename(columns = {'y':'month',0:'no', 1:'yes'}, inplace = True)\n",
        "\n",
        "bal_y = bal_y.drop(['counts','no','yes'],axis=1)\n",
        "print(bal_y)\n",
        "\n",
        "bal_list = ['Negative','low balance', 'moderate balance','high balance']\n",
        "balanceGroupInfo =pd.DataFrame(bal_list,columns=['balanceGroup'])\n",
        "balanceGroupInfo['Contact Rate'] = \" \"\n",
        "balanceGroupInfo['Subscription Rate'] = \" \"\n",
        "bal_y = bal_y.set_index(['balGroup'])\n",
        "\n",
        "\n",
        "for i,val in enumerate(bal_list):\n",
        "     balanceGroupInfo['Contact Rate'].iloc[i]=bal_y.loc[val].loc['% Contacted']\n",
        "     balanceGroupInfo['Subscription Rate'].iloc[i]=bal_y.loc[val].loc['% Subscription']\n",
        "print(balanceGroupInfo)\n",
        "#bal['bal'] = [1,2,0,3]\n",
        "#bal = bal.sort_values('bal',ascending = True)"
      ],
      "id": "72fb3936",
      "execution_count": null,
      "outputs": []
    },
    {
      "cell_type": "code",
      "metadata": {},
      "source": [
        "balanceGroupInfo.plot(x='balanceGroup', kind='bar', stacked=False,\n",
        "        title='Balance Group Contact Rates and Subscription')\n",
        "plt.show()"
      ],
      "id": "b829b936",
      "execution_count": null,
      "outputs": []
    },
    {
      "cell_type": "markdown",
      "metadata": {},
      "source": [
        "People with moderate to high balance, are contacted less but they have high subscription rates so bank should target them more. \n",
        "\n",
        "\n",
        "Balance Group versus Job "
      ],
      "id": "75715834"
    },
    {
      "cell_type": "code",
      "metadata": {},
      "source": [
        "# add the values for 1 \n",
        "job_balance = pd.DataFrame(data_vis.groupby(['job','balGroup'])['y'].sum())\n",
        "# total number of values \n",
        "job_balance_count = pd.DataFrame(data_vis.groupby(['job','balGroup'])['y'].count())\n",
        "\n",
        "job_balance['y'] = (job_balance['y']/job_balance_count['y'])*100\n",
        "job_balance = job_balance.unstack()\n",
        "job_balance = job_balance.plot(kind='bar',figsize = (10,6))\n",
        "plt.title('Subscription Rates for each balance group in job category')"
      ],
      "id": "9ef37ecb",
      "execution_count": null,
      "outputs": []
    },
    {
      "cell_type": "markdown",
      "metadata": {},
      "source": [
        "Student and Retired are more likely to subscribe and usually have moderate to high balance. \n"
      ],
      "id": "3c3e132e"
    },
    {
      "cell_type": "code",
      "metadata": {},
      "source": [
        "job_balance_count1 = job_balance_count.unstack()\n",
        "job_balance_count1 = job_balance_count1.plot(kind='bar',figsize = (10,6))\n",
        "plt.title('Contact for each balance group in job category')"
      ],
      "id": "47459230",
      "execution_count": null,
      "outputs": []
    },
    {
      "cell_type": "markdown",
      "metadata": {},
      "source": [
        "## Loan \n",
        "covered loan in initial EDA "
      ],
      "id": "6e5d3624"
    },
    {
      "cell_type": "code",
      "metadata": {},
      "source": [
        "data_encode = data_vis.copy()"
      ],
      "id": "cd9f5061",
      "execution_count": null,
      "outputs": []
    },
    {
      "cell_type": "markdown",
      "metadata": {},
      "source": [
        "# Getting Data Ready for Modelling \n",
        "\n",
        "## Encoding\n",
        "\n",
        "One Hot Encoding "
      ],
      "id": "ca664cb8"
    },
    {
      "cell_type": "code",
      "metadata": {},
      "source": [
        "data_encode = pd.get_dummies(data_encode, columns = ['housing'])\n",
        "data_encode = pd.get_dummies(data_encode, columns = ['loan'])\n",
        "data_encode = pd.get_dummies(data_encode, columns = ['default'])\n",
        "data_encode = pd.get_dummies(data_encode, columns = ['job'])\n",
        "data_encode = pd.get_dummies(data_encode, columns = ['education'])\n",
        "data_encode = pd.get_dummies(data_encode, columns = ['marital'])"
      ],
      "id": "769b3f48",
      "execution_count": null,
      "outputs": []
    },
    {
      "cell_type": "markdown",
      "metadata": {},
      "source": [
        "Sin - Cos encoding "
      ],
      "id": "4db3ac75"
    },
    {
      "cell_type": "code",
      "metadata": {},
      "source": [
        "import math\n",
        "from math import pi\n",
        "def sin_transformation(x):\n",
        "    x=x-1\n",
        "    sin_x = math.sin((2*pi*x)/11)\n",
        "    return sin_x\n",
        "def cos_transformation(x):\n",
        "    x=x-1\n",
        "    cos_x = math.cos((2*pi*x)/11)\n",
        "    return cos_x\n",
        "data_encode['sin_month'] = data_encode['month_int'].apply(sin_transformation) \n",
        "data_encode['cos_month'] = data_encode['month_int'].apply(cos_transformation)  "
      ],
      "id": "5b40af6b",
      "execution_count": null,
      "outputs": []
    },
    {
      "cell_type": "code",
      "metadata": {},
      "source": [
        "sns.scatterplot(data=data_encode,x='sin_month',y='cos_month')"
      ],
      "id": "7274fb02",
      "execution_count": null,
      "outputs": []
    },
    {
      "cell_type": "markdown",
      "metadata": {},
      "source": [
        "Label Encoding "
      ],
      "id": "5224c1d8"
    },
    {
      "cell_type": "code",
      "metadata": {},
      "source": [
        "data_encode= data_encode.drop(['month'],axis=1)\n",
        "#data_encode= data_encode.drop(['month_int'],axis=1)\n",
        "data_encode = data_encode.drop(['balGroup'],axis=1)\n",
        "data_encode = data_encode.drop(['pdays'],axis=1)"
      ],
      "id": "0054603a",
      "execution_count": null,
      "outputs": []
    },
    {
      "cell_type": "markdown",
      "metadata": {},
      "source": [
        "Checkpoint"
      ],
      "id": "526b2134"
    },
    {
      "cell_type": "code",
      "metadata": {},
      "source": [
        "#data_encode.to_csv('Dataset/final_encoded.csv',index=False)\n",
        "#data_encode =  pd.read_csv('Dataset/final_encoded.csv')"
      ],
      "id": "8073e5fa",
      "execution_count": null,
      "outputs": []
    },
    {
      "cell_type": "code",
      "metadata": {},
      "source": [
        "data_model = data_encode.copy()"
      ],
      "id": "6ae45b3a",
      "execution_count": null,
      "outputs": []
    },
    {
      "cell_type": "markdown",
      "metadata": {},
      "source": [
        "### Dropping the unecessary varibles for modelling "
      ],
      "id": "9ae9c66d"
    },
    {
      "cell_type": "code",
      "metadata": {},
      "source": [
        "data_model=data_model.drop(['cons.conf.idx', 'emp.var.rate', 'euribor3m', 'nr.employed',\n",
        "       'cons.price.idx'],axis=1)"
      ],
      "id": "26c070b0",
      "execution_count": null,
      "outputs": []
    },
    {
      "cell_type": "markdown",
      "metadata": {},
      "source": [
        "# Splitting our Dataset "
      ],
      "id": "db190407"
    },
    {
      "cell_type": "code",
      "metadata": {},
      "source": [
        "#dropping y to extract x variables \n",
        "x = data_model.drop(['y'],axis=1)\n",
        "#y variables\n",
        "y = data_model['y']\n",
        "#splitting the dataset \n",
        "x_train,x_test,y_train,y_test = train_test_split(x,y,test_size=0.2)"
      ],
      "id": "72dfb662",
      "execution_count": null,
      "outputs": []
    },
    {
      "cell_type": "markdown",
      "metadata": {},
      "source": [
        "# Balancing Our Dataset"
      ],
      "id": "d9ebd62b"
    },
    {
      "cell_type": "code",
      "metadata": {},
      "source": [
        "sm = SMOTE(random_state=42)\n",
        "train_sx, train_sy = sm.fit_resample(x_train, y_train)\n",
        "test_sx, test_sy = sm.fit_resample(x_test, y_test)\n",
        "#printing x and y values \n",
        "np.bincount(train_sy)"
      ],
      "id": "e9f55f75",
      "execution_count": null,
      "outputs": []
    },
    {
      "cell_type": "code",
      "metadata": {},
      "source": [
        "train_sx['sin_month'] = train_sx['month_int'].apply(sin_transformation) \n",
        "train_sx['cos_month'] = train_sx['month_int'].apply(cos_transformation) \n",
        "\n",
        "sns.scatterplot(data=train_sx,x='sin_month',y='cos_month')"
      ],
      "id": "b684c1de",
      "execution_count": null,
      "outputs": []
    },
    {
      "cell_type": "code",
      "metadata": {},
      "source": [
        "train_sx= train_sx.drop(['month_int'],axis=1)\n",
        "test_sx=test_sx.drop(['month_int'],axis=1)"
      ],
      "id": "5333f979",
      "execution_count": null,
      "outputs": []
    },
    {
      "cell_type": "code",
      "metadata": {},
      "source": [
        "x_train= x_train.drop(['month_int'],axis=1)\n",
        "x_test=x_test.drop(['month_int'],axis=1)"
      ],
      "id": "d269dd3b",
      "execution_count": null,
      "outputs": []
    },
    {
      "cell_type": "markdown",
      "metadata": {},
      "source": [
        "Checkpoint 2"
      ],
      "id": "b3da8af4"
    },
    {
      "cell_type": "code",
      "metadata": {},
      "source": [
        "train_balanced = pd.concat([train_sx, train_sy], axis=1)\n",
        "train_unbalanced = pd.concat([x_train, y_train], axis=1)\n",
        "\n",
        "test_unbalanced = pd.concat([x_test, y_test], axis=1)\n",
        "test_balanced = pd.concat([test_sx, test_sy], axis=1)\n",
        "\n",
        "# train_balanced.to_csv('Dataset/train_balanced.csv',index=False)\n",
        "# train_unbalanced.to_csv('Dataset/train_unbalanced.csv',index=False)\n",
        "# test_unbalanced.to_csv('Dataset/test_unbalanced.csv',index=False)\n",
        "# test_balanced.to_csv('Dataset/test_balanced.csv',index=False)\n",
        "# print(\"Before Smote\")\n",
        "# print(f\"for training : {np.bincount(y_train)}\")\n",
        "# print(f\"for testing : {np.bincount(y_test)}\")\n",
        "# print(\"After smote\")\n",
        "# print(f\"for training : {np.bincount(y_res)}\")\n",
        "# print(f\"for testing : {np.bincount(test_sy)}\")"
      ],
      "id": "76f25d1e",
      "execution_count": null,
      "outputs": []
    },
    {
      "cell_type": "code",
      "metadata": {},
      "source": [
        "balanced_train= pd.read_csv('Dataset/train_balanced.csv')\n",
        "balanced_test= pd.read_csv('Dataset/test_balanced.csv')\n",
        "unbalanced_train= pd.read_csv('Dataset/train_unbalanced.csv')\n",
        "unbalanced_test= pd.read_csv('Dataset/train_unbalanced.csv')"
      ],
      "id": "5336e794",
      "execution_count": null,
      "outputs": []
    },
    {
      "cell_type": "code",
      "metadata": {},
      "source": [
        "from sklearn.preprocessing import StandardScaler\n",
        "# define standard scaler\n",
        "scaler = StandardScaler()\n",
        "# transform data\n",
        "balanced_train[['age','balance','duration']]= scaler.fit_transform(balanced_train[['age','balance','duration']])\n",
        "\n",
        "balanced_test[['age','balance','duration']]= scaler.fit_transform(balanced_test[['age','balance','duration']])\n",
        "\n",
        "unbalanced_train[['age','balance','duration']]= scaler.fit_transform(unbalanced_train[['age','balance','duration']])\n",
        "\n",
        "unbalanced_test[['age','balance','duration']]= scaler.fit_transform(unbalanced_test[['age','balance','duration']])"
      ],
      "id": "356613d4",
      "execution_count": null,
      "outputs": []
    },
    {
      "cell_type": "code",
      "metadata": {},
      "source": [
        "x_train = unbalanced_train.drop(['y'],axis=1)\n",
        "x_test = unbalanced_test.drop(['y'],axis=1)\n",
        "y_train = unbalanced_train['y']\n",
        "y_test = unbalanced_test['y']"
      ],
      "id": "1c2e47ce",
      "execution_count": null,
      "outputs": []
    },
    {
      "cell_type": "code",
      "metadata": {},
      "source": [
        "bx_train = balanced_train.drop(['y'],axis=1)\n",
        "bx_test = balanced_test.drop(['y'],axis=1)\n",
        "by_train = balanced_train['y']\n",
        "by_test = balanced_test['y']"
      ],
      "id": "21d733cb",
      "execution_count": null,
      "outputs": []
    },
    {
      "cell_type": "code",
      "metadata": {},
      "source": [
        "# Modeling\n",
        "## Logistic Regression\n",
        "### Feature Selection \n",
        "\n",
        "rfe_model = RFE(LogisticRegression(solver='lbfgs', max_iter=1000), step= 25)\n",
        "rfe_model = rfe_model.fit(x_train,y_train)\n",
        "\n",
        "# feature selection\n",
        "print(rfe_model.support_)\n",
        "print(rfe_model.ranking_)\n",
        "\n",
        "selected_columns = x_train.columns[rfe_model.support_]\n",
        "print(selected_columns.tolist())"
      ],
      "id": "57b928e6",
      "execution_count": null,
      "outputs": []
    },
    {
      "cell_type": "code",
      "metadata": {},
      "source": [
        "X_train_final = x_train[selected_columns.tolist()]\n",
        "X_test_final = x_test[selected_columns.tolist()]"
      ],
      "id": "93fb4edf",
      "execution_count": null,
      "outputs": []
    },
    {
      "cell_type": "code",
      "metadata": {},
      "source": [
        "lr = LogisticRegression(random_state=123)\n",
        "lr.fit(x_train, y_train)\n",
        "y_pred = lr.predict(x_test)\n",
        "print(f\"Accuracy for training set {accuracy_score(y_train, lr.predict(x_train))}\")\n",
        "print(f\"Accuracy for testing set {accuracy_score(y_test, y_pred)}\")\n",
        "print(f\"Confusion matrix \\n{confusion_matrix(y_test, y_pred)}\")\n",
        "print(f\"{classification_report(y_test, y_pred)}\")"
      ],
      "id": "0e000b00",
      "execution_count": null,
      "outputs": []
    },
    {
      "cell_type": "code",
      "metadata": {},
      "source": [
        "classifiers = [lr]"
      ],
      "id": "05c68dc3",
      "execution_count": null,
      "outputs": []
    },
    {
      "cell_type": "code",
      "metadata": {},
      "source": [
        "from sklearn.metrics import ConfusionMatrixDisplay\n",
        "#ConfusionMatrixDisplay.from_estimator(lr, x_test, y_test)\n",
        "cut_off = 0.20\n",
        "precision = []\n",
        "recall = []\n",
        "accuracy =[]\n",
        "\n",
        "def checking_cutoff(cutoff):\n",
        "    predictions = (lr.predict_proba(x_test)[:,1]>cutoff).astype(int)\n",
        "    ConfusionMatrixDisplay.from_estimator(lr, x_test, y_test)\n",
        "    print(f\"cutoff = {cutoff:.2f}\")\n",
        "    dictionary = classification_report(y_test, predictions,output_dict=True)\n",
        "    #plot_confusion_matrix(lr, x_test, y_test)\n",
        "    #plt.show()\n",
        "    #accuracy.append(float(dictionary['accuracy']))\n",
        "    print(f\"Accuracy : {dictionary['accuracy']:.2f}\\nPrecision : {dictionary['1']['precision']:.2f} \\nRecall : {dictionary['1']['recall']:.2f}\")\n",
        "    print(f\"Confusion matrix \\n{confusion_matrix(y_test, predictions)}\")\n",
        "\n",
        "cutoffs = np.linspace(0,0.5,5)\n",
        "for i in cutoffs:\n",
        "    checking_cutoff(i)\n",
        "print(\"\\nReady to continue.\")"
      ],
      "id": "d4c89dd1",
      "execution_count": null,
      "outputs": []
    },
    {
      "cell_type": "code",
      "metadata": {},
      "source": [
        "# Precision-Recall vs Threshold\n",
        "from sklearn.linear_model import LogisticRegression\n",
        "#y_pred=logit.predict(x_test)\n",
        "y_pred_probs=lr.predict_proba(x_test) \n",
        "# probs_y is a 2-D array of probability of being labeled as 0 (first \n",
        "# column of array) vs 1 (2nd column in array)\n",
        "\n",
        "from sklearn import metrics\n",
        "from sklearn.metrics import precision_recall_curve\n",
        "precision, recall, thresholds = precision_recall_curve(y_test, y_pred_probs[:, 1]) \n",
        "#retrieve probability of being 1(in second column of probs_y)\n",
        "pr_auc = metrics.auc(recall, precision)\n",
        "\n",
        "plt.title(\"Precision-Recall vs Threshold Chart\")\n",
        "plt.plot(thresholds, precision[: -1], \"b--\", label=\"Precision\")\n",
        "plt.plot(thresholds, recall[: -1], \"r--\", label=\"Recall\")\n",
        "plt.ylabel(\"Precision, Recall\")\n",
        "plt.xlabel(\"Threshold\")\n",
        "plt.legend(loc=\"lower left\")\n",
        "plt.ylim([0,1])\n",
        "\n",
        "print(\"\\nReady to continue.\")"
      ],
      "id": "11507478",
      "execution_count": null,
      "outputs": []
    },
    {
      "cell_type": "markdown",
      "metadata": {},
      "source": [
        "Based on this curve, we would choose the cut off value as 0.25\n",
        "\n",
        "Roc - Auc Curve "
      ],
      "id": "e0022b09"
    },
    {
      "cell_type": "code",
      "metadata": {},
      "source": [
        "# Receiver Operator Characteristics (ROC)\n",
        "# Area Under the Curve (AUC)\n",
        "from sklearn.metrics import roc_auc_score, roc_curve\n",
        "\n",
        "# generate a no skill prediction (majority class)\n",
        "ns_probs = [0 for _ in range(len(y_test))]\n",
        "# predict probabilities\n",
        "lr_probs = lr.predict_proba(x_test)\n",
        "# keep probabilities for the positive outcome only\n",
        "lr_probs = lr_probs[:, 1]\n",
        "# calculate scores\n",
        "ns_auc = roc_auc_score(y_test, ns_probs)\n",
        "lr_auc = roc_auc_score(y_test, lr_probs)\n",
        "# summarize scores\n",
        "print('No Skill: ROC AUC=%.3f' % (ns_auc))\n",
        "print('Logistic: ROC AUC=%.3f' % (lr_auc))\n",
        "# calculate roc curves\n",
        "ns_fpr, ns_tpr, _ = roc_curve(y_test, ns_probs)\n",
        "lr_fpr, lr_tpr, _ = roc_curve(y_test, lr_probs)\n",
        "# plot the roc curve for the model\n",
        "plt.plot(ns_fpr, ns_tpr, linestyle='--', label='No Skill')\n",
        "plt.plot(lr_fpr, lr_tpr, marker='.', label='Logistic')\n",
        "# aXis labels\n",
        "plt.xlabel('False Positive Rate')\n",
        "plt.ylabel('True Positive Rate')\n",
        "# show the legend\n",
        "plt.legend()\n",
        "# show the plot\n",
        "plt.show()"
      ],
      "id": "4ca412c9",
      "execution_count": null,
      "outputs": []
    },
    {
      "cell_type": "markdown",
      "metadata": {},
      "source": [
        "# KNN \n"
      ],
      "id": "a9210b36"
    },
    {
      "cell_type": "code",
      "metadata": {},
      "source": [
        "acc = []\n",
        "prec = []\n",
        "# Will take some time\n",
        "from sklearn import metrics\n",
        "for i in range(1,40):\n",
        "    neigh = KNeighborsClassifier(n_neighbors = i).fit(x_train,y_train)\n",
        "    y_pred = neigh.predict(x_test)\n",
        "    acc.append(metrics.accuracy_score(y_test, y_pred))\n",
        "    prec.append((metrics.average_precision_score(y_test, y_pred)))"
      ],
      "id": "9d3ad1ec",
      "execution_count": null,
      "outputs": []
    },
    {
      "cell_type": "code",
      "metadata": {},
      "source": [
        "plt.figure(figsize=(10,6))\n",
        "plt.plot(range(1,40),acc,color = 'blue',linestyle='dashed', \n",
        "         marker='o',markerfacecolor='red', markersize=10)\n",
        "plt.title('accuracy vs. K Value')\n",
        "plt.xlabel('K')\n",
        "plt.ylabel('Accuracy')\n",
        "print(\"Maximum accuracy:-\",max(acc),\"at K =\",acc.index(max(acc)))"
      ],
      "id": "4545126f",
      "execution_count": null,
      "outputs": []
    },
    {
      "cell_type": "code",
      "metadata": {},
      "source": [
        "plt.figure(figsize=(10,6))\n",
        "plt.plot(range(1,40),prec,color = 'blue',linestyle='dashed', \n",
        "         marker='o',markerfacecolor='red', markersize=10)\n",
        "plt.title('precision vs. K Value')\n",
        "plt.xlabel('K')\n",
        "plt.ylabel('Precision')\n",
        "print(\"Maximum Precision:-\",max(prec),\"at K =\",prec.index(max(prec)))"
      ],
      "id": "f3b9d064",
      "execution_count": null,
      "outputs": []
    },
    {
      "cell_type": "code",
      "metadata": {},
      "source": [
        "mrroger = 3\n",
        "knn = KNeighborsClassifier(n_neighbors=mrroger) # instantiate with n value given\n",
        "knn.fit(x_train,y_train)\n",
        "y_pred = knn.predict(x_test)\n",
        "#y_pred = knn.predict_proba(x_test)\n",
        "print(accuracy_score(y_test, y_pred))\n",
        "print(confusion_matrix(y_test, y_pred))\n",
        "print(classification_report(y_test, y_pred))"
      ],
      "id": "042fcbba",
      "execution_count": null,
      "outputs": []
    }
  ],
  "metadata": {
    "kernelspec": {
      "name": "python3",
      "language": "python",
      "display_name": "Python 3 (ipykernel)"
    }
  },
  "nbformat": 4,
  "nbformat_minor": 5
}